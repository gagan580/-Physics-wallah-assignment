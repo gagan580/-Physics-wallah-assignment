{
  "cells": [
    {
      "cell_type": "markdown",
      "metadata": {
        "id": "view-in-github",
        "colab_type": "text"
      },
      "source": [
        "<a href=\"https://colab.research.google.com/github/gagan580/-Physics-wallah-assignment/blob/main/Assignment_5_PW.ipynb\" target=\"_parent\"><img src=\"https://colab.research.google.com/assets/colab-badge.svg\" alt=\"Open In Colab\"/></a>"
      ]
    },
    {
      "cell_type": "code",
      "execution_count": null,
      "metadata": {
        "id": "naEuxpnrvq3M"
      },
      "outputs": [],
      "source": [
        "#Q1- What is the difference between interpreted and compiled languages?\n",
        "#Answer-The key difference between interpreted and compiled languages lies in how they are executed by a computer.\n",
        "\n",
        "#1. **Compiled Languages**:\n",
        "  # - **Compilation Process**: The source code is first translated (compiled) into machine code (binary) by a compiler before execution. The output is an executable file, which can run directly on the hardware.\n",
        "  # - **Execution Speed**: Since the code is precompiled, compiled languages generally run faster because the translation happens only once.\n",
        "  # - **Examples**: C, C++, Rust, Go.\n",
        "\n",
        "#2. **Interpreted Languages**:\n",
        "  # - **Interpretation Process**: The source code is executed line-by-line by an interpreter, which translates the code to machine code at runtime, without producing an intermediate executable file.\n",
        " #  - **Execution Speed**: Interpreted languages tend to be slower because each line of code is interpreted on the fly.\n",
        "  # - **Examples**: Python, JavaScript, Ruby, PHP.\n",
        "\n",
        "#Some languages use a **hybrid approach**, where they are first compiled to an intermediate form (like Java bytecode or Python bytecode) and then interpreted at runtime."
      ]
    },
    {
      "cell_type": "code",
      "execution_count": null,
      "metadata": {
        "colab": {
          "base_uri": "https://localhost:8080/"
        },
        "id": "mcmZrHMdwkw5",
        "outputId": "5ea6464e-4255-4c6b-dac8-028f7e45cfd3"
      },
      "outputs": [
        {
          "name": "stdout",
          "output_type": "stream",
          "text": [
            "You can't divide by zero!\n",
            "This will always run.\n"
          ]
        }
      ],
      "source": [
        "#Q2- What is exception handling in Python0\n",
        "#Answer-Exception handling in Python refers to the process of dealing with runtime errors, also known as exceptions, in a controlled manner. Instead of allowing the program to crash when an error occurs, Python provides mechanisms to catch and handle errors using `try`, `except`, `else`, and `finally` blocks.\n",
        "\n",
        "#Here's how it works:\n",
        "\n",
        "#1. **`try` block**: Code that might cause an exception is placed inside the `try` block.\n",
        "#2. **`except` block**: If an exception occurs in the `try` block, the program immediately jumps to the `except` block where you can handle the error.\n",
        "#3. **`else` block**: If no exception occurs in the `try` block, the `else` block will execute.\n",
        "#4. **`finally` block**: Code in the `finally` block will always execute, regardless of whether an exception occurred or not (often used for cleanup actions).\n",
        "\n",
        "### Example:\n",
        "\n",
        "#```python\n",
        "try:\n",
        "    x = 10 / 0  # This will raise a ZeroDivisionError\n",
        "except ZeroDivisionError:\n",
        "    print(\"You can't divide by zero!\")\n",
        "else:\n",
        "    print(\"No exceptions occurred.\")\n",
        "finally:\n",
        "    print(\"This will always run.\")\n",
        "#```\n",
        "\n",
        "### Output:\n",
        "#```\n",
        "#You can't divide by zero!\n",
        "#This will always run.\n",
        "#```\n",
        "\n",
        "#In this example:\n",
        "#- The `ZeroDivisionError` is raised inside the `try` block, and it's caught by the `except` block.\n",
        "#- The `else` block does not execute because an exception was raised.\n",
        "#- The `finally` block executes regardless of the exception.\n",
        "\n",
        "#This helps to keep the program running smoothly even in the face of errors."
      ]
    },
    {
      "cell_type": "code",
      "execution_count": null,
      "metadata": {
        "colab": {
          "base_uri": "https://localhost:8080/",
          "height": 159
        },
        "id": "TsqsRQV2xXQd",
        "outputId": "4c191c9d-ee62-4f99-cbd0-67f61433e74c"
      },
      "outputs": [
        {
          "ename": "IndentationError",
          "evalue": "expected an indented block after 'try' statement on line 7 (<ipython-input-4-e8d289d6cfef>, line 9)",
          "output_type": "error",
          "traceback": [
            "\u001b[0;36m  File \u001b[0;32m\"<ipython-input-4-e8d289d6cfef>\"\u001b[0;36m, line \u001b[0;32m9\u001b[0m\n\u001b[0;31m    except SomeException:\u001b[0m\n\u001b[0m    ^\u001b[0m\n\u001b[0;31mIndentationError\u001b[0m\u001b[0;31m:\u001b[0m expected an indented block after 'try' statement on line 7\n"
          ]
        }
      ],
      "source": [
        "#Q3-What is the purpose of the finally block in exception handling0?\n",
        "#Answer-The `finally` block in exception handling is used to define code that will always execute, regardless of whether an exception is thrown or not. It is commonly used for cleanup operations, such as closing files, releasing resources, or disconnecting from a database.\n",
        "\n",
        "#Even if an exception is caught and handled or if no exception occurs, the code inside the `finally` block will run. This makes it useful for ensuring that certain actions are taken before the program exits or continues its execution. Here's a simple structure:\n",
        "\n",
        "#```python\n",
        "try:\n",
        "    # Code that might raise an exception\n",
        "except SomeException:\n",
        "    # Handle the exception\n",
        "finally:\n",
        "    # Cleanup code that always runs\n",
        "#```\n",
        "\n",
        "#For example, if you open a file in a `try` block, you can close it in the `finally` block, ensuring it gets closed even if an error occurs."
      ]
    },
    {
      "cell_type": "code",
      "execution_count": null,
      "metadata": {
        "colab": {
          "base_uri": "https://localhost:8080/"
        },
        "id": "gw4DAfCTyfwM",
        "outputId": "311a29b1-b3bd-4c35-c1aa-05f6e14de2c4"
      },
      "outputs": [
        {
          "name": "stderr",
          "output_type": "stream",
          "text": [
            "WARNING:root:This is a warning message\n",
            "ERROR:root:This is an error message\n",
            "CRITICAL:root:This is a critical message\n"
          ]
        }
      ],
      "source": [
        "#Q4- What is logging in Python?\n",
        "#Answer-Logging in Python refers to the process of recording messages from a program as it runs. It helps you track the flow of a program, monitor errors, debug issues, and analyze the behavior of your code. The `logging` module is part of the Python standard library and provides a flexible framework for logging messages with different severity levels.\n",
        "\n",
        "### Key Features of Python Logging:\n",
        "#1. **Severity Levels**: You can log messages with different levels of importance, such as:\n",
        "  # - `DEBUG`: Detailed information, typically useful for diagnosing problems.\n",
        "  # - `INFO`: General information about the program's operation.\n",
        "  # - `WARNING`: Indications of potential problems.\n",
        "  # - `ERROR`: Errors that might cause issues.\n",
        "  # - `CRITICAL`: Severe errors that likely cause the program to stop.\n",
        "\n",
        "#2. **Log Handlers**: You can configure where the log messages go, such as writing to a file, displaying on the console, or sending over a network.\n",
        "\n",
        "#3. **Log Format**: You can customize the output format, like including timestamps, log levels, and message content.\n",
        "\n",
        "### Example of Logging:\n",
        "#```python\n",
        "import logging\n",
        "\n",
        "# Configure the logging system\n",
        "logging.basicConfig(level=logging.DEBUG, format='%(asctime)s - %(levelname)s - %(message)s')\n",
        "\n",
        "# Log messages with different levels\n",
        "logging.debug(\"This is a debug message\")\n",
        "logging.info(\"This is an info message\")\n",
        "logging.warning(\"This is a warning message\")\n",
        "logging.error(\"This is an error message\")\n",
        "logging.critical(\"This is a critical message\")\n",
        "#```\n",
        "\n",
        "#In the above example:\n",
        "#- The `basicConfig` function sets the log level to `DEBUG`, meaning it will record messages at the level of `DEBUG` or higher.\n",
        "#- The log format includes the timestamp, log level, and the message.\n",
        "\n",
        "#This is a basic overview, but the `logging` module offers a lot of advanced features, such as logging to multiple destinations (e.g., files, external services), creating custom loggers, and more."
      ]
    },
    {
      "cell_type": "code",
      "execution_count": null,
      "metadata": {
        "colab": {
          "base_uri": "https://localhost:8080/"
        },
        "id": "RktsGIDHzC8m",
        "outputId": "990b8e95-f35d-48df-cc99-af3c0a044764"
      },
      "outputs": [
        {
          "name": "stdout",
          "output_type": "stream",
          "text": [
            "Object is being destroyed!\n"
          ]
        }
      ],
      "source": [
        "#Q5-What is the significance of the __del__ method in Python?\n",
        "#Answer- The __del__ method in Python is a special method, often referred to as a destructor. It is called when an object is about to be destroyed, usually when its reference count reaches zero (i.e., when no more references to the object exist). This allows you to perform any necessary cleanup operations before the object is removed from memory.\n",
        "#Some key points about the __del__ method:\n",
        "\n",
        "\n",
        "\n",
        "#Resource Cleanup: It's commonly used to close files, release network connections, or free other external resources that the object might have acquired during its lifetime.\n",
        "\n",
        "\n",
        "\n",
        "#Automatic Invocation: The __del__ method is not explicitly called; instead, Python's garbage collector invokes it when an object is no longer needed.\n",
        "\n",
        "\n",
        "\n",
        "#Uncertainty: The exact timing of when __del__ is called is not guaranteed, especially in complex programs that use cyclic references. Python's garbage collector may not immediately collect objects involved in cyclic dependencies, which can delay the execution of __del__.\n",
        "\n",
        "\n",
        "\n",
        "#Avoiding Exceptions: If __del__ raises an exception, it is ignored, and the object will still be destroyed. This means that exceptions within __del__ don't propagate to the user.\n",
        "\n",
        "\n",
        "\n",
        "#Example:\n",
        "class MyClass:\n",
        "    def __del__(self):\n",
        "        print(\"Object is being destroyed!\")\n",
        "\n",
        "obj = MyClass()\n",
        "del obj  # Explicitly calling del,\n",
        "\n",
        "#While __del__ can be useful for cleanup, in most cases it's better to use context managers (with statement) or explicit resource management (like calling close() for files) because the timing of __del__'s execution can sometimes be unpredictable."
      ]
    },
    {
      "cell_type": "code",
      "execution_count": null,
      "metadata": {
        "colab": {
          "base_uri": "https://localhost:8080/"
        },
        "id": "tS5wmbD_1aC9",
        "outputId": "227e5dcf-f36e-4483-b42f-5e016d017ddc"
      },
      "outputs": [
        {
          "name": "stdout",
          "output_type": "stream",
          "text": [
            "4.0\n",
            "4.0\n"
          ]
        }
      ],
      "source": [
        "#Q6- What is the difference between import and from ... import in Python0\n",
        "#Answer-In Python:\n",
        "\n",
        "#import: It imports the entire module, and you need to reference its functions or classes with the module name.\n",
        "\n",
        "import math\n",
        "print(math.sqrt(16))\n",
        "\n",
        "\n",
        "\n",
        "#from ... import: It imports specific functions, classes, or variables directly, allowing you to use them without referencing the module name.\n",
        "\n",
        "from math import sqrt\n",
        "print(sqrt(16))\n",
        "\n",
        "\n",
        "\n",
        "#In short, import brings in the whole module, while from ... import allows importing only specific elements from the module."
      ]
    },
    {
      "cell_type": "code",
      "execution_count": null,
      "metadata": {
        "colab": {
          "base_uri": "https://localhost:8080/"
        },
        "id": "wneJh3lL267N",
        "outputId": "688ab4f7-f295-4619-a35d-9c60f7c09993"
      },
      "outputs": [
        {
          "name": "stdout",
          "output_type": "stream",
          "text": [
            "An error occurred: invalid literal for int() with base 10: 'hello'\n"
          ]
        }
      ],
      "source": [
        "#Q7-How can you handle multiple exceptions in Python?\n",
        "#Answer-You can handle multiple exceptions in a single `except` block by specifying a tuple of exceptions:\n",
        "\n",
        "#```python\n",
        "try:\n",
        "    # code that might raise exceptions\n",
        "    x = int(\"hello\")\n",
        "except (ZeroDivisionError, ValueError) as e:\n",
        "    print(f\"An error occurred: {e}\")\n",
        "#```\n",
        "\n",
        "#This approach allows you to catch different types of exceptions in one block."
      ]
    },
    {
      "cell_type": "code",
      "execution_count": 43,
      "metadata": {
        "colab": {
          "base_uri": "https://localhost:8080/",
          "height": 367
        },
        "id": "qr76S8lZ3gVA",
        "outputId": "2d71f1b5-df05-4fce-b098-1ec9a5ac545e"
      },
      "outputs": [
        {
          "output_type": "error",
          "ename": "FileNotFoundError",
          "evalue": "[Errno 2] No such file or directory: 'file.txt'",
          "traceback": [
            "\u001b[0;31m---------------------------------------------------------------------------\u001b[0m",
            "\u001b[0;31mFileNotFoundError\u001b[0m                         Traceback (most recent call last)",
            "\u001b[0;32m<ipython-input-43-1e4d3d54d778>\u001b[0m in \u001b[0;36m<cell line: 0>\u001b[0;34m()\u001b[0m\n\u001b[1;32m      5\u001b[0m \u001b[0;34m\u001b[0m\u001b[0m\n\u001b[1;32m      6\u001b[0m \u001b[0;31m#```python\u001b[0m\u001b[0;34m\u001b[0m\u001b[0;34m\u001b[0m\u001b[0m\n\u001b[0;32m----> 7\u001b[0;31m \u001b[0;32mwith\u001b[0m \u001b[0mopen\u001b[0m\u001b[0;34m(\u001b[0m\u001b[0;34m'file.txt'\u001b[0m\u001b[0;34m,\u001b[0m \u001b[0;34m'r'\u001b[0m\u001b[0;34m)\u001b[0m \u001b[0;32mas\u001b[0m \u001b[0mfile\u001b[0m\u001b[0;34m:\u001b[0m\u001b[0;34m\u001b[0m\u001b[0;34m\u001b[0m\u001b[0m\n\u001b[0m\u001b[1;32m      8\u001b[0m     \u001b[0mcontent\u001b[0m \u001b[0;34m=\u001b[0m \u001b[0mfile\u001b[0m\u001b[0;34m.\u001b[0m\u001b[0mread\u001b[0m\u001b[0;34m(\u001b[0m\u001b[0;34m)\u001b[0m\u001b[0;34m\u001b[0m\u001b[0;34m\u001b[0m\u001b[0m\n\u001b[1;32m      9\u001b[0m     \u001b[0mprint\u001b[0m\u001b[0;34m(\u001b[0m\u001b[0mcontent\u001b[0m\u001b[0;34m)\u001b[0m\u001b[0;34m\u001b[0m\u001b[0;34m\u001b[0m\u001b[0m\n",
            "\u001b[0;31mFileNotFoundError\u001b[0m: [Errno 2] No such file or directory: 'file.txt'"
          ]
        }
      ],
      "source": [
        "#Q8-What is the purpose of the with statement when handling files in Python0?\n",
        "#Answer-The `with` statement in Python is used to handle files (and other resources) in a way that ensures they are properly opened and closed, even if an exception occurs. It simplifies resource management by automatically taking care of closing the file after the block of code is executed, so you don't have to manually close it.\n",
        "\n",
        "#Here’s an example:\n",
        "\n",
        "#```python\n",
        "with open('file.txt', 'r') as file:\n",
        "    content = file.read()\n",
        "    print(content)\n",
        "#```\n",
        "\n",
        "#In this case:\n",
        "#- The file is opened within the `with` block.\n",
        "#- After the block is executed, the file is automatically closed, even if an error occurs while reading.\n",
        "\n",
        "#This helps prevent issues like leaving files open unintentionally, which can lead to resource leaks or data corruption."
      ]
    },
    {
      "cell_type": "markdown",
      "metadata": {
        "id": "OkU4zmSw4kcD"
      },
      "source": [
        "Q9- What is the difference between multithreading and multiprocessing?\n",
        "Answer-The key difference between multithreading and multiprocessing lies in how they handle tasks:\n",
        "\n",
        "\n",
        "\n",
        "Multithreading:\n",
        "\n",
        "\n",
        "Definition: Involves multiple threads running within the same process.\n",
        "Shared memory: Threads share the same memory space, making communication between threads faster and easier but also more prone to race conditions.\n",
        "Use case: Best for tasks that are I/O-bound (e.g., file operations, network requests) because threads can wait for I/O operations while others continue executing.\n",
        "Limitation: Limited by the Global Interpreter Lock (GIL) in Python, meaning only one thread can execute Python bytecode at a time, making it less effective for CPU-bound tasks.\n",
        "\n",
        "\n",
        "\n",
        "Multiprocessing:\n",
        "\n",
        "\n",
        "Definition: Involves running multiple processes, each with its own memory space and resources.\n",
        "Independent memory: Each process has its own memory space, so no direct memory sharing occurs between processes.\n",
        "Use case: Best for CPU-bound tasks (e.g., heavy computation) since processes can run in parallel on different CPU cores.\n",
        "Advantage: Avoids the GIL limitation, allowing true parallel execution of tasks, making it more efficient for CPU-intensive operations.\n",
        "\n",
        "\n",
        "\n",
        "In summary:\n",
        "\n",
        "\n",
        "Multithreading is suitable for I/O-bound tasks and works within the same memory space.\n",
        "Multiprocessing is ideal for CPU-bound tasks and provides better parallelism by using separate memory spaces for each process."
      ]
    },
    {
      "cell_type": "markdown",
      "metadata": {
        "id": "HmATZsnS5D78"
      },
      "source": [
        "Q10-What are the advantages of using logging in a program\n",
        "#Answer Using logging in a program offers several advantages:\n",
        "\n",
        "\n",
        "\n",
        "Debugging and Troubleshooting: Logging allows developers to track what’s happening in the application, making it easier to identify where things went wrong when issues arise.\n",
        "\n",
        "\n",
        "\n",
        "Error Tracking: Logs can capture and store errors with detailed information (like stack traces, timestamps, and error codes) to help in pinpointing the root cause.\n",
        "\n",
        "\n",
        "\n",
        "Audit Trails: Logs create a record of actions taken in the application, which is useful for auditing, compliance, or understanding the sequence of events.\n",
        "\n",
        "\n",
        "\n",
        "Performance Monitoring: You can log performance-related metrics like response times and resource usage, helping to optimize the program and detect bottlenecks.\n",
        "\n",
        "\n",
        "\n",
        "Maintenance and Updates: As the application evolves, logs can provide insights into how the program behaves over time, highlighting areas that need attention or improvement.\n",
        "\n",
        "\n",
        "\n",
        "Non-Intrusive: Unlike print statements used for debugging, logging can be easily controlled via log levels (info, debug, warning, error) and configurations, allowing developers to disable or filter out unnecessary details in production environments.\n",
        "\n",
        "\n",
        "\n",
        "Reproducibility: Logs allow you to recreate conditions leading up to bugs or issues, aiding in reproducing and fixing problems, especially in complex or distributed systems.\n",
        "\n",
        "\n",
        "\n",
        "Monitoring in Production: In production, logs provide a real-time view of the application’s behavior, helping teams to monitor health, spot anomalies, and respond quickly to issues without interrupting the user experience.\n",
        "\n",
        "\n",
        "\n",
        "Documentation of Behavior: Logs document what the application is doing at any given time, which can be helpful for new developers or when revisiting the code after a long period.\n",
        "\n",
        "\n",
        "\n",
        "By using logging properly, you can ensure better software quality, faster issue resolution, and improved maintainability."
      ]
    },
    {
      "cell_type": "markdown",
      "metadata": {
        "id": "b4mm3dXJ5ebZ"
      },
      "source": [
        "Q11_What is memory management in Python?\n",
        "Answer-Memory management in Python refers to the process by which Python handles memory allocation, deallocation, and the overall lifecycle of objects in memory. Python uses an automatic memory management system, which primarily includes the following components:\n",
        "\n",
        "\n",
        "\n",
        "Automatic Memory Allocation: Python automatically allocates memory for new objects when they are created. This is done through the Python memory manager, which interacts with the operating system's memory to ensure there is enough space.\n",
        "\n",
        "\n",
        "\n",
        "Reference Counting: Python uses reference counting to keep track of the number of references to an object. Every object in Python has an associated reference count, which is incremented when a new reference to the object is created and decremented when a reference is deleted or goes out of scope. When the reference count reaches zero, meaning no references to the object remain, Python deallocates the object and frees the memory.\n",
        "\n",
        "\n",
        "\n",
        "Garbage Collection: In addition to reference counting, Python also uses a garbage collector to clean up cyclic references, where two or more objects reference each other in a cycle. This situation can prevent the reference count from reaching zero, leading to memory leaks if not handled. Python's garbage collector can detect and break such cycles, ensuring that memory is freed.\n",
        "\n",
        "\n",
        "\n",
        "Memory Pools (Pymalloc): Python uses a system called \"pymalloc\" to manage memory allocation for small objects (less than 512 bytes). Pymalloc allocates memory in blocks to minimize overhead and fragmentation, improving performance for small objects.\n",
        "\n",
        "\n",
        "\n",
        "Memory Optimization: Python includes several optimizations to reduce memory usage, such as the use of interning for strings and small integers. This means that Python reuses certain immutable objects, like small integers and frequently used strings, rather than creating new ones every time.\n",
        "\n",
        "\n",
        "\n",
        "Overall, Python's memory management is designed to be mostly transparent to the programmer, but understanding how it works can help write more efficient code and avoid memory issues."
      ]
    },
    {
      "cell_type": "code",
      "execution_count": null,
      "metadata": {
        "colab": {
          "base_uri": "https://localhost:8080/"
        },
        "id": "0EqgmyEw6AuU",
        "outputId": "29aad6ae-b69a-48e0-d29a-67e0055aa213"
      },
      "outputs": [
        {
          "name": "stdout",
          "output_type": "stream",
          "text": [
            "Error: Cannot divide by zero!\n",
            "This will always execute.\n",
            "Error: Cannot divide by zero!\n",
            "This will always execute.\n"
          ]
        }
      ],
      "source": [
        "#Q12- What are the basic steps involved in exception handling in Python0?\n",
        "#Answer- In Python, exception handling allows you to deal with errors in a controlled way and prevent the program from crashing unexpectedly. The basic steps involved in exception handling are as follows:#1. Try Block:\n",
        "\n",
        "#This is the block of code where you anticipate that an error might occur. It is the place where you write the code that could potentially raise an exception.\n",
        "#If no error occurs in this block, the code executes normally.\n",
        "\n",
        "try:\n",
        "    # Code that might raise an exception\n",
        "    result = 10 / 0\n",
        "\n",
        "#2. Except Block:\n",
        "\n",
        "#This block follows the try block. If an exception occurs in the try block, the code in the except block will be executed to handle the error.\n",
        "#You can specify the type of exception you want to handle, or use a general except to catch all exceptions.\n",
        "\n",
        "except ZeroDivisionError:\n",
        "    print(\"Error: Cannot divide by zero!\")\n",
        "\n",
        "#3. Else Block (Optional):\n",
        "\n",
        "#If no exception occurs in the try block, the code in the else block will be executed.\n",
        "#The else block is optional, and it is used for code that should only run when no exceptions are raised.\n",
        "\n",
        "else:\n",
        "    print(\"Division successful!\")\n",
        "\n",
        "#4. Finally Block (Optional):\n",
        "\n",
        "#The finally block will always be executed, regardless of whether an exception occurred or not. It is typically used for clean-up actions, such as closing files or releasing resources.\n",
        "#The finally block is optional, but it's useful for ensuring that certain code runs no matter what.\n",
        "\n",
        "finally:\n",
        "    print(\"This will always execute.\")\n",
        "\n",
        "#Example of Complete Exception Handling:\n",
        "try:\n",
        "    # Attempt division\n",
        "    result = 10 / 0\n",
        "except ZeroDivisionError:\n",
        "    # Handle division by zero error\n",
        "    print(\"Error: Cannot divide by zero!\")\n",
        "else:\n",
        "    # Code runs if no exception occurs\n",
        "    print(\"Division successful!\")\n",
        "finally:\n",
        "    # This code will always run\n",
        "    print(\"This will always execute.\")\n",
        "\n",
        "#Key Points:\n",
        "\n",
        "#try: Try block where you expect errors.\n",
        "#except: Block that handles specific exceptions.\n",
        "#else: Block executed if no exceptions occur.\n",
        "#finally: Block that runs no matter what, typically for cleanup.\n",
        "\n",
        "#This allows you to handle and recover from errors without crashing the program."
      ]
    },
    {
      "cell_type": "markdown",
      "metadata": {
        "id": "S-ZhA94x7Jlm"
      },
      "source": [
        "Q13-Why is memory management important in Python?\n",
        " Memory management in Python is important for several reasons:\n",
        "\n",
        "\n",
        "\n",
        "Efficient Resource Use: Python programs can be resource-intensive, especially when handling large datasets or performing complex computations. Proper memory management ensures that the program uses memory efficiently, preventing excessive consumption that could slow down the system or cause crashes.\n",
        "\n",
        "\n",
        "\n",
        "Avoiding Memory Leaks: Memory leaks occur when memory that is no longer needed is not properly released. This can result in progressively increasing memory usage, which may lead to performance issues or even program failure. Python's garbage collection system helps in managing this automatically, but it's still important to understand how it works.\n",
        "\n",
        "\n",
        "\n",
        "Performance Optimization: Efficient memory management can lead to faster execution of programs. When memory is used efficiently, programs can run with less overhead and avoid slowdowns due to excessive swapping or memory contention.\n",
        "\n",
        "\n",
        "\n",
        "Scalability: When working with large-scale applications or systems, good memory management is crucial for ensuring that the application can handle large amounts of data without running out of resources.\n",
        "\n",
        "\n",
        "\n",
        "Memory Control: In some cases, developers may need fine-grained control over memory for performance reasons. Understanding how memory works in Python, including concepts like references, garbage collection, and memory pools, allows developers to write more optimized code.\n",
        "\n",
        "\n",
        "\n",
        "Python uses automatic memory management via a garbage collector and memory pools, but a solid understanding of memory management concepts helps prevent issues related to memory allocation and deallocation."
      ]
    },
    {
      "cell_type": "code",
      "execution_count": null,
      "metadata": {
        "colab": {
          "base_uri": "https://localhost:8080/"
        },
        "id": "xEXwj32x7fmq",
        "outputId": "8b34329b-3bb9-49ab-887c-98a64675aa89"
      },
      "outputs": [
        {
          "name": "stdout",
          "output_type": "stream",
          "text": [
            "You can't divide by zero!\n"
          ]
        }
      ],
      "source": [
        "#Q14-  What is the role of try and except in exception handling?\n",
        "#Answer-\n",
        "#try block: This is where you write the code that might raise an exception. If an error occurs in this block, Python will immediately stop executing the remaining code in the try block and jump to the except block.\n",
        "\n",
        "\n",
        "\n",
        "#except block: If an exception is raised in the try block, the except block catches the error and handles it, preventing the program from crashing. It allows you to define how to deal with the exception, such as logging the error, retrying the operation, or providing an informative message to the user.\n",
        "\n",
        "\n",
        "\n",
        "#Here’s an example:\n",
        "\n",
        "try:\n",
        "    x = 10 / 0  # This will raise a ZeroDivisionError\n",
        "except ZeroDivisionError:\n",
        "    print(\"You can't divide by zero!\")\n",
        "\n",
        "#In this example, attempting to divide by zero in the try block would cause an error. The except block catches the ZeroDivisionError and prints a message instead of letting the program crash.\n",
        "\n",
        "#Using try and except improves the program’s reliability and robustness by handling errors and allowing the program to continue running."
      ]
    },
    {
      "cell_type": "markdown",
      "metadata": {
        "id": "K46MAtpJ--xg"
      },
      "source": [
        "Q15-\n",
        "How does Python's garbage collection system ?\n",
        "Answer-work Python's garbage collection system primarily works by automatically managing memory allocation and deallocation to prevent memory leaks. The system is designed around two key components: reference counting and cycle detection.\n",
        "\n",
        "\n",
        "\n",
        "Reference Counting:\n",
        "\n",
        "\n",
        "Every object in Python has a reference count, which tracks how many references point to that object.\n",
        "When an object's reference count drops to zero (meaning no part of the program is using it anymore), the object is immediately deallocated, and its memory is freed.\n",
        "\n",
        "\n",
        "\n",
        "Cycle Detection (Garbage Collector):\n",
        "\n",
        "\n",
        "While reference counting handles most cases, it can't handle circular references (e.g., two objects referencing each other, but no other references pointing to them).\n",
        "Python's garbage collector can detect and clean up these circular references by identifying groups of objects that are no longer reachable.\n",
        "The garbage collector is implemented in the gc module, and it periodically runs in the background, checking for and cleaning up objects involved in reference cycles.\n",
        "\n",
        "\n",
        "\n",
        "Garbage Collection Process:\n",
        "\n",
        "\n",
        "Python's garbage collector runs in generations: objects are grouped into three generations based on how long they have been around.\n",
        "\n",
        "Generation 0: New objects.\n",
        "Generation 1: Objects that have survived one garbage collection cycle.\n",
        "Generation 2: Objects that have survived multiple garbage collection cycles.\n",
        "\n",
        "\n",
        "Objects that survive longer are less likely to become garbage, so the garbage collector focuses more on younger generations.\n",
        "\n",
        "\n",
        "\n",
        "Manual Control:\n",
        "\n",
        "\n",
        "While Python handles garbage collection automatically, you can influence it using the gc module to manually trigger garbage collection, disable it, or tune the collector’s behavior.\n",
        "\n",
        "\n",
        "\n",
        "This combined system of reference counting and cycle detection ensures that Python manages memory efficiently, even in complex scenarios involving circular references."
      ]
    },
    {
      "cell_type": "code",
      "execution_count": null,
      "metadata": {
        "colab": {
          "base_uri": "https://localhost:8080/"
        },
        "id": "89AWRDji_XuF",
        "outputId": "e8ed4124-fb45-409a-a546-02b0422bd8b2"
      },
      "outputs": [
        {
          "name": "stdout",
          "output_type": "stream",
          "text": [
            "The division was successful, result is: 5.0\n"
          ]
        }
      ],
      "source": [
        "#Q16-What is the purpose of the else block in exception handling?\n",
        "#Answer-In exception handling, the `else` block is used to define code that should run if no exceptions were raised in the `try` block. It allows you to specify actions that should occur when the `try` block executes successfully without encountering any errors.\n",
        "\n",
        "#Here’s the typical flow:\n",
        "\n",
        "#1. The `try` block is executed.\n",
        "#2. If an exception occurs, it is caught by the `except` block.\n",
        "#3. If no exception occurs, the `else` block is executed.\n",
        "\n",
        "#This structure helps keep the normal flow of the program separate from the error-handling logic. The `else` block is particularly useful when you want to run some code that should only execute when there is no exception, such as completing a task that requires no errors to occur beforehand.\n",
        "\n",
        "#Here’s an example in Python:\n",
        "\n",
        "#```python\n",
        "try:\n",
        "    result = 10 / 2\n",
        "except ZeroDivisionError:\n",
        "    print(\"Error: Division by zero.\")\n",
        "else:\n",
        "    print(\"The division was successful, result is:\", result)\n",
        "#```\n",
        "\n",
        "#In this example:\n",
        "#- If the division in the `try` block is successful, the `else` block will run.\n",
        "#- If a `ZeroDivisionError` occurs, the `except` block will handle it, and the `else` block will be skipped."
      ]
    },
    {
      "cell_type": "code",
      "execution_count": null,
      "metadata": {
        "id": "5BWBdLgtAiB1"
      },
      "outputs": [],
      "source": [
        "#Q17- What are the common logging levels in Python?\n",
        "#Answer-In Python, the `logging` module provides several standard logging levels, which allow you to categorize the severity of log messages. These levels, in increasing order of severity, are:\n",
        "\n",
        "#1. **DEBUG**: Detailed information, typically useful for diagnosing problems. It is the most verbose level.\n",
        "\n",
        "#2. **INFO**: General information about the program's execution. It provides a high-level summary of what the program is doing.\n",
        "\n",
        "#3. **WARNING**: Indicates a potential problem or something that may require attention in the future, but it's not an immediate issue.\n",
        "\n",
        "#4. **ERROR**: Indicates a more serious problem that has caused part of the program to fail, but the program may still be running.\n",
        "\n",
        "#5. **CRITICAL**: Indicates a very serious error, often leading to the termination of the program or a significant part of it.\n",
        "\n",
        "#You can configure logging to display messages for specific levels and filter out messages that are less severe than the chosen level."
      ]
    },
    {
      "cell_type": "markdown",
      "metadata": {
        "id": "PgoBs5H7BVcL"
      },
      "source": [
        "Q18-What is the difference between os.fork() and multiprocessing in Python0\n",
        " Answer-The main difference between os.fork() and the multiprocessing module in Python lies in how they create and manage processes:\n",
        "\n",
        "1. os.fork()\n",
        "\n",
        "Low-level process creation: os.fork() is a low-level system call that creates a child process by duplicating the parent process. The child process gets a copy of the parent's memory, file descriptors, etc.\n",
        "Platform: It is only available on Unix-like systems (Linux, macOS). It does not work on Windows.\n",
        "Parent-Child process: After the fork(), both the parent and child processes continue execution, but fork() returns a different value in each process:\n",
        "\n",
        "0 in the child process.\n",
        "The process ID (PID) of the child in the parent process.\n",
        "\n",
        "\n",
        "No process management: With os.fork(), you need to manually manage the processes (e.g., using os.wait() to wait for the child process to finish).\n",
        "\n",
        "2. multiprocessing module\n",
        "\n",
        "High-level process management: The multiprocessing module is a high-level interface to create and manage separate processes in a more Pythonic way. It provides process pools, inter-process communication (IPC), and shared memory, making it easier to work with processes.\n",
        "Cross-platform: The multiprocessing module works on both Unix-like systems and Windows, which is a major advantage over os.fork().\n",
        "Process pools: You can create process pools to manage a large number of processes more efficiently and even use parallel computation in a more abstract way.\n",
        "IPC and synchronization: It supports shared memory objects, queues, pipes, and locks for inter-process communication and synchronization, which simplifies the complexity of managing concurrent tasks.\n",
        "\n",
        "Summary\n",
        "\n",
        "os.fork() is a low-level Unix-specific system call that directly creates child processes, requiring manual management.\n",
        "multiprocessing is a higher-level, cross-platform library that abstracts away many complexities of process management, supporting communication, synchronization, and process pooling, making it more suitable for Python applications."
      ]
    },
    {
      "cell_type": "code",
      "execution_count": 45,
      "metadata": {
        "colab": {
          "base_uri": "https://localhost:8080/",
          "height": 402
        },
        "id": "GPgWQpf5B6D5",
        "outputId": "2f683f6e-fd40-4c9c-f10c-2fffc918c3c4"
      },
      "outputs": [
        {
          "output_type": "error",
          "ename": "FileNotFoundError",
          "evalue": "[Errno 2] No such file or directory: 'file.txt'",
          "traceback": [
            "\u001b[0;31m---------------------------------------------------------------------------\u001b[0m",
            "\u001b[0;31mFileNotFoundError\u001b[0m                         Traceback (most recent call last)",
            "\u001b[0;32m<ipython-input-45-b677af290972>\u001b[0m in \u001b[0;36m<cell line: 0>\u001b[0;34m()\u001b[0m\n\u001b[1;32m     23\u001b[0m \u001b[0;31m#Example:\u001b[0m\u001b[0;34m\u001b[0m\u001b[0;34m\u001b[0m\u001b[0m\n\u001b[1;32m     24\u001b[0m \u001b[0;34m\u001b[0m\u001b[0m\n\u001b[0;32m---> 25\u001b[0;31m \u001b[0;32mwith\u001b[0m \u001b[0mopen\u001b[0m\u001b[0;34m(\u001b[0m\u001b[0;34m'file.txt'\u001b[0m\u001b[0;34m,\u001b[0m \u001b[0;34m'r'\u001b[0m\u001b[0;34m)\u001b[0m \u001b[0;32mas\u001b[0m \u001b[0mfile\u001b[0m\u001b[0;34m:\u001b[0m\u001b[0;34m\u001b[0m\u001b[0;34m\u001b[0m\u001b[0m\n\u001b[0m\u001b[1;32m     26\u001b[0m     \u001b[0mcontent\u001b[0m \u001b[0;34m=\u001b[0m \u001b[0mfile\u001b[0m\u001b[0;34m.\u001b[0m\u001b[0mread\u001b[0m\u001b[0;34m(\u001b[0m\u001b[0;34m)\u001b[0m\u001b[0;34m\u001b[0m\u001b[0;34m\u001b[0m\u001b[0m\n\u001b[1;32m     27\u001b[0m \u001b[0;31m# File is automatically closed here, no need to call file.close()\u001b[0m\u001b[0;34m\u001b[0m\u001b[0;34m\u001b[0m\u001b[0m\n",
            "\u001b[0;31mFileNotFoundError\u001b[0m: [Errno 2] No such file or directory: 'file.txt'"
          ]
        }
      ],
      "source": [
        "#Q19- What is the importance of closing a file in Python0\n",
        "#Answer-losing a file in Python is crucial for the following reasons:\n",
        "\n",
        "#Releasing Resources: When a file is opened, the operating system allocates resources (such as memory or file descriptors) to manage the file. Closing the file frees these resources, making them available for other operations.\n",
        "\n",
        "\n",
        "\n",
        "#Saving Changes: If you are writing to a file, closing it ensures that all changes are saved. Sometimes, data may be buffered, meaning it’s temporarily held in memory until the file is closed. Closing the file ensures that any pending data is written to the file.\n",
        "\n",
        "\n",
        "\n",
        "#Avoiding Data Corruption: Failing to close a file properly can lead to incomplete or corrupted data. When you write to a file, data may not be fully written until the file is closed.\n",
        "\n",
        "\n",
        "\n",
        "#Preventing File Locks: Some operating systems may lock files when they are open, meaning other processes can't access them. Closing a file releases this lock and allows other processes to access the file.\n",
        "\n",
        "\n",
        "\n",
        "#Best Practice:\n",
        "#It's a good practice to use the with statement to handle files, as it automatically closes the file when the block of code is done, even if an exception occurs.\n",
        "\n",
        "#Example:\n",
        "\n",
        "with open('file.txt', 'r') as file:\n",
        "    content = file.read()\n",
        "# File is automatically closed here, no need to call file.close()\n",
        "\n",
        "#This ensures that the file is closed safely and efficiently."
      ]
    },
    {
      "cell_type": "markdown",
      "metadata": {
        "id": "iJ4mQFPOCf9L"
      },
      "source": [
        "Q20-  What is the difference between file.read() and file.readline() in Python?\n",
        "Answer-In Python, both file.read() and file.readline() are used to read data from a file, but they operate differently in terms of how they retrieve the file's content.\n",
        "\n",
        "file.read():\n",
        "\n",
        "Reads the entire file: It reads the whole content of the file as a single string.\n",
        "Returns: The content of the file in one go as a string (or an empty string if the file is empty).\n",
        "Use case: When you need to process the entire content of a file at once, or when the file is not too large to fit into memory.\n",
        "\n",
        "file.readline():\n",
        "\n",
        "Reads one line at a time: It reads the next line from the file each time it is called.\n",
        "Returns: A string containing the content of the next line, including the newline character (\\n) at the end of the line.\n",
        "Use case: When you want to process the file line-by-line, which is useful when working with large files or when you need to process each line separately.\n",
        "\n",
        "Key Differences:\n",
        "\n",
        "\n",
        "Amount of data read:\n",
        "\n",
        "\n",
        "file.read() reads the entire file at once.\n",
        "file.readline() reads the file line by line.\n",
        "\n",
        "\n",
        "\n",
        "Memory usage:\n",
        "\n",
        "\n",
        "file.read() can consume a large amount of memory if the file is big, as it loads everything at once.\n",
        "file.readline() is more memory efficient for large files since it only loads one line at a time.\n",
        "\n",
        "\n",
        "\n",
        "Return type:\n",
        "\n",
        "\n",
        "file.read() returns a single string with the entire content of the file.\n",
        "file.readline() returns a string representing the next line of the file each time it is called.\n",
        "\n",
        "\n",
        "\n",
        "Example:\n",
        "with open('file.txt', 'r') as file:\n",
        "    # Using file.read()\n",
        "    content = file.read()\n",
        "    print(content)\n",
        "    \n",
        "    # Using file.readline()\n",
        "    file.seek(0)  # Rewind the file\n",
        "    line = file.readline()\n",
        "    while line:\n",
        "        print(line, end='')\n",
        "        line = file.readline()\n",
        "\n",
        "In summary:\n",
        "\n",
        "\n",
        "Use file.read() for small files or when you need all the content at once.\n",
        "Use file.readline() for large files or when you need to process each line individually."
      ]
    },
    {
      "cell_type": "code",
      "execution_count": null,
      "metadata": {
        "colab": {
          "base_uri": "https://localhost:8080/"
        },
        "id": "u1uOp2-xf5Be",
        "outputId": "c9a3c8eb-010e-4d54-a2fd-71c7a2322dbd"
      },
      "outputs": [
        {
          "name": "stderr",
          "output_type": "stream",
          "text": [
            "WARNING:root:This is a warning message.\n",
            "ERROR:root:This is an error message.\n",
            "CRITICAL:root:This is a critical message.\n"
          ]
        }
      ],
      "source": [
        "#Q21-What is the logging module in Python used for0?\n",
        "#Answer-The `logging` module in Python is used for tracking and recording events that occur while a program is running. It provides a flexible framework for outputting log messages to different destinations, such as the console, files, or remote servers. This module allows developers to monitor the program's execution, debug issues, and keep a record of events, including errors, warnings, and informational messages.\n",
        "\n",
        "#Key features of the `logging` module include:\n",
        "#1. **Logging levels**: You can set the severity of the messages (e.g., DEBUG, INFO, WARNING, ERROR, CRITICAL).\n",
        "#2. **Log handlers**: Allows you to direct logs to various outputs, such as console (`StreamHandler`), files (`FileHandler`), or external systems.\n",
        "#3. **Log formatting**: Customizes how the logs appear, including timestamps, log level, and the message itself.\n",
        "#4. **Loggers**: Objects that provide the interface for logging messages and are configurable for different parts of your application.\n",
        "\n",
        "#For example, a simple use of the `logging` module might look like this:\n",
        "\n",
        "#```python\n",
        "import logging\n",
        "\n",
        "# Set up basic configuration\n",
        "logging.basicConfig(level=logging.INFO)\n",
        "\n",
        "# Example log messages\n",
        "logging.debug(\"This is a debug message.\")\n",
        "logging.info(\"This is an info message.\")\n",
        "logging.warning(\"This is a warning message.\")\n",
        "logging.error(\"This is an error message.\")\n",
        "logging.critical(\"This is a critical message.\")\n",
        "#```\n",
        "\n",
        "#This would output the info, warning, error, and critical messages to the console because the logging level is set to `INFO`, which ignores lower levels like `DEBUG`."
      ]
    },
    {
      "cell_type": "code",
      "execution_count": null,
      "metadata": {
        "colab": {
          "background_save": true
        },
        "id": "lOYda-pSgqi6",
        "outputId": "de50db91-fd44-49f4-b1c7-c93f45c55664"
      },
      "outputs": [
        {
          "ename": "IndentationError",
          "evalue": "unexpected indent (<ipython-input-2-23c4484ae6d9>, line 5)",
          "output_type": "error",
          "traceback": [
            "\u001b[0;36m  File \u001b[0;32m\"<ipython-input-2-23c4484ae6d9>\"\u001b[0;36m, line \u001b[0;32m5\u001b[0m\n\u001b[0;31m    - `os.path.join()`: Joins one or more path components.\u001b[0m\n\u001b[0m    ^\u001b[0m\n\u001b[0;31mIndentationError\u001b[0m\u001b[0;31m:\u001b[0m unexpected indent\n"
          ]
        }
      ],
      "source": [
        "#Q22-What is the os module in Python used for in file handling0?\n",
        "#Answer-The `os` module in Python is commonly used for interacting with the operating system, and in file handling, it provides a variety of functions to perform operations related to files and directories. Some common uses include:\n",
        "\n",
        "#1. **Path manipulation**:\n",
        "   - `os.path.join()`: Joins one or more path components.\n",
        "   - `os.path.exists()`: Checks if a path exists.\n",
        "   - `os.path.isdir()`: Checks if the path is a directory.\n",
        "   - `os.path.isfile()`: Checks if the path is a file.\n",
        "   - `os.path.abspath()`: Returns the absolute path of a file or directory.\n",
        "\n",
        "#2. **Directory operations**:\n",
        "   - `os.mkdir()`: Creates a new directory.\n",
        "   - `os.makedirs()`: Creates a directory and any intermediate directories needed.\n",
        "   - `os.rmdir()`: Removes a directory (only if empty).\n",
        "   - `os.remove()`: Removes a file.\n",
        "   - `os.rename()`: Renames a file or directory.\n",
        "   - `os.listdir()`: Lists all files and directories in a given directory.\n",
        "\n",
        "#3. **Environment-related operations**:\n",
        "   - `os.environ`: Provides access to environment variables.\n",
        "   - `os.getcwd()`: Gets the current working directory.\n",
        "   - `os.chdir()`: Changes the current working directory.\n",
        "\n",
        "4. **File permissions and attributes**:\n",
        "   - `os.chmod()`: Changes the mode (permissions) of a file.\n",
        "   - `os.utime()`: Changes the last access and modification times of a file.\n",
        "\n",
        "In summary, the `os` module is versatile and provides various functions for managing files, directories, paths, and interacting with the system's environment in Python."
      ]
    },
    {
      "cell_type": "markdown",
      "metadata": {
        "id": "0tOa46sqiwfe"
      },
      "source": [
        "Q25- Why is it important to use multithreading in certain applications? Answer_Multithreading is important in certain applications because it allows for the concurrent execution of multiple tasks, which can lead to improved performance, responsiveness, and efficiency. Here are some key reasons why multithreading is beneficial:\n",
        "\n",
        "1. **Improved performance**: Multithreading allows programs to execute multiple tasks simultaneously, making better use of multi-core processors. This can significantly speed up tasks that are parallelizable, such as data processing, image rendering, or scientific computations.\n",
        "\n",
        "2. **Better resource utilization**: On modern multi-core processors, multithreading allows for better utilization of the available processing power. Each core can handle different threads, increasing overall throughput without requiring additional hardware resources.\n",
        "\n",
        "3. **Enhanced responsiveness**: In applications like web servers, games, or UI-based software, multithreading can keep the system responsive. For example, in a game, one thread can handle user input, another can process game logic, and a third can render graphics. This helps maintain smooth operation without freezing or lag.\n",
        "\n",
        "4. **Handling I/O-bound tasks**: For applications that involve network or disk I/O, multithreading can help by allowing one thread to wait for I/O operations to complete while others continue working on CPU-bound tasks. This leads to better system efficiency.\n",
        "\n",
        "5. **Parallelism in large-scale tasks**: In computationally intensive tasks like simulations, scientific calculations, or machine learning, multithreading allows the workload to be divided among multiple threads, making large tasks more manageable and quicker to process.\n",
        "\n",
        "6. **Improved user experience**: In graphical user interfaces (GUIs), multithreading allows the UI to remain responsive even when complex tasks are running in the background. This prevents the interface from becoming unresponsive or \"frozen\" while the program is performing intensive work.\n",
        "\n",
        "In summary, multithreading enables applications to run more efficiently by leveraging multi-core processors, improving performance, responsiveness, and scalability for complex tasks."
      ]
    },
    {
      "cell_type": "code",
      "execution_count": null,
      "metadata": {
        "id": "ev1qcbvsYTXL"
      },
      "outputs": [],
      "source": [
        "##Practical Questions"
      ]
    },
    {
      "cell_type": "code",
      "execution_count": null,
      "metadata": {
        "id": "7z4FGMDiYa_m"
      },
      "outputs": [],
      "source": [
        "#Q1-How can you open a file for writing in Python and write a string to it\u001fIn Python, you can open a file for writing and write a string to it using the `open()` function with the `'w'` mode.\n",
        "#Answer- Here's an example:\n",
        "\n",
        "#```python\n",
        "# Open the file in write mode ('w')\n",
        "with open('example.txt', 'w') as file:\n",
        "    # Write a string to the file\n",
        "    file.write('Hello, this is a test string!')\n",
        "#```\n",
        "\n",
        "#In this example:\n",
        "#- `'w'` mode opens the file for writing. If the file doesn't exist, it will be created. If the file already exists, its content will be overwritten.\n",
        "#- `with open()` is used to ensure that the file is properly closed after writing, even if an error occurs during the operation."
      ]
    },
    {
      "cell_type": "code",
      "execution_count": null,
      "metadata": {
        "colab": {
          "base_uri": "https://localhost:8080/",
          "height": 488
        },
        "id": "_QU9vGDhaqk-",
        "outputId": "43ad35fe-6515-4d45-a14d-7fea7490654e"
      },
      "outputs": [
        {
          "ename": "FileNotFoundError",
          "evalue": "[Errno 2] No such file or directory: 'your_file.txt'",
          "output_type": "error",
          "traceback": [
            "\u001b[0;31m---------------------------------------------------------------------------\u001b[0m",
            "\u001b[0;31mFileNotFoundError\u001b[0m                         Traceback (most recent call last)",
            "\u001b[0;32m<ipython-input-7-046a514e3b34>\u001b[0m in \u001b[0;36m<cell line: 0>\u001b[0;34m()\u001b[0m\n\u001b[1;32m      1\u001b[0m \u001b[0;31m#Q2- Write a Python program to read the contents of a file and print each line\u001b[0m\u001b[0;34m\u001b[0m\u001b[0;34m\u001b[0m\u001b[0m\n\u001b[1;32m      2\u001b[0m \u001b[0;31m#Answer-Here’s a simple Python program that reads the contents of a file and prints each line:# Open the file in read mode\u001b[0m\u001b[0;34m\u001b[0m\u001b[0;34m\u001b[0m\u001b[0m\n\u001b[0;32m----> 3\u001b[0;31m \u001b[0;32mwith\u001b[0m \u001b[0mopen\u001b[0m\u001b[0;34m(\u001b[0m\u001b[0;34m'your_file.txt'\u001b[0m\u001b[0;34m,\u001b[0m \u001b[0;34m'r'\u001b[0m\u001b[0;34m)\u001b[0m \u001b[0;32mas\u001b[0m \u001b[0mfile\u001b[0m\u001b[0;34m:\u001b[0m\u001b[0;34m\u001b[0m\u001b[0;34m\u001b[0m\u001b[0m\n\u001b[0m\u001b[1;32m      4\u001b[0m     \u001b[0;31m# Iterate through each line in the file\u001b[0m\u001b[0;34m\u001b[0m\u001b[0;34m\u001b[0m\u001b[0m\n\u001b[1;32m      5\u001b[0m     \u001b[0;32mfor\u001b[0m \u001b[0mline\u001b[0m \u001b[0;32min\u001b[0m \u001b[0mfile\u001b[0m\u001b[0;34m:\u001b[0m\u001b[0;34m\u001b[0m\u001b[0;34m\u001b[0m\u001b[0m\n",
            "\u001b[0;31mFileNotFoundError\u001b[0m: [Errno 2] No such file or directory: 'your_file.txt'"
          ]
        }
      ],
      "source": [
        "#Q2- Write a Python program to read the contents of a file and print each line\n",
        "#Answer-Here’s a simple Python program that reads the contents of a file and prints each line:# Open the file in read mode\n",
        "with open('your_file.txt', 'r') as file:\n",
        "    # Iterate through each line in the file\n",
        "    for line in file:\n",
        "        # Print the line\n",
        "        print(line.strip())  # strip() removes any leading/trailing whitespaces or newline characters\n",
        "\n",
        "#Make sure to replace 'your_file.txt' with the path to the file you want to read. This code uses the with statement to automatically close the file after reading its contents."
      ]
    },
    {
      "cell_type": "code",
      "execution_count": null,
      "metadata": {
        "colab": {
          "base_uri": "https://localhost:8080/"
        },
        "id": "OAWODC66bw2f",
        "outputId": "3247e3b3-e728-4435-f9c3-acbe534b2a58"
      },
      "outputs": [
        {
          "name": "stdout",
          "output_type": "stream",
          "text": [
            "The file does not exist.\n"
          ]
        }
      ],
      "source": [
        "#Q3-How would you handle a case where the file doesn't exist while trying to open it for reading\n",
        "#Answer-In Python, if you're trying to open a file for reading and it doesn't exist, you'll get a `FileNotFoundError`. To handle this, you can use a `try-except` block to catch the exception and respond accordingly.\n",
        "\n",
        "#Here's an example of how to handle such a case:\n",
        "\n",
        "#```python\n",
        "try:\n",
        "    with open('file.txt', 'r') as file:\n",
        "        # Code to read from the file\n",
        "        content = file.read()\n",
        "        print(content)\n",
        "except FileNotFoundError:\n",
        "    print(\"The file does not exist.\")\n",
        "#```\n",
        "\n",
        "#In this example:\n",
        "#- The `try` block attempts to open the file for reading.\n",
        "#- If the file is not found, a `FileNotFoundError` is raised, and the `except` block catches this exception, printing a message instead of crashing the program.\n",
        "\n",
        "#You can adjust the message or behavior in the `except` block as needed (e.g., logging an error, creating the file, etc.)."
      ]
    },
    {
      "cell_type": "code",
      "execution_count": 46,
      "metadata": {
        "colab": {
          "base_uri": "https://localhost:8080/",
          "height": 419
        },
        "id": "qmanl4QhcwsN",
        "outputId": "607e66fd-03f7-43de-ccf6-ecd179825e2a"
      },
      "outputs": [
        {
          "output_type": "error",
          "ename": "FileNotFoundError",
          "evalue": "[Errno 2] No such file or directory: 'source_file.txt'",
          "traceback": [
            "\u001b[0;31m---------------------------------------------------------------------------\u001b[0m",
            "\u001b[0;31mFileNotFoundError\u001b[0m                         Traceback (most recent call last)",
            "\u001b[0;32m<ipython-input-46-bf12be98ba33>\u001b[0m in \u001b[0;36m<cell line: 0>\u001b[0;34m()\u001b[0m\n\u001b[1;32m      4\u001b[0m \u001b[0;31m#```python\u001b[0m\u001b[0;34m\u001b[0m\u001b[0;34m\u001b[0m\u001b[0m\n\u001b[1;32m      5\u001b[0m \u001b[0;31m# Open the source file in read mode\u001b[0m\u001b[0;34m\u001b[0m\u001b[0;34m\u001b[0m\u001b[0m\n\u001b[0;32m----> 6\u001b[0;31m \u001b[0;32mwith\u001b[0m \u001b[0mopen\u001b[0m\u001b[0;34m(\u001b[0m\u001b[0;34m'source_file.txt'\u001b[0m\u001b[0;34m,\u001b[0m \u001b[0;34m'r'\u001b[0m\u001b[0;34m)\u001b[0m \u001b[0;32mas\u001b[0m \u001b[0msource_file\u001b[0m\u001b[0;34m:\u001b[0m\u001b[0;34m\u001b[0m\u001b[0;34m\u001b[0m\u001b[0m\n\u001b[0m\u001b[1;32m      7\u001b[0m     \u001b[0;31m# Read the content of the source file\u001b[0m\u001b[0;34m\u001b[0m\u001b[0;34m\u001b[0m\u001b[0m\n\u001b[1;32m      8\u001b[0m     \u001b[0mcontent\u001b[0m \u001b[0;34m=\u001b[0m \u001b[0msource_file\u001b[0m\u001b[0;34m.\u001b[0m\u001b[0mread\u001b[0m\u001b[0;34m(\u001b[0m\u001b[0;34m)\u001b[0m\u001b[0;34m\u001b[0m\u001b[0;34m\u001b[0m\u001b[0m\n",
            "\u001b[0;31mFileNotFoundError\u001b[0m: [Errno 2] No such file or directory: 'source_file.txt'"
          ]
        }
      ],
      "source": [
        "#Q4- Write a python script that reads from one file and writes it's content to another file?\n",
        "#Answer-Here is a simple Python script that reads the content from one file and writes it to another:\n",
        "\n",
        "#```python\n",
        "# Open the source file in read mode\n",
        "with open('source_file.txt', 'r') as source_file:\n",
        "    # Read the content of the source file\n",
        "    content = source_file.read()\n",
        "\n",
        "# Open the destination file in write mode\n",
        "with open('destination_file.txt', 'w') as destination_file:\n",
        "    # Write the content to the destination file\n",
        "    destination_file.write(content)\n",
        "\n",
        "print(\"Content has been copied successfully!\")\n",
        "#```\n",
        "\n",
        "### Explanation:\n",
        "#1. The script opens the `source_file.txt` in read mode and reads its content.\n",
        "#2. It then opens `destination_file.txt` in write mode, and writes the content to that file.\n",
        "#3. The `with` statement ensures that the files are properly closed after reading/writing, even if an error occurs during the operation.\n",
        "\n",
        "#Make sure to replace `'source_file.txt'` and `'destination_file.txt'` with the actual file paths you want to work with."
      ]
    },
    {
      "cell_type": "code",
      "execution_count": null,
      "metadata": {
        "colab": {
          "base_uri": "https://localhost:8080/"
        },
        "id": "2tyAN0CZd94D",
        "outputId": "72b97e59-8c3c-4fb8-ec77-00e468d93999"
      },
      "outputs": [
        {
          "name": "stdout",
          "output_type": "stream",
          "text": [
            "Error: Cannot divide by zero.\n"
          ]
        }
      ],
      "source": [
        "#Q5- How would you catch and handle  division by zero error in python?\n",
        "#Answer-To catch and handle a division by zero error in Python, you can use a `try` and `except` block. Here's an example:\n",
        "\n",
        "#```python\n",
        "try:\n",
        "    numerator = 10\n",
        "    denominator = 0\n",
        "    result = numerator / denominator  # This will raise a ZeroDivisionError\n",
        "except ZeroDivisionError:\n",
        "    print(\"Error: Cannot divide by zero.\")\n",
        "else:\n",
        "    print(\"Result:\", result)\n",
        "#```\n",
        "\n",
        "### Explanation:\n",
        "#- The `try` block contains the code that might raise an exception (in this case, division by zero).\n",
        "#- If a `ZeroDivisionError` occurs, the `except` block catches it, and the error message \"Error: Cannot divide by zero.\" is printed.\n",
        "#- If no error occurs, the `else` block is executed, and the result is printed.\n",
        "\n",
        "#This ensures that your program doesn't crash when a division by zero happens."
      ]
    },
    {
      "cell_type": "code",
      "execution_count": null,
      "metadata": {
        "colab": {
          "base_uri": "https://localhost:8080/"
        },
        "id": "CfF-bqsoe1Ju",
        "outputId": "1f89f4c5-f223-42b4-9e83-846d76526e7c"
      },
      "outputs": [
        {
          "name": "stderr",
          "output_type": "stream",
          "text": [
            "ERROR:root:Error: Cannot divide by zero. Details: division by zero\n"
          ]
        },
        {
          "name": "stdout",
          "output_type": "stream",
          "text": [
            "An error occurred. Please check the log file for details.\n"
          ]
        }
      ],
      "source": [
        "#Q6- write a python program that logs an error message to a log file when a division by zero exception occurred?\n",
        "#Answer-Here is a Python program that logs an error message to a log file when a division by zero exception occurs:\n",
        "\n",
        "#```python\n",
        "import logging\n",
        "\n",
        "# Set up logging configuration\n",
        "logging.basicConfig(filename='error_log.txt', level=logging.ERROR,\n",
        "                    format='%(asctime)s - %(levelname)s - %(message)s')\n",
        "\n",
        "try:\n",
        "    numerator = 10\n",
        "    denominator = 0\n",
        "    result = numerator / denominator  # This will raise a ZeroDivisionError\n",
        "except ZeroDivisionError as e:\n",
        "    # Log the error message to the log file\n",
        "    logging.error(f\"Error: Cannot divide by zero. Details: {e}\")\n",
        "    print(\"An error occurred. Please check the log file for details.\")\n",
        "#```\n",
        "\n",
        "### Explanation:\n",
        "#1. **Logging Setup:**\n",
        "   #- `logging.basicConfig()` is used to set up the logging configuration.\n",
        "   #- The log messages are written to a file called `error_log.txt`.\n",
        "  # - The `level=logging.ERROR` ensures that only error messages are logged.\n",
        "   #- The `format` specifies how the log message should appear (including the timestamp, log level, and message).\n",
        "\n",
        "#2. **Try and Except Block:**\n",
        "   #- The division operation attempts to divide 10 by 0, which raises a `ZeroDivisionError`.\n",
        "   #- The exception is caught in the `except` block, and an error message is logged to `error_log.txt`.\n",
        "\n",
        "#3. **Log Message:**\n",
        "   #- The error message includes the exception details (`e`), which will provide information about the error.\n",
        "\n",
        "#The `error_log.txt` will contain something like this after the program runs:\n",
        "\n",
        "#```\n",
        "#2025-02-16 10:00:00,000 - ERROR - Error: Cannot divide by zero. Details: division by zero\n",
        "#```\n",
        "\n",
        "#This helps you track division by zero errors in your application."
      ]
    },
    {
      "cell_type": "code",
      "execution_count": null,
      "metadata": {
        "colab": {
          "base_uri": "https://localhost:8080/"
        },
        "id": "mhesQaLkfyu2",
        "outputId": "7c779e15-5e2b-40ce-fa2d-efa099a579d5"
      },
      "outputs": [
        {
          "name": "stderr",
          "output_type": "stream",
          "text": [
            "WARNING:root:This is a warning message\n",
            "ERROR:root:This is an error message\n",
            "CRITICAL:root:This is a critical message\n"
          ]
        }
      ],
      "source": [
        "#Q7- how do you log information at different levels (info, error, warning) in python using the logging module?\n",
        "#Answer-In Python, the `logging` module allows you to log messages at different levels of severity, such as `INFO`, `ERROR`, and `WARNING`. Here’s a basic example of how to use it:\n",
        "\n",
        "#```python\n",
        "import logging\n",
        "\n",
        "# Set up logging configuration\n",
        "logging.basicConfig(level=logging.DEBUG,  # Configure the lowest level of severity to log\n",
        "                    format='%(asctime)s - %(levelname)s - %(message)s')\n",
        "\n",
        "# Logging at different levels\n",
        "logging.debug('This is a debug message')  # For detailed diagnostic information\n",
        "logging.info('This is an info message')   # For general information\n",
        "logging.warning('This is a warning message')  # For warning situations\n",
        "logging.error('This is an error message')  # For errors that might allow the program to continue\n",
        "logging.critical('This is a critical message')  # For very serious errors, typically fatal\n",
        "#```\n",
        "\n",
        "### Explanation:\n",
        "#1. **Basic configuration** (`basicConfig`): This configures how the log messages should appear (like timestamp, log level, and message). You set the `level` to `DEBUG` to allow all levels of logs (from DEBUG to CRITICAL) to be recorded.\n",
        "\n",
        "#2. **Logging at different levels**:\n",
        "   #- `logging.debug()` logs detailed debugging messages.\n",
        "   #- `logging.info()` logs general information about program execution.\n",
        "  # - `logging.warning()` logs a warning about something that is not ideal but doesn't stop the program.\n",
        "  # - `logging.error()` logs errors that might cause problems.\n",
        "   #- `logging.critical()` logs serious errors that could lead to a crash.\n",
        "\n",
        "#By using different logging levels, you can control the verbosity of your program’s logs."
      ]
    },
    {
      "cell_type": "code",
      "execution_count": null,
      "metadata": {
        "colab": {
          "base_uri": "https://localhost:8080/"
        },
        "id": "-ZcoJYUZgoX8",
        "outputId": "1025ca71-5a3a-43d9-aaa7-274496857f9a"
      },
      "outputs": [
        {
          "name": "stdout",
          "output_type": "stream",
          "text": [
            "Hello, this is a test string!\n"
          ]
        }
      ],
      "source": [
        "#Q8- Write a program to handle a file opening error using exception handling?\n",
        "#Answer-Here's a Python program that handles a file opening error using exception handling:\n",
        "\n",
        "#```python\n",
        "try:\n",
        "    # Try to open a file that may not exist\n",
        "    file = open(\"example.txt\", \"r\")\n",
        "    content = file.read()\n",
        "    print(content)\n",
        "except FileNotFoundError:\n",
        "    # If the file is not found, this block will run\n",
        "    print(\"Error: The file 'example.txt' was not found.\")\n",
        "except PermissionError:\n",
        "    # If there is a permission issue with the file, this block will run\n",
        "    print(\"Error: You do not have permission to access the file.\")\n",
        "except Exception as e:\n",
        "    # Catch any other unexpected exceptions\n",
        "    print(f\"An unexpected error occurred: {e}\")\n",
        "finally:\n",
        "    # This block will always run, closing the file if it's opened\n",
        "    try:\n",
        "        file.close()\n",
        "    except NameError:\n",
        "        pass  # If the file was never opened, we don't try to close it\n",
        "#```\n",
        "\n",
        "### Explanation:\n",
        "#1. **Try block**: Attempts to open and read a file (`example.txt`).\n",
        "#2. **Except blocks**: Handles specific exceptions:\n",
        " #  - `FileNotFoundError`: Raised if the file doesn't exist.\n",
        "  # - `PermissionError`: Raised if the file exists but the program lacks permission to open it.\n",
        "  # - `Exception`: Catches any other unexpected exceptions.\n",
        "#3. **Finally block**: Ensures that resources (like file handles) are cleaned up. It tries to close the file if it was opened, but uses a `try-except` block to avoid errors if the file was never successfully opened.\n",
        "\n",
        "#This way, the program can gracefully handle errors related to file operations."
      ]
    },
    {
      "cell_type": "code",
      "execution_count": null,
      "metadata": {
        "colab": {
          "base_uri": "https://localhost:8080/"
        },
        "id": "86IpPgT8hV2Y",
        "outputId": "b38457b2-7ef8-4964-8f3b-000ae258866e"
      },
      "outputs": [
        {
          "name": "stdout",
          "output_type": "stream",
          "text": [
            "['Hello, this is a test string!']\n",
            "['Hello, this is a test string!']\n"
          ]
        }
      ],
      "source": [
        "#Q9- how can you read a file line by line and stores its content in a list in a python?\n",
        "#Answer-You can read a file line by line and store its content in a list in Python by using a loop and the `readlines()` method or by directly iterating over the file object. Here’s how you can do it:\n",
        "\n",
        "### Using `readlines()`:\n",
        "\n",
        "#```python\n",
        "# Open the file in read mode\n",
        "with open(\"example.txt\", \"r\") as file:\n",
        "    lines = file.readlines()  # Reads all lines in the file and stores them in a list\n",
        "\n",
        "# Print the content of the list\n",
        "print(lines)\n",
        "#```\n",
        "\n",
        "### Using iteration (preferred for large files):\n",
        "\n",
        "#```python\n",
        "lines = []\n",
        "\n",
        "# Open the file in read mode\n",
        "with open(\"example.txt\", \"r\") as file:\n",
        "    for line in file:\n",
        "        lines.append(line.strip())  # Adds each line (stripped of extra whitespace) to the list\n",
        "\n",
        "# Print the content of the list\n",
        "print(lines)\n",
        "#```\n",
        "\n",
        "### Explanation:\n",
        "##- **`with open()`**: Ensures the file is properly closed after reading.\n",
        "#- **`file.readlines()`**: Reads all lines at once and stores them as elements in a list (each line is a string).\n",
        "#- **`for line in file`**: Iterates over the file object, reading each line one at a time.\n",
        "#- **`line.strip()`**: Removes any leading/trailing whitespace (including newlines) from each line before appending it to the list.\n",
        "\n",
        "#Both methods achieve the same result, but using iteration is often more memory-efficient for large files since it processes one line at a time."
      ]
    },
    {
      "cell_type": "code",
      "execution_count": null,
      "metadata": {
        "id": "eDkB522biDAo"
      },
      "outputs": [],
      "source": [
        "#Q10- how can you append data to an existing file in python?\n",
        "#Answer-To append data to an existing file in Python,\n",
        "#you can use the `open()` function with the mode `'a'` (append mode).\n",
        "# This mode allows you to add data to the end of the file without overwriting its existing contents. Here's an example:\n",
        "\n",
        "#```python\n",
        "# Open the file in append mode ('a')\n",
        "with open('example.txt', 'a') as file:\n",
        "    # Append data to the file\n",
        "    file.write(\"This is the new data.\\n\")\n",
        "#```\n",
        "\n",
        "#In this example, the string `\"This is the new data.\\n\"` will be appended to the file `example.txt`. If the file does not exist, it will be created."
      ]
    },
    {
      "cell_type": "code",
      "execution_count": null,
      "metadata": {
        "colab": {
          "base_uri": "https://localhost:8080/"
        },
        "id": "99hR_fEXivBl",
        "outputId": "2f5bcb02-de51-446a-c996-8f8cb1ecfa5f"
      },
      "outputs": [
        {
          "name": "stdout",
          "output_type": "stream",
          "text": [
            "Error: The key does not exist in the dictionary.\n"
          ]
        }
      ],
      "source": [
        "#Q11- write a python program that uses a try except block to handle an error when attempting to acess a dictionary key that doesn't exist?\n",
        "#Answer-Here's an example of a Python program that uses a `try-except` block to handle an error when attempting to access a dictionary key that doesn't exist:\n",
        "\n",
        "#```python\n",
        "# Sample dictionary\n",
        "my_dict = {'name': 'Alice', 'age': 25, 'city': 'New York'}\n",
        "\n",
        "# Attempt to access a key that may not exist\n",
        "try:\n",
        "    # Try to access a non-existent key\n",
        "    value = my_dict['address']\n",
        "    print(value)\n",
        "except KeyError:\n",
        "    print(\"Error: The key does not exist in the dictionary.\")\n",
        "#```\n",
        "\n",
        "#In this program:\n",
        "#- The dictionary `my_dict` is defined with keys `'name'`, `'age'`, and `'city'`.\n",
        "#- The program tries to access the key `'address'`, which doesn't exist in the dictionary.\n",
        "#- The `except KeyError` block catches the error and prints a message indicating that the key does not exist."
      ]
    },
    {
      "cell_type": "code",
      "execution_count": null,
      "metadata": {
        "colab": {
          "base_uri": "https://localhost:8080/"
        },
        "id": "ERTA3jNAjqBO",
        "outputId": "2b9d86b9-b6bb-486d-e469-913c9a2e7ebb"
      },
      "outputs": [
        {
          "name": "stdout",
          "output_type": "stream",
          "text": [
            "Enter a number: 0\n",
            "Error: Division by zero is not allowed.\n"
          ]
        }
      ],
      "source": [
        "#Q12- write a python program that demonstrats using multiple except block to handle different types of exceptions?\n",
        "#Answer-Here's an example of a Python program that demonstrates using multiple `except` blocks to handle different types of exceptions:\n",
        "\n",
        "#```python\n",
        "# Function to demonstrate multiple exceptions handling\n",
        "def handle_exceptions():\n",
        "    try:\n",
        "        # Trying to perform different operations that may raise exceptions\n",
        "        x = int(input(\"Enter a number: \"))  # Could raise ValueError if input is not a number\n",
        "        y = 10 / x  # Could raise ZeroDivisionError if x is 0\n",
        "        my_list = [1, 2, 3]\n",
        "        print(my_list[5])  # Could raise IndexError if index is out of range\n",
        "    except ValueError:\n",
        "        print(\"Error: Please enter a valid integer.\")\n",
        "    except ZeroDivisionError:\n",
        "        print(\"Error: Division by zero is not allowed.\")\n",
        "    except IndexError:\n",
        "        print(\"Error: Index is out of range.\")\n",
        "    except Exception as e:\n",
        "        print(f\"An unexpected error occurred: {e}\")\n",
        "\n",
        "# Call the function to demonstrate exception handling\n",
        "handle_exceptions()\n",
        "#```\n",
        "\n",
        "### Explanation:\n",
        "#- **`ValueError`**: Handles the error when the input can't be converted to an integer.\n",
        "#- **`ZeroDivisionError`**: Handles the error when division by zero occurs.\n",
        "#- **`IndexError`**: Handles the error when trying to access an index that doesn't exist in the list.\n",
        "#- **`Exception`**: A general exception handler that catches any other unexpected errors."
      ]
    },
    {
      "cell_type": "code",
      "execution_count": null,
      "metadata": {
        "colab": {
          "base_uri": "https://localhost:8080/"
        },
        "id": "w1IUAti2kY8o",
        "outputId": "ae76aae9-2cde-43a2-ec81-afaec5be05f7"
      },
      "outputs": [
        {
          "name": "stdout",
          "output_type": "stream",
          "text": [
            "Hello, this is a test string!This is the new data.\n",
            "This is the new data.\n",
            "This is the new data.\n",
            "\n",
            "Hello, this is a test string!This is the new data.\n",
            "This is the new data.\n",
            "This is the new data.\n",
            "\n"
          ]
        }
      ],
      "source": [
        "#Q13- how would you check if a files exist before attempting to read it in python?\n",
        "#Answer-In Python, you can check if a file exists before attempting to read it by using the `os.path.exists()` method or the `Path` object from the `pathlib` module.\n",
        "\n",
        "### Using `os.path.exists()`:\n",
        "#```python\n",
        "import os\n",
        "\n",
        "file_path = 'example.txt'\n",
        "\n",
        "# Check if the file exists before reading\n",
        "if os.path.exists(file_path):\n",
        "    with open(file_path, 'r') as file:\n",
        "        content = file.read()\n",
        "        print(content)\n",
        "else:\n",
        "    print(\"The file does not exist.\")\n",
        "#```\n",
        "\n",
        "### Using `pathlib.Path.exists()` (recommended in modern Python versions):\n",
        "#```python\n",
        "from pathlib import Path\n",
        "\n",
        "file_path = Path('example.txt')\n",
        "\n",
        "# Check if the file exists before reading\n",
        "if file_path.exists():\n",
        "    with open(file_path, 'r') as file:\n",
        "        content = file.read()\n",
        "        print(content)\n",
        "else:\n",
        "    print(\"The file does not exist.\")\n",
        "#```\n",
        "\n",
        "### Explanation:\n",
        "#- **`os.path.exists()`** checks whether a file or directory exists at the specified path.\n",
        "#- **`Path.exists()`** from `pathlib` provides an object-oriented way of handling file paths and checking if a file exists.\n",
        "\n",
        "#Both approaches prevent errors when attempting to read a file that may not exist."
      ]
    },
    {
      "cell_type": "code",
      "execution_count": null,
      "metadata": {
        "colab": {
          "base_uri": "https://localhost:8080/"
        },
        "id": "wOUc0XJyk6gD",
        "outputId": "1408fa84-df4c-4c47-e4c9-a4db50967a88"
      },
      "outputs": [
        {
          "name": "stderr",
          "output_type": "stream",
          "text": [
            "ERROR:root:An error occurred: division by zero\n"
          ]
        }
      ],
      "source": [
        "#Q14- write a program that uses the logging module to log both informational and error messages?\n",
        "#Answer-Here's an example of a Python program that uses the `logging` module to log both informational and error messages:\n",
        "\n",
        "#```python\n",
        "import logging\n",
        "\n",
        "# Set up the logging configuration\n",
        "logging.basicConfig(level=logging.DEBUG,\n",
        "                    format='%(asctime)s - %(levelname)s - %(message)s',\n",
        "                    handlers=[logging.StreamHandler()])\n",
        "\n",
        "# Log an informational message\n",
        "logging.info(\"This is an informational message.\")\n",
        "\n",
        "# Log an error message\n",
        "try:\n",
        "    x = 10 / 0  # Division by zero to raise an error\n",
        "except ZeroDivisionError as e:\n",
        "    logging.error(f\"An error occurred: {e}\")\n",
        "#```\n",
        "\n",
        "### Explanation:\n",
        "#- **`logging.basicConfig()`** sets up the logging configuration:\n",
        "#  - `level=logging.DEBUG`: Logs messages with the severity level of DEBUG or higher (INFO, WARNING, ERROR, CRITICAL).\n",
        " # - `format='%(asctime)s - %(levelname)s - %(message)s'`: Specifies the format for the log messages, including the timestamp, log level, and message.\n",
        "#  - `handlers=[logging.StreamHandler()]`: Directs the log output to the console (standard output).\n",
        "\n",
        "#- **`logging.info()`** logs an informational message.\n",
        "#- **`logging.error()`** logs an error message if an exception is raised (in this case, `ZeroDivisionError`).\n",
        "\n",
        "#This program logs both an informational message and an error message, providing useful context about the execution."
      ]
    },
    {
      "cell_type": "code",
      "execution_count": null,
      "metadata": {
        "colab": {
          "base_uri": "https://localhost:8080/"
        },
        "id": "5-SnW80yll-n",
        "outputId": "2af6836a-0a04-48e4-93c8-cf6849ea0c1e"
      },
      "outputs": [
        {
          "name": "stdout",
          "output_type": "stream",
          "text": [
            "File content:\n",
            "Hello, this is a test string!This is the new data.\n",
            "This is the new data.\n",
            "This is the new data.\n",
            "\n"
          ]
        }
      ],
      "source": [
        "#Q15- write a python program that prints the content of a file and handle the case when the file is empty?\n",
        "#Answer-Here's an example of a Python program that reads and prints the content of a file while handling the case when the file is empty:\n",
        "\n",
        "#```python\n",
        "def read_file(file_path):\n",
        "    try:\n",
        "        with open(file_path, 'r') as file:\n",
        "            content = file.read()\n",
        "\n",
        "            # Check if the file is empty\n",
        "            if not content:\n",
        "                print(\"The file is empty.\")\n",
        "            else:\n",
        "                print(\"File content:\")\n",
        "                print(content)\n",
        "    except FileNotFoundError:\n",
        "        print(f\"Error: The file at {file_path} was not found.\")\n",
        "    except Exception as e:\n",
        "        print(f\"An unexpected error occurred: {e}\")\n",
        "\n",
        "# Specify the path of the file\n",
        "file_path = 'example.txt'\n",
        "\n",
        "# Call the function to read and print the file content\n",
        "read_file(file_path)\n",
        "#```\n",
        "\n",
        "### Explanation:\n",
        "#- **`open(file_path, 'r')`**: Opens the file in read mode.\n",
        "#- **`file.read()`**: Reads the content of the file.\n",
        "#- **`if not content`**: Checks if the content is empty (i.e., the file has no data).\n",
        "#- **`FileNotFoundError`**: Handles the case where the file doesn't exist at the given path.\n",
        "#- **`Exception`**: Catches any other unexpected errors that might occur.\n",
        "\n",
        "#This program will print a message indicating that the file is empty if it has no content or will display the file's contents if it has data."
      ]
    },
    {
      "cell_type": "code",
      "execution_count": null,
      "metadata": {
        "colab": {
          "base_uri": "https://localhost:8080/",
          "height": 367
        },
        "id": "RieXgU77mQ4p",
        "outputId": "429b1d6c-058c-4754-aa09-ea93867738c1"
      },
      "outputs": [
        {
          "ename": "NameError",
          "evalue": "name 'profile' is not defined",
          "output_type": "error",
          "traceback": [
            "\u001b[0;31m---------------------------------------------------------------------------\u001b[0m",
            "\u001b[0;31mNameError\u001b[0m                                 Traceback (most recent call last)",
            "\u001b[0;32m<ipython-input-30-d400d8064cd6>\u001b[0m in \u001b[0;36m<cell line: 0>\u001b[0;34m()\u001b[0m\n\u001b[1;32m     17\u001b[0m \u001b[0;31m#from memory_profiler import profile\u001b[0m\u001b[0;34m\u001b[0m\u001b[0;34m\u001b[0m\u001b[0m\n\u001b[1;32m     18\u001b[0m \u001b[0;34m\u001b[0m\u001b[0m\n\u001b[0;32m---> 19\u001b[0;31m \u001b[0;34m@\u001b[0m\u001b[0mprofile\u001b[0m\u001b[0;34m\u001b[0m\u001b[0;34m\u001b[0m\u001b[0m\n\u001b[0m\u001b[1;32m     20\u001b[0m \u001b[0;32mdef\u001b[0m \u001b[0mmy_function\u001b[0m\u001b[0;34m(\u001b[0m\u001b[0;34m)\u001b[0m\u001b[0;34m:\u001b[0m\u001b[0;34m\u001b[0m\u001b[0;34m\u001b[0m\u001b[0m\n\u001b[1;32m     21\u001b[0m     \u001b[0ma\u001b[0m \u001b[0;34m=\u001b[0m \u001b[0;34m[\u001b[0m\u001b[0mi\u001b[0m \u001b[0;32mfor\u001b[0m \u001b[0mi\u001b[0m \u001b[0;32min\u001b[0m \u001b[0mrange\u001b[0m\u001b[0;34m(\u001b[0m\u001b[0;36m10000\u001b[0m\u001b[0;34m)\u001b[0m\u001b[0;34m]\u001b[0m  \u001b[0;31m# Creates a list of 10,000 integers\u001b[0m\u001b[0;34m\u001b[0m\u001b[0;34m\u001b[0m\u001b[0m\n",
            "\u001b[0;31mNameError\u001b[0m: name 'profile' is not defined"
          ]
        }
      ],
      "source": [
        "#Q16- demonstrate how to use memory profilling to check the memory usage of a small program?\n",
        "#Answer-To check the memory usage of a Python program, you can use the `memory_profiler` module. The `memory_profiler` tool allows you to measure memory consumption line by line in your Python script.\n",
        "\n",
        "### Steps to use memory profiling:\n",
        "\n",
        "#1. **Install the `memory_profiler` module**:\n",
        "   #You can install the module using `pip`:\n",
        "  # ```bash\n",
        "   #pip install memory-profiler\n",
        "  # ```\n",
        "\n",
        "#2. **Use the `@profile` decorator** to profile a function or part of the code.\n",
        "\n",
        "### Example:\n",
        "\n",
        "#```python\n",
        "#from memory_profiler import profile\n",
        "\n",
        "@profile\n",
        "def my_function():\n",
        "    a = [i for i in range(10000)]  # Creates a list of 10,000 integers\n",
        "    b = [i**2 for i in range(10000)]  # Creates another list of squares\n",
        "    c = [i**3 for i in range(10000)]  # Creates another list of cubes\n",
        "    return a, b, c\n",
        "\n",
        "if __name__ == \"__main__\":\n",
        "    my_function()\n",
        "#```\n",
        "\n",
        "### Explanation:\n",
        "#- The `@profile` decorator is added before the function that you want to monitor for memory usage (`my_function` in this case).\n",
        "#- The function `my_function` creates three large lists, and you will be able to track memory usage as each list is created.\n",
        "\n",
        "### Running the Program:\n",
        "#To run the program and check the memory usage, use the following command:\n",
        "\n",
        "#```bash\n",
        "#python -m memory_profiler your_script.py\n",
        "#```\n",
        "\n",
        "#This will output memory usage information for the decorated function. The output might look something like this:\n",
        "\n",
        "#```\n",
        "#Line #    Mem usage    Increment   Line Contents\n",
        "#================================================\n",
        "    # 4     11.1 MiB     11.1 MiB   @profile\n",
        "    # 5     11.2 MiB      0.1 MiB   def my_function():\n",
        "    # 6     11.3 MiB      0.1 MiB       a = [i for i in range(10000)]\n",
        "   #  7     11.5 MiB      0.2 MiB       b = [i**2 for i in range(10000)]\n",
        "    # 8     11.7 MiB      0.2 MiB       c = [i**3 for i in range(10000)]\n",
        "     #9     11.7 MiB      0.0 MiB       return a, b, c\n",
        "#```\n",
        "\n",
        "### Output Interpretation:\n",
        "#- **Mem usage**: The total memory usage at that point in the program (in MiB).\n",
        "#- **Increment**: The change in memory usage from the previous line.\n",
        "#- **Line contents**: The code being executed at that point.\n",
        "\n",
        "#This method helps track memory consumption and identify which parts of the program are using the most memory."
      ]
    },
    {
      "cell_type": "code",
      "execution_count": null,
      "metadata": {
        "colab": {
          "background_save": true
        },
        "id": "F71l1PXInS0E",
        "outputId": "13207525-96db-4a0c-98fa-5f4e4f5d845f"
      },
      "outputs": [
        {
          "name": "stdout",
          "output_type": "stream",
          "text": [
            "Numbers have been written to 'numbers.txt' successfully.\n"
          ]
        }
      ],
      "source": [
        "#Q17- write a python program to create and write a list of numbers to a file,one number per line?\n",
        "#Answer-Here is a Python program that creates a list of numbers and writes each number to a file, one per line:\n",
        "\n",
        "#```python\n",
        "# List of numbers\n",
        "numbers = [1, 2, 3, 4, 5, 6, 7, 8, 9, 10]\n",
        "\n",
        "# Open a file in write mode\n",
        "with open('numbers.txt', 'w') as file:\n",
        "    # Write each number to the file, one per line\n",
        "    for number in numbers:\n",
        "        file.write(str(number) + '\\n')\n",
        "\n",
        "print(\"Numbers have been written to 'numbers.txt' successfully.\")\n",
        "#```\n",
        "\n",
        "#This program will create a file named `numbers.txt` and write each number from the list `numbers` on a new line."
      ]
    },
    {
      "cell_type": "code",
      "source": [
        "#Q18- how would you implement a basic logging setup that logs to a file with rotation after 1mb?\n",
        "#Answer-  To implement a basic logging setup in Python that logs to a file with rotation after 1MB, you can use the logging module along with RotatingFileHandler. Here's how you can do it:\n",
        "\n",
        "#import logging\n",
        "from logging.handlers import RotatingFileHandler\n",
        "\n",
        "# Create a logger\n",
        "logger = logging.getLogger('my_logger')\n",
        "logger.setLevel(logging.DEBUG)\n",
        "\n",
        "# Create a rotating file handler that logs to 'app.log' and rotates after 1MB\n",
        "log_handler = RotatingFileHandler('app.log', maxBytes=1 * 1024 * 1024, backupCount=3)\n",
        "log_handler.setLevel(logging.DEBUG)\n",
        "\n",
        "# Create a formatter and set it for the handler\n",
        "formatter = logging.Formatter('%(asctime)s - %(name)s - %(levelname)s - %(message)s')\n",
        "log_handler.setFormatter(formatter)\n",
        "\n",
        "# Add the handler to the logger\n",
        "logger.addHandler(log_handler)\n",
        "\n",
        "# Example logging calls\n",
        "logger.debug(\"This is a debug message.\")\n",
        "logger.info(\"This is an info message.\")\n",
        "logger.warning(\"This is a warning message.\")\n",
        "logger.error(\"This is an error message.\")\n",
        "logger.critical(\"This is a critical message.\")\n",
        "\n",
        "\n",
        "\n",
        "\n",
        "#Logger Setup: A logger is created using logging.getLogger('my_logger') and its level is set to DEBUG to capture all log messages.#: The handler is set to rotate the log file (app.log) when it reaches 1MB. The maxBytes argument specifies the limit (1MB), and backupCount=3 means that 3 backup files will be kept.\n",
        "#Formatter: A formatter is created to include timestamp, logger name, log level, and the log message in the output.\n",
        "#Logging: Example log messages are shown with different log levels.\n",
        "\n",
        "#The log file will rotate automatically when it exceeds 1MB, and older logs will be preserved in backup files with names like app.log.1, app.log.2, etc."
      ],
      "metadata": {
        "id": "5UHePsKFrBAl",
        "colab": {
          "base_uri": "https://localhost:8080/"
        },
        "outputId": "ad450a4b-f76d-4b0b-e034-dc8284ae8904"
      },
      "execution_count": null,
      "outputs": [
        {
          "output_type": "stream",
          "name": "stderr",
          "text": [
            "DEBUG:my_logger:This is a debug message.\n",
            "INFO:my_logger:This is an info message.\n",
            "WARNING:my_logger:This is a warning message.\n",
            "ERROR:my_logger:This is an error message.\n",
            "CRITICAL:my_logger:This is a critical message.\n"
          ]
        }
      ]
    },
    {
      "cell_type": "code",
      "source": [
        "#Q19-write a program that handle both index error and key error using a try except block?\n",
        "#Answer-Here's an example program that handles both `IndexError` and `KeyError` using a `try-except` block:\n",
        "\n",
        "#```python\n",
        "def handle_errors():\n",
        "    my_list = [1, 2, 3]\n",
        "    my_dict = {'a': 1, 'b': 2}\n",
        "\n",
        "    try:\n",
        "        # Trying to access an index that may not exist\n",
        "        print(my_list[5])  # This will raise an IndexError\n",
        "    except IndexError as e:\n",
        "        print(f\"IndexError: {e}\")\n",
        "\n",
        "    try:\n",
        "        # Trying to access a key that may not exist\n",
        "        print(my_dict['c'])  # This will raise a KeyError\n",
        "    except KeyError as e:\n",
        "        print(f\"KeyError: {e}\")\n",
        "\n",
        "handle_errors()\n",
        "#```\n",
        "\n",
        "### Output:\n",
        "#```\n",
        "#IndexError: list index out of range\n",
        "#KeyError: 'c'\n",
        "#```\n",
        "\n",
        "### Explanation:\n",
        "#- The program first tries to access an invalid index in the list `my_list` (which will raise an `IndexError`).\n",
        "#- It then tries to access a key that does not exist in `my_dict` (which will raise a `KeyError`).\n",
        "#- Each exception is caught separately by the `except` block, and an appropriate error message is displayed.Q19- write a program that handle both index error and key error using a try except block?"
      ],
      "metadata": {
        "colab": {
          "base_uri": "https://localhost:8080/"
        },
        "id": "GxskNxior4Sm",
        "outputId": "78713f5a-359e-4d54-f2fa-facba8f1f870"
      },
      "execution_count": null,
      "outputs": [
        {
          "output_type": "stream",
          "name": "stdout",
          "text": [
            "IndexError: list index out of range\n",
            "KeyError: 'c'\n"
          ]
        }
      ]
    },
    {
      "cell_type": "code",
      "source": [
        "#Q20- how would you open a file and read it's content using a content manager in python?\n",
        "#Answer-To open a file and read its content using a context manager in Python, you would use the `with` statement. This ensures the file is properly opened and automatically closed after reading its contents, even if an error occurs. Here's an example:\n",
        "\n",
        "#```python\n",
        "with open('file.txt', 'r') as file:\n",
        "    content = file.read()\n",
        "    print(content)\n",
        "#```\n",
        "\n",
        "### Explanation:\n",
        "#- `open('file.txt', 'r')`: This opens the file `file.txt` in read mode (`'r'`).\n",
        "#- `with ... as file`: This creates a context manager that ensures the file is closed when the block of code is done executing.\n",
        "#- `file.read()`: Reads the entire content of the file.\n",
        "\n",
        "#After the `with` block, the file is automatically closed, and you can access the file contents stored in the `content` variable."
      ],
      "metadata": {
        "id": "oqJ7ZzT9tAx0",
        "colab": {
          "base_uri": "https://localhost:8080/",
          "height": 367
        },
        "outputId": "c499dc4b-2a33-4b43-bd30-9e69c471ff4e"
      },
      "execution_count": null,
      "outputs": [
        {
          "output_type": "error",
          "ename": "FileNotFoundError",
          "evalue": "[Errno 2] No such file or directory: 'file.txt'",
          "traceback": [
            "\u001b[0;31m---------------------------------------------------------------------------\u001b[0m",
            "\u001b[0;31mFileNotFoundError\u001b[0m                         Traceback (most recent call last)",
            "\u001b[0;32m<ipython-input-37-82c1918ebd20>\u001b[0m in \u001b[0;36m<cell line: 0>\u001b[0;34m()\u001b[0m\n\u001b[1;32m      3\u001b[0m \u001b[0;34m\u001b[0m\u001b[0m\n\u001b[1;32m      4\u001b[0m \u001b[0;31m#```python\u001b[0m\u001b[0;34m\u001b[0m\u001b[0;34m\u001b[0m\u001b[0m\n\u001b[0;32m----> 5\u001b[0;31m \u001b[0;32mwith\u001b[0m \u001b[0mopen\u001b[0m\u001b[0;34m(\u001b[0m\u001b[0;34m'file.txt'\u001b[0m\u001b[0;34m,\u001b[0m \u001b[0;34m'r'\u001b[0m\u001b[0;34m)\u001b[0m \u001b[0;32mas\u001b[0m \u001b[0mfile\u001b[0m\u001b[0;34m:\u001b[0m\u001b[0;34m\u001b[0m\u001b[0;34m\u001b[0m\u001b[0m\n\u001b[0m\u001b[1;32m      6\u001b[0m     \u001b[0mcontent\u001b[0m \u001b[0;34m=\u001b[0m \u001b[0mfile\u001b[0m\u001b[0;34m.\u001b[0m\u001b[0mread\u001b[0m\u001b[0;34m(\u001b[0m\u001b[0;34m)\u001b[0m\u001b[0;34m\u001b[0m\u001b[0;34m\u001b[0m\u001b[0m\n\u001b[1;32m      7\u001b[0m     \u001b[0mprint\u001b[0m\u001b[0;34m(\u001b[0m\u001b[0mcontent\u001b[0m\u001b[0;34m)\u001b[0m\u001b[0;34m\u001b[0m\u001b[0;34m\u001b[0m\u001b[0m\n",
            "\u001b[0;31mFileNotFoundError\u001b[0m: [Errno 2] No such file or directory: 'file.txt'"
          ]
        }
      ]
    },
    {
      "cell_type": "code",
      "source": [
        "#Q21- write a python program that reads a file and print the number of occurrence of a specific word?\n",
        "#Answer-Here's a Python program that reads a file and prints the number of occurrences of a specific word:\n",
        "\n",
        "#```python\n",
        "def count_word_occurrence(file_path, target_word):\n",
        "    try:\n",
        "        with open(file_path, 'r') as file:\n",
        "            content = file.read().lower()  # Read the file and convert to lowercase\n",
        "            word_count = content.split().count(target_word.lower())  # Count occurrences of the word\n",
        "        return word_count\n",
        "    except FileNotFoundError:\n",
        "        print(f\"File '{file_path}' not found.\")\n",
        "        return 0\n",
        "\n",
        "# Example usage\n",
        "file_path = 'file.txt'  # Replace with your file path\n",
        "target_word = 'python'  # Replace with the word you want to count\n",
        "occurrences = count_word_occurrence(file_path, target_word)\n",
        "\n",
        "print(f\"The word '{target_word}' occurred {occurrences} times in the file.\")\n",
        "#```\n",
        "\n",
        "### Explanation:\n",
        "#1. The function `count_word_occurrence` takes two arguments: the `file_path` (path to the file) and `target_word` (the word to count).\n",
        "#2. It reads the content of the file, converts it to lowercase (to make the search case-insensitive), and splits the content into words.\n",
        "#3. It then counts the occurrences of the target word using the `count()` method.\n",
        "#4. If the file is not found, it catches the `FileNotFoundError` and returns 0.\n",
        "\n",
        "#Replace `'file.txt'` with your file path and `'python'` with the word you want to count."
      ],
      "metadata": {
        "colab": {
          "base_uri": "https://localhost:8080/"
        },
        "id": "iI2Ppvsjtv5j",
        "outputId": "f6b1699f-eb0f-4ab7-d83e-8bcd43e8d6b9"
      },
      "execution_count": null,
      "outputs": [
        {
          "output_type": "stream",
          "name": "stdout",
          "text": [
            "File 'file.txt' not found.\n",
            "The word 'python' occurred 0 times in the file.\n"
          ]
        }
      ]
    },
    {
      "cell_type": "code",
      "source": [
        "#Q22- how can you check if a file is empty before attempting to read it's content?\n",
        "#Answer-Here’s a Python program using **Method 1** (using `os.stat()`) to check if a file is empty before attempting to read its content:\n",
        "\n",
        "#```python\n",
        "import os\n",
        "\n",
        "def read_file(file_path):\n",
        "    # Check if the file is empty\n",
        "    if os.stat(file_path).st_size == 0:\n",
        "        print(\"The file is empty.\")\n",
        "    else:\n",
        "        with open(file_path, 'r') as file:\n",
        "            content = file.read()\n",
        "            print(content)\n",
        "\n",
        "# Example usage\n",
        "#file_path = 'file.txt'  # Replace with your file path\n",
        "#read_file(file_path)\n",
        "#```\n",
        "\n",
        "### Explanation:\n",
        "#- **`os.stat(file_path).st_size == 0`** checks if the file size is `0`, meaning the file is empty.\n",
        "#- If the file is not empty, it reads the content using the `with open()` statement."
      ],
      "metadata": {
        "id": "jlCcKtEvuRmf"
      },
      "execution_count": null,
      "outputs": []
    },
    {
      "cell_type": "code",
      "source": [
        "#Q23_ write a python program that writes to a log file when a error occurs during file handling\n",
        "#Answer- Here's a Python program that writes to a log file when an error occurs during file handling:\n",
        "\n",
        "import logging\n",
        "\n",
        "# Configure the logger\n",
        "logging.basicConfig(\n",
        "    filename='file_error_log.log',\n",
        "    level=logging.ERROR,  # Log only error level and above\n",
        "    format='%(asctime)s - %(levelname)s - %(message)s'\n",
        ")\n",
        "\n",
        "def read_file(file_path):\n",
        "    try:\n",
        "        with open(file_path, 'r') as file:\n",
        "            content = file.read()\n",
        "            return content\n",
        "    except FileNotFoundError:\n",
        "        logging.error(f\"File not found: {file_path}\")\n",
        "        print(f\"Error: The file {file_path} was not found.\")\n",
        "    except IOError as e:\n",
        "        logging.error(f\"IO error occurred while handling the file {file_path}: {e}\")\n",
        "        print(f\"Error: An IOError occurred with file {file_path}.\")\n",
        "    except Exception as e:\n",
        "        logging.error(f\"An unexpected error occurred: {e}\")\n",
        "        print(\"An unexpected error occurred.\")\n",
        "\n",
        "def write_file(file_path, content):\n",
        "    try:\n",
        "        with open(file_path, 'w') as file:\n",
        "            file.write(content)\n",
        "    except IOError as e:\n",
        "        logging.error(f\"IO error occurred while writing to the file {file_path}: {e}\")\n",
        "        print(f\"Error: An IOError occurred while writing to the file {file_path}.\")\n",
        "    except Exception as e:\n",
        "        logging.error(f\"An unexpected error occurred: {e}\")\n",
        "        print(\"An unexpected error occurred.\")\n",
        "\n",
        "# Example Usage\n",
        "file_to_read = 'non_existent_file.txt'\n",
        "read_file(file_to_read)\n",
        "\n",
        "file_to_write = 'example_file.txt'\n",
        "content_to_write = 'This is a sample text.'\n",
        "write_file(file_to_write, content_to_write)\n",
        "\n",
        "\n",
        "\n",
        "\n",
        "#The logging.basicConfig() function is used to configure the logging. In this case, errors are logged to a file named file_error_log.log.\n",
        "#The read_file function tries to read from the specified file and handles FileNotFoundError, IOError, and other unexpected errors.\n",
        "#Similarly, the write_file function attempts to write to the specified file and handles errors like IOError or other unexpected exceptions.\n",
        "#Any errors encountered are logged with a timestamp, error message, and exception details in the file_error_log.log file.\n",
        "\n",
        "#This program ensures that errors are logged and provides the user with an informative message."
      ],
      "metadata": {
        "id": "nOJ-SKq7u_FO",
        "colab": {
          "base_uri": "https://localhost:8080/"
        },
        "outputId": "e32cbe35-1ae5-4642-d163-078eb68ddecd"
      },
      "execution_count": null,
      "outputs": [
        {
          "output_type": "stream",
          "name": "stderr",
          "text": [
            "ERROR:root:File not found: non_existent_file.txt\n"
          ]
        },
        {
          "output_type": "stream",
          "name": "stdout",
          "text": [
            "Error: The file non_existent_file.txt was not found.\n"
          ]
        }
      ]
    }
  ],
  "metadata": {
    "colab": {
      "provenance": [],
      "authorship_tag": "ABX9TyMTA3v0ny7BfIjpYzP80WeS",
      "include_colab_link": true
    },
    "kernelspec": {
      "display_name": "Python 3",
      "name": "python3"
    },
    "language_info": {
      "name": "python"
    }
  },
  "nbformat": 4,
  "nbformat_minor": 0
}