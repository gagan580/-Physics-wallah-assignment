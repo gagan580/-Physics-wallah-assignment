{
  "cells": [
    {
      "cell_type": "markdown",
      "metadata": {
        "id": "view-in-github",
        "colab_type": "text"
      },
      "source": [
        "<a href=\"https://colab.research.google.com/github/gagan580/-Physics-wallah-assignment/blob/main/Assignment_4_Pw.ipynb\" target=\"_parent\"><img src=\"https://colab.research.google.com/assets/colab-badge.svg\" alt=\"Open In Colab\"/></a>"
      ]
    },
    {
      "cell_type": "code",
      "execution_count": null,
      "metadata": {
        "id": "LknEJcXxSyR2"
      },
      "outputs": [],
      "source": [
        "#Q1- What is object oriented programming?\n",
        "#Answer-Object-Oriented Programming (OOP) is a programming style that uses \"objects\" to design and build software. These objects are instances of classes, which define the structure and behavior (methods) of the object. The key concepts in OOP are:\n",
        "\n",
        "#1. **Encapsulation**: Bundling data and methods into a single unit (class) and hiding internal details.\n",
        "#2. **Inheritance**: Allowing one class to inherit properties and methods from another.\n",
        "#3. **Polymorphism**: Enabling different objects to respond to the same method in different ways.\n",
        "#4. **Abstraction**: Hiding complex implementation details and showing only the necessary features.\n",
        "\n",
        "#OOP helps with code reuse, organization, and maintainability."
      ]
    },
    {
      "cell_type": "markdown",
      "metadata": {
        "id": "3ObfKaTBTui3"
      },
      "source": [
        "\n",
        "Q2- What is a class in oops?\n",
        "Answer- In OOP, a class is a template or blueprint that defines the properties (attributes) and behaviors (methods) common to all objects of that type. It allows for the creation of multiple objects with similar characteristics."
      ]
    },
    {
      "cell_type": "markdown",
      "metadata": {
        "id": "CSmvjO24UUuM"
      },
      "source": [
        "Q3- What is an object in oops?\n",
        "Answer- In Object-Oriented Programming (OOP), an object is an instance of a class. It represents a real-world entity or concept that has attributes (properties) and behaviors (methods). Objects are used to encapsulate data and functions that operate on the data, promoting modularity, reusability, and abstraction. Essentially, an object is a concrete representation of a class, with its own unique state and the ability to interact with other objects."
      ]
    },
    {
      "cell_type": "markdown",
      "metadata": {
        "id": "0hQSmpHVUx33"
      },
      "source": [
        "Q4- What is the difference between abstraction and encapsulation?\n",
        "Answer- Abstraction and encapsulation are both fundamental concepts in object-oriented programming, but they serve different purposes:\n",
        "\n",
        "\n",
        "\n",
        "Abstraction:\n",
        "\n",
        "\n",
        "Purpose: Abstraction is about hiding the complexity and showing only the necessary details. It focuses on what a system does, not how it does it.\n",
        "How: It allows the user to interact with an object through a simplified interface, without worrying about its internal workings.\n",
        "Example: A car is an abstraction. You don’t need to know how the engine works to drive it; you just use the steering wheel, pedals, etc.\n",
        "\n",
        "\n",
        "\n",
        "Encapsulation:\n",
        "\n",
        "\n",
        "Purpose: Encapsulation is about bundling the data (attributes) and methods (functions) that operate on that data within a single unit or class. It also involves restricting access to some of the object's components, making the object’s internal state private and only accessible through well-defined interfaces (e.g., getter/setter methods).\n",
        "How: This provides data hiding, ensuring that the data is not modified directly but can be accessed or modified in a controlled manner.\n",
        "Example: A bank account class might have private balance data, which can only be accessed or changed via methods like deposit() or withdraw().\n",
        "\n",
        "\n",
        "\n",
        "In short:\n",
        "\n",
        "Abstraction is about what an object does, focusing on the essential features.\n",
        "Encapsulation is about how the data and functions are bundled together and controlling access to them."
      ]
    },
    {
      "cell_type": "markdown",
      "metadata": {
        "id": "36xUlfd2VdyZ"
      },
      "source": [
        "Q5- What are dunder method in python?\n",
        "Answer-Dunder methods (short for \"double underscore\") in Python are special methods that allow customization of built-in behavior for objects. They are also known as magic or special methods. These methods have double underscores before and after their name (e.g., `__init__`, `__str__`, `__add__`) and enable objects to interact with Python's built-in operations.\n",
        "\n",
        "### Key Dunder Methods:\n",
        "- **`__init__(self)`**: Initializes an object when created.\n",
        "- **`__str__(self)`**: Returns a string representation of an object (used by `str()` and `print()`).\n",
        "- **`__repr__(self)`**: Returns a formal string representation, useful for debugging.\n",
        "- **`__add__(self, other)`**: Defines behavior for the `+` operator.\n",
        "- **`__eq__(self, other)`**: Defines behavior for the `==` operator.\n",
        "- **`__len__(self)`**: Returns the length of an object (used by `len()`).\n",
        "\n",
        "These methods help in defining how objects behave in various scenarios like arithmetic, comparisons, and string operations."
      ]
    },
    {
      "cell_type": "code",
      "execution_count": null,
      "metadata": {
        "colab": {
          "base_uri": "https://localhost:8080/"
        },
        "id": "BvLRusCPWnNo",
        "outputId": "ce844f36-6445-4a45-ac50-a0d58ab64777"
      },
      "outputs": [
        {
          "name": "stdout",
          "output_type": "stream",
          "text": [
            "Brand: Toyota\n",
            "Model: Camry\n",
            "Brand: Ford\n",
            "Capacity: F-150\n"
          ]
        }
      ],
      "source": [
        "#Q6 - Explain the inheritence concept in oops?\n",
        "#Answer-Inheritance is a fundamental concept in Object-Oriented Programming (OOP) that allows one class (child or subclass) to inherit the properties and behaviors (methods) of another class (parent or superclass). It promotes code reusability and helps to establish a hierarchical relationship between classes.\n",
        "\n",
        "#Key points of inheritance:\n",
        "\n",
        "\n",
        "#Parent Class (Superclass): The class that provides the common functionality or properties.\n",
        "#Child Class (Subclass): The class that inherits the properties and methods from the parent class and can also have its own additional features or override the inherited ones.\n",
        "#Code Reusability: The child class does not need to rewrite the code already defined in the parent class. It can reuse it and extend it if needed.\n",
        "#Access to Parent's Methods and Attributes: The child class inherits the methods and attributes of the parent class, allowing it to access and modify them unless overridden or restricted.\n",
        "\n",
        "#For example, in a class hierarchy where you have a Vehicle parent class, and two child classes, Car and Truck:\n",
        "\n",
        "class Vehicle:\n",
        "    def __init__(self, brand):\n",
        "        self.brand = brand\n",
        "\n",
        "    def display_info(self):\n",
        "        print(f\"Brand: {self.brand}\")\n",
        "\n",
        "class Car(Vehicle):\n",
        "    def __init__(self, brand, model):\n",
        "        super().__init__(brand)  # Call the constructor of the parent class\n",
        "        self.model = model\n",
        "\n",
        "    def display_info(self):\n",
        "        super().display_info()  # Call the method of the parent class\n",
        "        print(f\"Model: {self.model}\")\n",
        "\n",
        "class Truck(Vehicle):\n",
        "    def __init__(self, brand, capacity):\n",
        "        super().__init__(brand)\n",
        "        self.capacity = capacity\n",
        "\n",
        "    def display_info(self):\n",
        "        super().display_info()\n",
        "        print(f\"Capacity: {self.capacity}\")\n",
        "\n",
        "# Example of usage\n",
        "car = Car(\"Toyota\", \"Camry\")\n",
        "truck = Truck(\"Ford\", \"F-150\")\n",
        "\n",
        "car.display_info()\n",
        "truck.display_info()\n",
        "\n",
        "#In this example:\n",
        "\n",
        "\n",
        "#The Vehicle class is the parent class.\n",
        "#Car and Truck are subclasses that inherit from Vehicle.\n",
        "#The super() function is used to call methods from the parent class.\n",
        "\n",
        "#Inheritance helps to avoid redundancy and makes the code more modular and easier to maintain."
      ]
    },
    {
      "cell_type": "code",
      "execution_count": null,
      "metadata": {
        "id": "UTbRdYBnXlTf"
      },
      "outputs": [],
      "source": [
        "#Q7- What is polymorphism in oops?\n",
        "#Answer-Polymorphism in Object-Oriented Programming (OOP) refers to the ability of different objects to respond to the same method or function call in different ways. It allows objects of different classes to be treated as objects of a common superclass. The specific method that gets executed depends on the actual object (instance) that calls it. Polymorphism can be classified into two types:\n",
        "\n",
        "#1. **Compile-time Polymorphism (Static Polymorphism)**: This is achieved through method overloading or operator overloading, where the method or operator is resolved at compile time.\n",
        "\n",
        "#2. **Run-time Polymorphism (Dynamic Polymorphism)**: This is achieved through method overriding, where a method in a subclass overrides a method in its superclass. The decision of which method to call is made at runtime based on the object's actual type.\n",
        "\n",
        "#Polymorphism promotes flexibility and reusability in code by allowing one interface to be used for different data types."
      ]
    },
    {
      "cell_type": "code",
      "execution_count": null,
      "metadata": {
        "colab": {
          "base_uri": "https://localhost:8080/"
        },
        "id": "ua8APsQeYPx1",
        "outputId": "be165e3b-771b-42b2-a3d8-0693df2be87f"
      },
      "outputs": [
        {
          "name": "stdout",
          "output_type": "stream",
          "text": [
            "30\n"
          ]
        }
      ],
      "source": [
        "#Q8- how is incapsulation achieved in python?\n",
        "#Answer- In Python, encapsulation is achieved by bundling data (attributes) and methods (functions) that operate on the data into a single unit (class), and restricting access to some of the object's components. This helps protect the internal state of the object and only exposes necessary functionality.\n",
        "#Encapsulation in Python can be implemented using access modifiers to control the visibility and accessibility of class attributes and methods:\n",
        "\n",
        "\n",
        "\n",
        "#Public Members: These are accessible from outside the class. By default, all attributes and methods are public in Python.\n",
        "\n",
        "class MyClass:\n",
        "    def __init__(self):\n",
        "        self.public_attribute = 10\n",
        "\n",
        "\n",
        "\n",
        "#Protected Members: These are indicated by a single underscore (_) prefix. While they are still accessible from outside the class, it's a convention to indicate that these attributes or methods are intended for internal use within the class or its subclasses.\n",
        "\n",
        "class MyClass:\n",
        "    def __init__(self):\n",
        "        self._protected_attribute = 20\n",
        "\n",
        "\n",
        "\n",
        "#Private Members: These are indicated by a double underscore (__) prefix, which makes the attribute or method name \"mangled,\" so it is not directly accessible from outside the class. However, they can still be accessed using a special syntax if needed.\n",
        "\n",
        "class MyClass:\n",
        "    def __init__(self):\n",
        "        self.__private_attribute = 30\n",
        "\n",
        "    def __private_method(self):\n",
        "        return \"This is private\"\n",
        "\n",
        "#To access the private attribute, you would have to use:\n",
        "\n",
        "obj = MyClass()\n",
        "print(obj._MyClass__private_attribute)  # Accessing private member (not recommended)\n",
        "\n",
        "\n",
        "\n",
        "#By using private and protected members, Python provides a mechanism for controlling access to class attributes and methods, encapsulating the internal workings of the class and protecting them from direct modification or access from outside."
      ]
    },
    {
      "cell_type": "code",
      "execution_count": null,
      "metadata": {
        "colab": {
          "base_uri": "https://localhost:8080/"
        },
        "id": "nrUu3Jq_ZPoK",
        "outputId": "cea027fb-7891-4f6a-9e3c-c9e46418d1ab"
      },
      "outputs": [
        {
          "name": "stdout",
          "output_type": "stream",
          "text": [
            "Name: Alice, Age: 30\n"
          ]
        }
      ],
      "source": [
        "#Q9- What is constructer in python?\n",
        "#Answer-In Python, a **constructor** is a special method used to initialize newly created objects. It is called automatically when a new instance of a class is created. The constructor method is defined using the `__init__` method.\n",
        "\n",
        "### Key Points:\n",
        "#- The `__init__` method is the constructor in Python.\n",
        "#- It is automatically called when you create an object of the class.\n",
        "#- The `__init__` method can take arguments to initialize the object's attributes when the object is created.\n",
        "\n",
        "### Syntax:\n",
        "\n",
        "#```python\n",
        "class MyClass:\n",
        "    def __init__(self, attribute1, attribute2):\n",
        "        self.attribute1 = attribute1\n",
        "        self.attribute2 = attribute2\n",
        "\n",
        "\n",
        "### Example:\n",
        "\n",
        "#```python\n",
        "class Person:\n",
        "    def __init__(self, name, age):\n",
        "        self.name = name  # Initialize the 'name' attribute\n",
        "        self.age = age    # Initialize the 'age' attribute\n",
        "\n",
        "    def display(self):\n",
        "        print(f\"Name: {self.name}, Age: {self.age}\")\n",
        "\n",
        "# Creating an object of the Person class\n",
        "person1 = Person(\"Alice\", 30)\n",
        "\n",
        "# Calling the method to display the object's attributes\n",
        "person1.display()\n",
        "\n",
        "\n",
        "\n",
        "\n",
        "\n",
        "#In this example:\n",
        "#- The `__init__` method is called when `person1` is created, and it initializes the `name` and `age` attributes.\n",
        "#- The `display` method then prints these values.\n",
        "\n",
        "### Important Notes:\n",
        "#- The `__init__` method is not a true constructor (in the traditional sense); it only initializes the object's state. The actual object creation is handled by the `__new__` method, but you usually don't need to worry about it.\n",
        "#- The `self` parameter refers to the instance of the object that is being created, and it's used to access the object's attributes and methods inside the `__init__` method."
      ]
    },
    {
      "cell_type": "code",
      "execution_count": null,
      "metadata": {
        "colab": {
          "base_uri": "https://localhost:8080/"
        },
        "id": "QkFq9u6EaP3E",
        "outputId": "a40b9552-1fc5-4c91-c182-352d9370c6fd"
      },
      "outputs": [
        {
          "name": "stdout",
          "output_type": "stream",
          "text": [
            "Class method\n",
            "Static method\n"
          ]
        }
      ],
      "source": [
        "#Q10- what are class and static method in python?\n",
        "#Answer- In Python:\n",
        "\n",
        "#Class Method:\n",
        "\n",
        "\n",
        "#Defined using @classmethod.\n",
        "#The first parameter is cls, representing the class itself.\n",
        "#Can modify class-level attributes.\n",
        "#Typically used for factory methods or modifying class-level data.\n",
        "\n",
        "\n",
        "\n",
        "#Static Method:\n",
        "\n",
        "\n",
        "#Defined using @staticmethod.\n",
        "#Does not take self or cls as the first parameter.\n",
        "#Does not access or modify class or instance attributes.\n",
        "#Typically used for utility functions that don't need access to the class or instance.\n",
        "\n",
        "\n",
        "\n",
        "#Example:\n",
        "\n",
        "class MyClass:\n",
        "    @classmethod\n",
        "    def class_method(cls):\n",
        "        print(\"Class method\")\n",
        "\n",
        "    @staticmethod\n",
        "    def static_method():\n",
        "        print(\"Static method\")\n",
        "\n",
        "#You can call both directly on the class without creating an instance:\n",
        "\n",
        "MyClass.class_method()\n",
        "MyClass.static_method()"
      ]
    },
    {
      "cell_type": "code",
      "execution_count": null,
      "metadata": {
        "colab": {
          "base_uri": "https://localhost:8080/"
        },
        "id": "yqd8Tc7cbf1I",
        "outputId": "9162c571-b543-46d0-e15c-f862cbaef04a"
      },
      "outputs": [
        {
          "name": "stdout",
          "output_type": "stream",
          "text": [
            "5\n",
            "15\n",
            "30\n"
          ]
        }
      ],
      "source": [
        "#Q11- What is method overloading in python?\n",
        "#Answer-In Python, **method overloading** (as seen in other languages) is not directly supported. You cannot define multiple methods with the same name but different parameters. However, you can achieve similar functionality using:\n",
        "\n",
        "#1. **Default Arguments**: Provide default values for parameters to allow flexible method calls.\n",
        "#2. **Variable-Length Arguments** (`*args` or `**kwargs`): Accept any number of arguments.\n",
        "\n",
        "### Example:\n",
        "\n",
        "\n",
        "class Calculator:\n",
        "    def add(self, *args):\n",
        "        return sum(args)\n",
        "\n",
        "calc = Calculator()\n",
        "print(calc.add(5))\n",
        "print(calc.add(5, 10))\n",
        "print(calc.add(5, 10, 15))\n",
        "\n",
        "\n",
        "#This way, you can mimic overloading by handling different types or numbers of arguments."
      ]
    },
    {
      "cell_type": "code",
      "execution_count": null,
      "metadata": {
        "colab": {
          "base_uri": "https://localhost:8080/"
        },
        "id": "azkV4lAVcadF",
        "outputId": "6bdd77de-3b57-43d3-e61b-83f94cad9c08"
      },
      "outputs": [
        {
          "name": "stdout",
          "output_type": "stream",
          "text": [
            "Dog barks\n"
          ]
        }
      ],
      "source": [
        "#Q12- what is method overriding in python?\n",
        "#Answer-Method overriding in Python is a feature that allows a subclass to provide a specific implementation of a method that is already defined in its superclass. When a method is overridden, the subclass version of the method is called instead of the one in the superclass, allowing the subclass to change or extend the behavior of that method.\n",
        "\n",
        "#To override a method, the method in the subclass must have the same name, parameters, and signature as the one in the superclass.\n",
        "\n",
        "#Here's an example:\n",
        "\n",
        "\n",
        "class Animal:\n",
        "    def speak(self):\n",
        "        print(\"Animal speaks\")\n",
        "\n",
        "class Dog(Animal):\n",
        "    def speak(self):\n",
        "        print(\"Dog barks\")\n",
        "\n",
        "# Creating an instance of Dog\n",
        "dog = Dog()\n",
        "dog.speak()  # Output: Dog barks\n",
        "\n",
        "\n",
        "#In this example:\n",
        "#- The `Animal` class has a method `speak()`.\n",
        "#- The `Dog` class inherits from `Animal` and overrides the `speak()` method to provide a different implementation.\n",
        "#- When we call `dog.speak()`, the overridden method in `Dog` is executed, not the one in `Animal`.\n",
        "\n",
        "#This allows for more flexible and specialized behavior in subclasses."
      ]
    },
    {
      "cell_type": "code",
      "execution_count": null,
      "metadata": {
        "colab": {
          "base_uri": "https://localhost:8080/"
        },
        "id": "e7xSiI1TdFs8",
        "outputId": "820c353c-8a08-461f-bae8-c25b448f5a42"
      },
      "outputs": [
        {
          "name": "stdout",
          "output_type": "stream",
          "text": [
            "5\n",
            "314.0\n"
          ]
        }
      ],
      "source": [
        "#Q13- What is a property decorator in python!?\n",
        "#Answer-In Python, the `@property` decorator is used to define a method as a property, allowing you to access it like an attribute without needing to explicitly call it as a method. This is useful when you want to calculate or control the value of an attribute dynamically, but still maintain the syntax of accessing it as if it were a regular attribute.\n",
        "\n",
        "#When you use the `@property` decorator, the method becomes a getter for an attribute. You can also define a setter and deleter for the property using `@<property_name>.setter` and `@<property_name>.deleter`.\n",
        "\n",
        "#Here's an example:\n",
        "\n",
        "\n",
        "class Circle:\n",
        "    def __init__(self, radius):\n",
        "        self._radius = radius\n",
        "\n",
        "    @property\n",
        "    def radius(self):\n",
        "        return self._radius\n",
        "\n",
        "    @radius.setter\n",
        "    def radius(self, value):\n",
        "        if value < 0:\n",
        "            raise ValueError(\"Radius cannot be negative\")\n",
        "        self._radius = value\n",
        "\n",
        "    @property\n",
        "    def area(self):\n",
        "        return 3.14 * self._radius * self._radius\n",
        "\n",
        "# Create an instance of Circle\n",
        "circle = Circle(5)\n",
        "\n",
        "# Access radius like an attribute\n",
        "print(circle.radius)  # Output: 5\n",
        "\n",
        "# Set radius using the setter\n",
        "circle.radius = 10\n",
        "\n",
        "# Access the area property\n",
        "print(circle.area)  # Output: 314.0\n",
        "\n",
        "# Trying to set a negative radius will raise an error\n",
        "# circle.radius = -5  # This will raise ValueError\n",
        "\n",
        "\n",
        "#In this example:\n",
        "#- `radius` is a property with a getter and setter. The getter returns the value of `_radius`, and the setter ensures that the radius can't be set to a negative value.\n",
        "#- `area` is a read-only property that calculates the area of the circle based on the radius.\n",
        "\n",
        "### Key Points:\n",
        "#1. **Getter**: With `@property`, you can access the method like an attribute.\n",
        "#2. **Setter**: With `@<property_name>.setter`, you can define how the property is set.\n",
        "#3. **Deleter**: You can define a deleter to delete the property if needed using `@<property_name>.deleter`.\n",
        "\n",
        "#The `@property` decorator is often used to provide controlled access to private attributes, making the code cleaner and more Pythonic."
      ]
    },
    {
      "cell_type": "code",
      "execution_count": null,
      "metadata": {
        "colab": {
          "base_uri": "https://localhost:8080/",
          "height": 159
        },
        "id": "NHI16Ir_d12y",
        "outputId": "5bbbc5f6-341c-405a-84ff-a23df4202c31"
      },
      "outputs": [
        {
          "ename": "IndentationError",
          "evalue": "unindent does not match any outer indentation level (<tokenize>, line 17)",
          "output_type": "error",
          "traceback": [
            "\u001b[0;36m  File \u001b[0;32m\"<tokenize>\"\u001b[0;36m, line \u001b[0;32m17\u001b[0m\n\u001b[0;31m    def make_animal_speak(animal):\u001b[0m\n\u001b[0m    ^\u001b[0m\n\u001b[0;31mIndentationError\u001b[0m\u001b[0;31m:\u001b[0m unindent does not match any outer indentation level\n"
          ]
        }
      ],
      "source": [
        "#Q14- why is polymorphism important in oops?\n",
        "#Answer-Polymorphism is a fundamental concept in Object-Oriented Programming (OOP) and is important because it allows for **flexibility, reusability, and maintainability** in code. It enables objects of different classes to be treated as objects of a common superclass, even if they have different behaviors. Here's why polymorphism is crucial in OOP:\n",
        "\n",
        "### 1. **Code Reusability:**\n",
        "   #Polymorphism allows you to use the same interface (method or function) to operate on different types of objects. This reduces code duplication. For example, a method can accept a base class type, but different subclasses can implement the method differently.\n",
        "\n",
        "   #**Example:**\n",
        "\n",
        "  class Dog:\n",
        "       def speak(self):\n",
        "           print(\"Woof\")\n",
        "\n",
        "  class Cat:\n",
        "       def speak(self):\n",
        "           print(\"Meow\")\n",
        "\n",
        "   def make_animal_speak(animal):\n",
        "       animal.speak()\n",
        "\n",
        "   dog = Dog()\n",
        "   cat = Cat()\n",
        "\n",
        "   make_animal_speak(dog)\n",
        "   make_animal_speak(cat)\n",
        "\n",
        "\n",
        "  # In this example, we can use the same `make_animal_speak` function for both `Dog` and `Cat` classes. This avoids writing separate code for each animal type.\n",
        "\n",
        "### 2. **Flexibility and Extensibility:**\n",
        "  # Polymorphism allows you to write code that works with objects of various classes that share a common interface. When new classes are added, they can be seamlessly integrated without changing the code that uses polymorphism.\n",
        "\n",
        "   #**Example:**\n",
        "   #Imagine you add a `Bird` class to the previous code:\n",
        "  # ```python\n",
        "   class Bird:\n",
        "       def speak(self):\n",
        "           print(\"Chirp\")\n",
        "\n",
        "\n",
        "\n",
        "\n",
        "### 3. **Decoupling Code:**\n",
        "  # Polymorphism helps decouple the code because it allows a function to interact with objects of different types without knowing their specific class types. This leads to more maintainable and easier-to-understand code.\n",
        "\n",
        "  # For example, rather than checking the type of object inside a function and taking different actions for each type (using `if` or `switch` statements), polymorphism allows you to simply call the same method, and the correct behavior is automatically chosen based on the object’s actual class.\n",
        "\n",
        "### 4. **Improved Maintainability:**\n",
        "  # Since polymorphism allows you to use common interfaces, modifying behavior in subclasses is easier. If you need to change the implementation of a method in one subclass, it won't affect the code in other parts of your application as long as the method signature remains consistent. This results in lower chances of introducing bugs when extending the system.\n",
        "\n",
        "### 5. **Simplifying Code and Reducing Complexity:**\n",
        "  # Polymorphism allows you to write simpler and more general functions or classes that can work with any subclass of a given class, reducing the need for complex, repetitive, and error-prone code. This leads to cleaner and more readable code.\n",
        "\n",
        "\n",
        "\n",
        "#In summary, polymorphism is important in OOP because it enhances flexibility, code reuse, and maintainability by allowing different types to be handled uniformly. It lets developers design systems that are easier to extend, maintain, and understand."
      ]
    },
    {
      "cell_type": "code",
      "execution_count": null,
      "metadata": {
        "colab": {
          "base_uri": "https://localhost:8080/"
        },
        "id": "q0Mh5QdGfjrC",
        "outputId": "c5c7f07e-9580-44db-9c80-4a2d97447484"
      },
      "outputs": [
        {
          "name": "stdout",
          "output_type": "stream",
          "text": [
            "Woof!\n",
            "Meow!\n"
          ]
        }
      ],
      "source": [
        "#Q15- what is an abstract class in python?\n",
        "#Answer-An abstract class in Python is a class that cannot be instantiated directly. It is designed to be subclassed, and it often defines abstract methods that must be implemented by any subclass. Abstract classes provide a blueprint for other classes to follow.\n",
        "#You define an abstract class using the abc (Abstract Base Class) module, and abstract methods are marked with the @abstractmethod decorator. Abstract methods have no implementation in the abstract class, forcing subclasses to provide their own implementation.\n",
        "\n",
        "#Key Points:#Abstract Class: A class that contains one or more abstract methodsAbstract Method: A method that is declared but not implemented in the abstract class. Subclasses must implement it.Cannot Instantiate: You cannot create an instance of an abstract class directly.\n",
        "#Example:\n",
        "from abc import ABC, abstractmethod\n",
        "\n",
        "class Animal(ABC):\n",
        "\n",
        "    @abstractmethod\n",
        "    def sound(self):\n",
        "        pass\n",
        "\n",
        "class Dog(Animal):\n",
        "    def sound(self):\n",
        "        print(\"Woof!\")\n",
        "\n",
        "class Cat(Animal):\n",
        "    def sound(self):\n",
        "        print(\"Meow!\")\n",
        "\n",
        "# dog = Animal()  # This will #raise an error because Animal is #abstract\n",
        "dog = Dog()\n",
        "dog.sound()\n",
        "\n",
        "cat = Cat()\n",
        "cat.sound()"
      ]
    },
    {
      "cell_type": "code",
      "execution_count": null,
      "metadata": {
        "colab": {
          "background_save": true,
          "base_uri": "https://localhost:8080/",
          "height": 245
        },
        "id": "9cmAGJQc_ud4",
        "outputId": "46765800-cc4c-4189-b286-66ea44ed7389"
      },
      "outputs": [
        {
          "ename": "SyntaxError",
          "evalue": "invalid character '’' (U+2019) (<ipython-input-2-1539663598ef>, line 14)",
          "output_type": "error",
          "traceback": [
            "\u001b[0;36m  File \u001b[0;32m\"<ipython-input-2-1539663598ef>\"\u001b[0;36m, line \u001b[0;32m14\u001b[0m\n\u001b[0;31m    Maintainability: OOP’s modularity and encapsulation principles make it easier to locate and fix bugs. Changes made to one part of the system do not usually affect other parts.\u001b[0m\n\u001b[0m                        ^\u001b[0m\n\u001b[0;31mSyntaxError\u001b[0m\u001b[0;31m:\u001b[0m invalid character '’' (U+2019)\n"
          ]
        }
      ],
      "source": [
        "#Q16- what are the advantages of oops?\n",
        "#Answer- Object-Oriented Programming (OOP) offers several advantages that help developers write more efficient, maintainable, and scalable code. Some of the key benefits of OOP are:\n",
        "\n",
        "\n",
        "\n",
        "#Modularity: OOP organizes code into classes and objects, which are self-contained units. This makes it easier to manage and update individual parts of a program without affecting others.\n",
        "\n",
        "\n",
        "\n",
        "#Reusability: Once a class is written, it can be reused across different programs or systems. Inheritance allows new classes to be based on existing ones, enabling code reuse and reducing duplication.\n",
        "\n",
        "\n",
        "\n",
        "#Maintainability: OOP’s modularity and encapsulation principles make it easier to locate and fix bugs. Changes made to one part of the system do not usually affect other parts.\n",
        "\n",
        "\n",
        "\n",
        "#Scalability: OOP’s principles allow for easier expansion of a system. Adding new features or modifying existing ones can be done in a way that minimally impacts the rest of the system.\n",
        "\n",
        "\n",
        "\n",
        "#Data Encapsulation: OOP allows data to be hidden inside classes, which prevents direct modification from outside the class. This reduces the risk of unintended side effects and enhances security.\n",
        "\n",
        "\n",
        "\n",
        "#Abstraction: OOP allows for abstracting complex systems into simpler, understandable models. This makes it easier to design and work with large systems.\n",
        "\n",
        "\n",
        "\n",
        "#Flexibility through Polymorphism: Polymorphism allows for objects to be treated as instances of their parent class, promoting flexibility in how objects interact with one another.\n",
        "\n",
        "\n",
        "\n",
        "#Improved collaboration: OOP encourages a structure where different developers can work on different objects or classes, making it easier to collaborate on large projects.\n",
        "\n",
        "\n",
        "\n",
        "#These advantages make OOP a powerful paradigm for designing large, complex software systems."
      ]
    },
    {
      "cell_type": "code",
      "execution_count": null,
      "metadata": {
        "colab": {
          "base_uri": "https://localhost:8080/"
        },
        "id": "0Z5zFgIGEwHy",
        "outputId": "43c5ad92-435f-4429-ad97-f3495ee8e005"
      },
      "outputs": [
        {
          "name": "stdout",
          "output_type": "stream",
          "text": [
            "Method A from ClassA\n",
            "Method B from ClassB\n",
            "Method C from ClassC\n"
          ]
        }
      ],
      "source": [
        "#Q18- What is multiple inheritence in python?\n",
        "#Answer- Multiple inheritance in Python is a feature that allows a class to inherit attributes and methods from more than one parent class. This means a child class can have multiple base classes, and it can access the properties and behaviors of all those classes.\n",
        "#For example:\n",
        "\n",
        "class ClassA:\n",
        "    def methodA(self):\n",
        "        print(\"Method A from ClassA\")\n",
        "\n",
        "class ClassB:\n",
        "    def methodB(self):\n",
        "        print(\"Method B from ClassB\")\n",
        "\n",
        "class ClassC(ClassA, ClassB):\n",
        "    def methodC(self):\n",
        "        print(\"Method C from ClassC\")\n",
        "\n",
        "# Creating an object of ClassC\n",
        "obj = ClassC()\n",
        "obj.methodA()  # Inherited from ClassA\n",
        "obj.methodB()  # Inherited from ClassB\n",
        "obj.methodC()  # Defined in ClassC\n",
        "\n",
        "#In the above example, ClassC inherits from both ClassA and ClassB. This allows instances of ClassC to access methods from both parent classes (methodA from ClassA and methodB from ClassB), as well as its own method (methodC).\n",
        "\n",
        "#Note: Multiple inheritance can lead to complexity, especially when there are conflicting method names in parent classes. Python resolves such conflicts using the method resolution order (MRO), which determines the order in which classes are searched for methods."
      ]
    },
    {
      "cell_type": "code",
      "execution_count": null,
      "metadata": {
        "colab": {
          "base_uri": "https://localhost:8080/"
        },
        "id": "3ZBGJZK6B_5d",
        "outputId": "f257f9aa-30ab-4dbd-d3e2-59c2d8190025"
      },
      "outputs": [
        {
          "name": "stdout",
          "output_type": "stream",
          "text": [
            "0\n",
            "10\n",
            "20\n"
          ]
        }
      ],
      "source": [
        "#Q17- what is the difference between class variable and instance variables?\n",
        "#Answer- Class variables and instance variables are both used to store data, but they differ in their scope and how they are accessed:\n",
        "#Class Variable:\n",
        "\n",
        "#Belongs to the class itself, not to any specific instance.\n",
        "#Shared by all instances of the class.\n",
        "#It is defined inside the class but outside any method.\n",
        "#If one instance modifies the class variable, the change is reflected across all other instances of the class.\n",
        "#Typically used for properties that should be common to all instances.\n",
        "#Accessed using the class name or an instance.\n",
        "\n",
        "#Example:\n",
        "\n",
        "class MyClass:\n",
        "    class_variable = 0  # class variable\n",
        "\n",
        "obj1 = MyClass()\n",
        "obj2 = MyClass()\n",
        "obj1.class_variable = 5\n",
        "print(obj2.class_variable)\n",
        "\n",
        "\n",
        "#Belongs to a specific instance of the class.\n",
        "#Each object or instance has its own copy of instance variables.\n",
        "#Defined inside the __init__ method or other methods using self.\n",
        "#Changes made to instance variables affect only that particular instance.\n",
        "#Typically used for properties that are unique to each instance.\n",
        "#Accessed using self in instance methods.\n",
        "\n",
        "#Example:\n",
        "\n",
        "class MyClass:\n",
        "    def __init__(self, value):\n",
        "        self.instance_variable = value  # instance variable\n",
        "\n",
        "obj1 = MyClass(10)\n",
        "obj2 = MyClass(20)\n",
        "print(obj1.instance_variable)  # 10\n",
        "print(obj2.instance_variable)"
      ]
    },
    {
      "cell_type": "code",
      "execution_count": null,
      "metadata": {
        "colab": {
          "base_uri": "https://localhost:8080/"
        },
        "id": "jdXeOy0wGz4R",
        "outputId": "3c4b0702-cde5-4262-858b-cbc4cb3e9e74"
      },
      "outputs": [
        {
          "name": "stdout",
          "output_type": "stream",
          "text": [
            "Alice is 30 years old.\n",
            "Person(name='Alice', age=30)\n"
          ]
        }
      ],
      "source": [
        "#Q19- Explain the purpose of__'str'__ and __'repr' in python?\n",
        "#Answer-In Python, both __str__ and __repr__ are special methods that define how an object is represented as a string, but they serve different purposes:\n",
        "\n",
        "#__str__:\n",
        "\n",
        "\n",
        "#Purpose: The __str__ method is used to define a \"nice\" or user-friendly string representation of an object. It is intended to be readable and is called by the str() function or when using print() on an object.\n",
        "#Usage: When you want to print or display the object in a way that makes sense for end-users, you define this method.\n",
        "#Example:\n",
        "class Person:\n",
        "    def __init__(self, name, age):\n",
        "        self.name = name\n",
        "        self.age = age\n",
        "\n",
        "    def __str__(self):\n",
        "        return f\"{self.name} is {self.age} years old.\"\n",
        "\n",
        "p = Person(\"Alice\", 30)\n",
        "print(p)\n",
        "\n",
        "\n",
        "\n",
        "\n",
        "\n",
        "#__repr__:\n",
        "\n",
        "\n",
        "#Purpose: The __repr__ method is used to define an \"official\" string representation of an object, which is more suitable for debugging and development. It is called by the repr() function and is also used in the interactive interpreter when the object is displayed.\n",
        "#Usage: When you want a more detailed or precise string representation, often including enough information to recreate the object.\n",
        "#Example:\n",
        "class Person:\n",
        "    def __init__(self, name, age):\n",
        "        self.name = name\n",
        "        self.age = age\n",
        "\n",
        "    def __repr__(self):\n",
        "        return f\"Person(name='{self.name}', age={self.age})\"\n",
        "\n",
        "p = Person(\"Alice\", 30)\n",
        "print(repr(p))\n",
        "\n",
        "\n",
        "\n",
        "\n",
        "\n",
        "\n",
        "\n",
        "\n",
        "#__str__ is for the \"informal\" or readable string representation, while __repr__ is for the \"formal\" or unambiguous representation.\n",
        "#If __str__ is not defined, Python will fall back on __repr__.\n",
        "#Ideally, __repr__ should return a string that, if passed to eval(), could recreate the object.\n",
        "\n",
        "#In summary, __str__ is meant for end-user display, and __repr__ is intended for developers and debugging."
      ]
    },
    {
      "cell_type": "code",
      "execution_count": null,
      "metadata": {
        "id": "j-sf2f8EH-n6"
      },
      "outputs": [],
      "source": [
        "#Q20- what is the significance of'super() ' function in python?\n",
        "#Answer- In Python, the super() function is used to call a method from a parent (or superclass) in a subclass. It allows you to call methods in a parent class from a child class without explicitly referencing the parent class by name. This is especially useful in multiple inheritance, where you can invoke methods from multiple parent classes.\n",
        "\n",
        "#Key Uses of super():\n",
        "\n",
        "\n",
        "#Accessing Parent Class Methods: It is commonly used to call the constructor (__init__) of the parent class when initializing a child class.\n",
        "\n",
        "class Animal:\n",
        "    def __init__(self, name):\n",
        "        self.name = name\n",
        "\n",
        "class Dog(Animal):\n",
        "    def __init__(self, name, breed):\n",
        "        super().__init__(name)  # Calling parent class's __init__\n",
        "        self.breed = breed\n",
        "\n",
        "\n",
        "\n",
        "#Multiple Inheritance: In the case of multiple inheritance, super() helps ensure that methods from all parent classes are called in the correct order, according to the method resolution order (MRO).\n",
        "\n",
        "class A:\n",
        "    def hello(self):\n",
        "        print(\"Hello from A\")\n",
        "\n",
        "class B(A):\n",
        "    def hello(self):\n",
        "        super().hello()\n",
        "        print(\"Hello from B\")\n",
        "\n",
        "class C(A):\n",
        "    def hello(self):\n",
        "        super().hello()\n",
        "        print(\"Hello from C\")\n",
        "\n",
        "class D(B, C):\n",
        "    def hello(self):\n",
        "        super().hello()  # Calls hello() in the method resolution order\n",
        "        print(\"Hello from D\")\n",
        "\n",
        "\n",
        "\n",
        "#Avoiding Direct Parent Class References: By using super(), your code becomes more maintainable and avoids hardcoding class names. This is particularly useful when you want to change the class hierarchy or refactor your code without modifying every method that calls a parent method."
      ]
    },
    {
      "cell_type": "code",
      "execution_count": null,
      "metadata": {
        "colab": {
          "base_uri": "https://localhost:8080/"
        },
        "id": "9ct6h3pbJnOe",
        "outputId": "3d933fac-f588-43da-8327-a83b701984c3"
      },
      "outputs": [
        {
          "name": "stdout",
          "output_type": "stream",
          "text": [
            "Object created\n",
            "Object is being deleted\n"
          ]
        }
      ],
      "source": [
        "#Q21- what is the significance of _del_ method in python?\n",
        "#Answer- In Python, the __del__ function is a special method, often referred to as a destructor. It is automatically called when an object is about to be destroyed or when it goes out of scope. The __del__ method allows you to clean up resources, such as closing files, network connections, or releasing memory, before the object is deleted.\n",
        "\n",
        "#Here's the significance of the __del__ method:\n",
        "\n",
        "\n",
        "#Resource Cleanup: It's used to release external resources (e.g., files, database connections) when an object is no longer needed.\n",
        "#Automatic Invocation: It is invoked when an object is about to be destroyed, meaning it is implicitly called during the garbage collection process.\n",
        "#Finalization: The __del__ method is a way of customizing the behavior of the finalization process for an object.\n",
        "\n",
        "#Note: The use of __del__ is generally not recommended because Python's garbage collector doesn't guarantee when or if it will call __del__, making it unpredictable. For better resource management, it is suggested to use context managers (with statement) or the try-finally block.\n",
        "\n",
        "#Here's an example:\n",
        "\n",
        "class MyClass:\n",
        "    def __init__(self):\n",
        "        print(\"Object created\")\n",
        "\n",
        "    def __del__(self):\n",
        "        print(\"Object is being deleted\")\n",
        "\n",
        "# Example usage\n",
        "obj = MyClass()\n",
        "del obj  # This will invoke the __del__ method\n",
        "\n",
        "#Output:\n",
        "\n",
        "#Object created\n",
        "#Object is being deleted\n",
        "\n",
        "#In this example, the __del__ method is called when the object obj is deleted using the del keyword."
      ]
    },
    {
      "cell_type": "code",
      "execution_count": null,
      "metadata": {
        "colab": {
          "base_uri": "https://localhost:8080/"
        },
        "id": "7tCTqlo0KvfV",
        "outputId": "ea22dd70-1fe6-4c5a-ecfb-17bdece6531a"
      },
      "outputs": [
        {
          "name": "stdout",
          "output_type": "stream",
          "text": [
            "Hello, Alice!\n",
            "Hello\n"
          ]
        }
      ],
      "source": [
        "#Q22- what is the difference between@staticmethod and @classmethod in pytho?\n",
        "#Answer- In Python, both @staticmethod and @classmethod are used to define methods that are not bound to an instance of a class, but they have some key differences:\n",
        "\n",
        "\n",
        "\n",
        "#@staticmethod:\n",
        "\n",
        "\n",
        "#A static method does not receive an implicit first argument (self or cls).\n",
        "#It behaves like a regular function but belongs to the class's namespace.\n",
        "#Static methods cannot modify object state or class state.\n",
        "#It is called on the class itself or on an instance.\n",
        "\n",
        "#Example:\n",
        "\n",
        "class MyClass:\n",
        "    @staticmethod\n",
        "    def greet(name):\n",
        "        print(f\"Hello, {name}!\")\n",
        "\n",
        "MyClass.greet(\"Alice\")  # Works fine\n",
        "\n",
        "\n",
        "\n",
        "#@classmethod:\n",
        "\n",
        "\n",
        "#A class method receives a reference to the class as its first argument (cls), not the instance.\n",
        "#Class methods can modify the class state (attributes and methods) but not the instance state.\n",
        "#It is typically used for factory methods or methods that need to work with the class itself rather than an instance.\n",
        "\n",
        "#Example:\n",
        "\n",
        "class MyClass:\n",
        "    class_variable = \"Hello\"\n",
        "\n",
        "    @classmethod\n",
        "    def show_class_variable(cls):\n",
        "        print(cls.class_variable)\n",
        "\n",
        "MyClass.show_class_variable()  # Prints: Hello\n",
        "\n",
        "\n",
        "\n",
        "#Summary:\n",
        "\n",
        "#@staticmethod: Does not take any reference to the instance or the class.\n",
        "#@classmethod: Takes a reference to the class (cls) and can modify class-level variables."
      ]
    },
    {
      "cell_type": "code",
      "execution_count": null,
      "metadata": {
        "colab": {
          "base_uri": "https://localhost:8080/"
        },
        "id": "yjOxmvOxLrrh",
        "outputId": "8bbacf76-1cfc-441a-d88b-e3bd87067d87"
      },
      "outputs": [
        {
          "name": "stdout",
          "output_type": "stream",
          "text": [
            "Dog barks\n",
            "Cat meows\n"
          ]
        }
      ],
      "source": [
        "#Q23- how does polymorphism work in python with inheritence?\n",
        "#Answer- In Python, polymorphism allows methods in different classes to have the same name but behave differently based on the object calling the method. This is commonly achieved through inheritance, where a subclass can override methods of its superclass to implement specific behavior.\n",
        "\n",
        "#How it works with inheritance:\n",
        "\n",
        "\n",
        "#Method Overriding: When a subclass inherits from a superclass, it can provide its own version of a method (this is known as method overriding). The method in the subclass can have the same name as the method in the superclass, but it can have a different implementation.\n",
        "\n",
        "\n",
        "\n",
        "#Dynamic Method Dispatch: When an object calls a method, Python dynamically determines which method to call based on the type of the object. This is known as dynamic method resolution, which means the appropriate method is selected at runtime.\n",
        "\n",
        "\n",
        "\n",
        "#Example:\n",
        "class Animal:\n",
        "    def speak(self):\n",
        "        print(\"Animal speaks\")\n",
        "\n",
        "class Dog(Animal):\n",
        "    def speak(self):\n",
        "        print(\"Dog barks\")\n",
        "\n",
        "class Cat(Animal):\n",
        "    def speak(self):\n",
        "        print(\"Cat meows\")\n",
        "\n",
        "# Polymorphism in action\n",
        "def animal_sound(animal):\n",
        "    animal.speak()\n",
        "\n",
        "# Create objects\n",
        "dog = Dog()\n",
        "cat = Cat()\n",
        "\n",
        "# Using the same function, polymorphism lets us call the appropriate method\n",
        "animal_sound(dog)  # Output: Dog barks\n",
        "animal_sound(cat)  # Output: Cat meows\n",
        "\n",
        "\n",
        "\n",
        "\n",
        "#We have a base class Animal with a method speak().\n",
        "#The Dog and Cat classes inherit from Animal and override the speak() method.\n",
        "#The function animal_sound() takes an Animal object and calls the speak() method. Thanks to polymorphism, when dog and cat objects are passed to this function, the method of the respective class (Dog or Cat) gets called, even though both objects are treated as instances of Animal.\n",
        "\n",
        "#This demonstrates how polymorphism works with inheritance in Python, enabling objects to have methods with the same name but different behaviors depending on the object's class."
      ]
    },
    {
      "cell_type": "code",
      "execution_count": null,
      "metadata": {
        "colab": {
          "base_uri": "https://localhost:8080/"
        },
        "id": "J2fqMEsvMhTo",
        "outputId": "b07a522a-bfd6-4493-dc5f-f88c27cc5a0b"
      },
      "outputs": [
        {
          "name": "stdout",
          "output_type": "stream",
          "text": [
            "Animal makes a sound\n",
            "Dog barks\n",
            "New method added dynamically!\n",
            "Hello, world!\n"
          ]
        }
      ],
      "source": [
        "#Q24- what is method changing in python oop?\n",
        "#Answer-In Python, method changing typically refers to altering or modifying the behavior of a method in a class or object. This can happen in various ways, allowing for dynamic changes to how methods work during the runtime of the program. There are several key techniques used for method changing:1. Method Overriding\n",
        "#Method overriding happens when a subclass provides its own implementation of a method that is already defined in its superclass. The subclass's version of the method \"replaces\" the superclass method for instances of the subclass.\n",
        "\n",
        "#Example:\n",
        "\n",
        "class Animal:\n",
        "    def speak(self):\n",
        "        print(\"Animal makes a sound\")\n",
        "\n",
        "class Dog(Animal):\n",
        "    def speak(self):\n",
        "        print(\"Dog barks\")\n",
        "\n",
        "animal = Animal()\n",
        "dog = Dog()\n",
        "animal.speak()  # Output: Animal makes a sound\n",
        "dog.speak()     # Output: Dog barks\n",
        "\n",
        "#2. Dynamic Method Addition\n",
        "#In Python, you can dynamically add or modify methods at runtime. This means you can add new methods to classes or individual instances after the class has been defined.\n",
        "\n",
        "#Example:\n",
        "\n",
        "class MyClass:\n",
        "    pass\n",
        "\n",
        "def new_method(self):\n",
        "    print(\"New method added dynamically!\")\n",
        "\n",
        "# Adding method dynamically to MyClass\n",
        "MyClass.new_method = new_method\n",
        "\n",
        "obj = MyClass()\n",
        "obj.new_method()  # Output: New method added dynamically!\n",
        "\n",
        "#3. Monkey Patching\n",
        "#Monkey patching refers to modifying or extending a method of a class or module after it has been defined. It's typically done to fix bugs or add new functionality without changing the original code. This can affect both built-in classes and third-party libraries.\n",
        "\n",
        "#Example:\n",
        "\n",
        "class MyClass:\n",
        "    def greet(self):\n",
        "        print(\"Hello\")\n",
        "\n",
        "def new_greet(self):\n",
        "    print(\"Hello, world!\")\n",
        "\n",
        "# Changing the method of MyClass dynamically\n",
        "MyClass.greet = new_greet\n",
        "\n",
        "obj = MyClass()\n",
        "obj.greet()  # Output: Hello, world!\n",
        "\n",
        "#4. Method Binding\n",
        "#Method binding refers to the process of linking a method call to the correct method implementation based on the object that is invoking it. In Python, method calls are dynamically bound, meaning the method that gets executed is determined at runtime based on the object type.\n",
        "\n",
        "\n",
        "#In summary, method changing in Python allows you to modify how methods behave, either by altering their implementation, dynamically adding new methods, or using techniques like monkey patching to change existing methods at runtime. This flexibility is one of the powerful features of Python and supports a variety of programming paradigms and patterns."
      ]
    },
    {
      "cell_type": "code",
      "execution_count": null,
      "metadata": {
        "colab": {
          "base_uri": "https://localhost:8080/"
        },
        "id": "u8MqG5yjOIIo",
        "outputId": "8a680581-570f-4390-f2d0-cd4f2b84321b"
      },
      "outputs": [
        {
          "name": "stdout",
          "output_type": "stream",
          "text": [
            "Called with arguments: (1, 2, 3) {'key': 'value'}\n"
          ]
        },
        {
          "data": {
            "text/plain": [
              "3.0"
            ]
          },
          "execution_count": 26,
          "metadata": {},
          "output_type": "execute_result"
        }
      ],
      "source": [
        "#Q25- what is the purpose of _call_ method in python?\n",
        "#Answer-In Python, the `__call__` method is a special method that allows an instance of a class to be called like a function. It is used to make an object callable by using parentheses `()`. This is often used to define behavior that is triggered when the object itself is invoked, enabling the object to act like a function.\n",
        "\n",
        "#Here's a simple example:\n",
        "\n",
        "#```python\n",
        "class MyCallableClass:\n",
        "    def __call__(self, *args, **kwargs):\n",
        "        print(\"Called with arguments:\", args, kwargs)\n",
        "\n",
        "# Create an instance of the class\n",
        "obj = MyCallableClass()\n",
        "\n",
        "# Call the instance like a function\n",
        "obj(1, 2, 3, key=\"value\")\n",
        "\n",
        "\n",
        "#In this example, `obj(1, 2, 3, key=\"value\")` calls the `__call__` method of the object `obj`, and the output would be:\n",
        "\n",
        "\n",
        "#Called with arguments: (1, 2, 3) {'key': 'value'}\n",
        "\n",
        "\n",
        "### Use Cases for `__call__`:\n",
        "1.# **Function-like behavior for objects**: It allows an object to be used as a function, which can be useful in functional programming, callbacks, or decorators.\n",
        "2. #**Simulating closures or functions**: This can help in situations where you want to encapsulate a function's logic in an object.\n",
        "3. #**Customizable behavior**: You can define how the object responds to being \"called\", providing flexibility for various tasks.\n",
        "\n",
        "#Essentially, `__call__` provides a way to give an object the ability to be invoked directly, enhancing its versatility in certain scenarios."
      ]
    },
    {
      "cell_type": "markdown",
      "metadata": {
        "id": "kDWc6qc0PGcf"
      },
      "source": [
        "Practical Questions-"
      ]
    },
    {
      "cell_type": "code",
      "execution_count": null,
      "metadata": {
        "colab": {
          "base_uri": "https://localhost:8080/"
        },
        "id": "yHSOCzACPxil",
        "outputId": "772a22e1-a7f4-4e14-be5c-bf55a190c06b"
      },
      "outputs": [
        {
          "name": "stdout",
          "output_type": "stream",
          "text": [
            "Animal makes a sound\n",
            "Bark!\n"
          ]
        }
      ],
      "source": [
        "#Q1Create a parent class Animal with a method speak() that prints a generic message. Create a child class Dog\n",
        "#that overrides the speak() method to print \"Bark!\".\n",
        "\n",
        "#Answer- Here's the Python code for creating the parent class `Animal` and the child class `Dog` that overrides the `speak()` method:\n",
        "\n",
        "#```python\n",
        "# Parent class\n",
        "class Animal:\n",
        "    def speak(self):\n",
        "        print(\"Animal makes a sound\")\n",
        "\n",
        "# Child class\n",
        "class Dog(Animal):\n",
        "    def speak(self):\n",
        "        print(\"Bark!\")\n",
        "\n",
        "# Creating instances\n",
        "animal = Animal()\n",
        "dog = Dog()\n",
        "\n",
        "# Calling speak method\n",
        "animal.speak()  # Output: Animal makes a sound\n",
        "dog.speak()     # Output: Bark!\n",
        "#```\n",
        "\n",
        "#In this code:\n",
        "#- The `Animal` class has a `speak()` method that prints a generic message.\n",
        "#- The `Dog` class inherits from `Animal` and overrides the `speak()` method to print \"Bark!\"."
      ]
    },
    {
      "cell_type": "code",
      "execution_count": null,
      "metadata": {
        "colab": {
          "base_uri": "https://localhost:8080/"
        },
        "id": "G3yyj-S9Q3zx",
        "outputId": "168fe316-2bdf-4b06-a459-3486d4b87e5e"
      },
      "outputs": [
        {
          "name": "stdout",
          "output_type": "stream",
          "text": [
            "Area of Circle: 78.53981633974483\n",
            "Area of Rectangle: 24\n"
          ]
        }
      ],
      "source": [
        "\n",
        "#Q2. Write a program to create an abstract class Shape with a method area(). Derive classes Circle and Rectangle\n",
        "#from it and implement the area() method in both.\n",
        "\n",
        "\n",
        " #Answer-Here's a Python program that defines an abstract class Shape with an abstract method area(), and then derives Circle and Rectangle classes to implement the area() method for each shape:\n",
        "\n",
        "from abc import ABC, abstractmethod\n",
        "import math\n",
        "\n",
        "# Abstract class Shape\n",
        "class Shape(ABC):\n",
        "\n",
        "    @abstractmethod\n",
        "    def area(self):\n",
        "        pass\n",
        "\n",
        "# Class Circle inheriting from Shape\n",
        "class Circle(Shape):\n",
        "    def __init__(self, radius):\n",
        "        self.radius = radius\n",
        "\n",
        "    def area(self):\n",
        "        return math.pi * self.radius ** 2\n",
        "\n",
        "# Class Rectangle inheriting from Shape\n",
        "class Rectangle(Shape):\n",
        "    def __init__(self, width, height):\n",
        "        self.width = width\n",
        "        self.height = height\n",
        "\n",
        "    def area(self):\n",
        "        return self.width * self.height\n",
        "\n",
        "# Example usage\n",
        "circle = Circle(5)\n",
        "rectangle = Rectangle(4, 6)\n",
        "\n",
        "print(\"Area of Circle:\", circle.area())\n",
        "print(\"Area of Rectangle:\", rectangle.area())\n",
        "\n",
        "#Explanation:\n",
        "\n",
        "#The Shape class is abstract and contains an abstract method area() which doesn't have any implementation.\n",
        "#The Circle and Rectangle classes inherit from Shape and provide their own implementation of the area() method.\n",
        "#In the Circle class, the area is calculated using the formula π * r^2, where r is the radius.\n",
        "#In the Rectangle class, the area is calculated using the formula width * height.\n",
        "\n",
        "#The program will calculate and print the areas of the Circle and Rectangle objects."
      ]
    },
    {
      "cell_type": "code",
      "execution_count": null,
      "metadata": {
        "colab": {
          "base_uri": "https://localhost:8080/"
        },
        "id": "aUbnflAmRWSd",
        "outputId": "7092b1cc-cd76-41ba-d2fc-da9e7a5a753a"
      },
      "outputs": [
        {
          "name": "stdout",
          "output_type": "stream",
          "text": [
            "This is a Electric Vehicle.\n",
            "This is a Tesla Model S car, and it is a Electric Vehicle.\n",
            "This Tesla Model S has a battery capacity of 100 kWh.\n"
          ]
        }
      ],
      "source": [
        "#Q3- Implement a multi-level inheritance scenario where a class Vehicle has an attribute type. Derive a class Car\n",
        "#and further derive a class ElectricCar that adds a battery attribute.\n",
        "#Answer- Here's how you can implement a multi-level inheritance scenario in Python, where a class Vehicle has an attribute type, a class Car is derived from Vehicle, and a further derived class ElectricCar adds a battery attribute:# Base class Vehicle\n",
        "class Vehicle:\n",
        "    def __init__(self, vehicle_type):\n",
        "        self.type = vehicle_type\n",
        "\n",
        "    def display_type(self):\n",
        "        print(f\"This is a {self.type}.\")\n",
        "\n",
        "# Derived class Car\n",
        "class Car(Vehicle):\n",
        "    def __init__(self, vehicle_type, model):\n",
        "        super().__init__(vehicle_type)\n",
        "        self.model = model\n",
        "\n",
        "    def display_info(self):\n",
        "        print(f\"This is a {self.model} car, and it is a {self.type}.\")\n",
        "\n",
        "# Further derived class ElectricCar\n",
        "class ElectricCar(Car):\n",
        "    def __init__(self, vehicle_type, model, battery_capacity):\n",
        "        super().__init__(vehicle_type, model)\n",
        "        self.battery_capacity = battery_capacity\n",
        "\n",
        "    def display_battery_info(self):\n",
        "        print(f\"This {self.model} has a battery capacity of {self.battery_capacity} kWh.\")\n",
        "\n",
        "# Example usage:\n",
        "electric_car = ElectricCar(\"Electric Vehicle\", \"Tesla Model S\", 100)\n",
        "electric_car.display_type()  # From Vehicle class\n",
        "electric_car.display_info()  # From Car class\n",
        "electric_car.display_battery_info()  # From ElectricCar class\n",
        "\n",
        "\n",
        "\n",
        "\n",
        "#Vehicle Class: This is the base class with an attribute type that describes the vehicle type. The display_type() method prints this type.\n",
        "#Car Class: This class is derived from Vehicle. It adds an attribute model to describe the car model. The display_info() method provides details about the car.\n",
        "#ElectricCar Class: This class is derived from Car, and it introduces an additional attribute battery_capacity to describe the car's battery. The display_battery_info() method provides the battery details.\n",
        "\n",
        "#Output Example:\n",
        "#This is a Electric Vehicle.\n",
        "#This is a Tesla Model S car, and #it is a Electric Vehicle.\n",
        "#This Tesla Model S has a battery #capacity of 100 kWh.\n",
        "\n",
        "#This demonstrates the concept of multi-level inheritance, where attributes and methods from the parent classes (Vehicle and Car) are accessible in the derived class ElectricCar."
      ]
    },
    {
      "cell_type": "code",
      "execution_count": null,
      "metadata": {
        "colab": {
          "base_uri": "https://localhost:8080/"
        },
        "id": "XknHay89S-Jt",
        "outputId": "ad0b0717-ba04-4842-f9bc-5a60c920fdb2"
      },
      "outputs": [
        {
          "name": "stdout",
          "output_type": "stream",
          "text": [
            "Vehicle type: Electric Vehicle\n",
            "Car Make: Tesla, Model: Model S\n",
            "Battery Capacity: 100 kWh\n"
          ]
        },
        {
          "data": {
            "text/plain": [
              "3.0"
            ]
          },
          "execution_count": 35,
          "metadata": {},
          "output_type": "execute_result"
        }
      ],
      "source": [
        "#Q4-Implement a multi-level inheritance scenario where a class Vehicle has an attribute type. Derive a class Car\n",
        "#and further derive a class ElectricCar that adds a battery attribute.?\n",
        "#Answer-Here's how you can implement a multi-level inheritance scenario with the `Vehicle`, `Car`, and `ElectricCar` classes:\n",
        "\n",
        "#```python\n",
        "# Base class Vehicle\n",
        "class Vehicle:\n",
        "    def __init__(self, type_of_vehicle):\n",
        "        self.type = type_of_vehicle  # Attribute: type of vehicle\n",
        "\n",
        "    def display_type(self):\n",
        "        print(f\"Vehicle type: {self.type}\")\n",
        "\n",
        "# Derived class Car that inherits from Vehicle\n",
        "class Car(Vehicle):\n",
        "    def __init__(self, type_of_vehicle, make, model):\n",
        "        # Call the constructor of the parent class\n",
        "        super().__init__(type_of_vehicle)\n",
        "        self.make = make   # Attribute: make of the car\n",
        "        self.model = model  # Attribute: model of the car\n",
        "\n",
        "    def display_car_info(self):\n",
        "        print(f\"Car Make: {self.make}, Model: {self.model}\")\n",
        "\n",
        "# Further derived class ElectricCar that inherits from Car\n",
        "class ElectricCar(Car):\n",
        "    def __init__(self, type_of_vehicle, make, model, battery_capacity):\n",
        "        # Call the constructor of the parent class\n",
        "        super().__init__(type_of_vehicle, make, model)\n",
        "        self.battery_capacity = battery_capacity  # Attribute: battery capacity\n",
        "\n",
        "    def display_battery_info(self):\n",
        "        print(f\"Battery Capacity: {self.battery_capacity} kWh\")\n",
        "\n",
        "# Example usage\n",
        "electric_car = ElectricCar(\"Electric Vehicle\", \"Tesla\", \"Model S\", 100)\n",
        "\n",
        "# Display the information\n",
        "electric_car.display_type()  # Inherited from Vehicle\n",
        "electric_car.display_car_info()  # Inherited from Car\n",
        "electric_car.display_battery_info()  # From ElectricCar\n",
        "#```\n",
        "\n",
        "### Explanation:\n",
        "1.# **Vehicle Class**: The base class has an attribute `type`, which defines the type of the vehicle. It also has a method `display_type()` to show the vehicle type.\n",
        "2.# **Car Class**: This class inherits from `Vehicle` and adds attributes for the `make` and `model` of the car, along with a method `display_car_info()` to show this information.\n",
        "3.# **ElectricCar Class**: This class inherits from `Car`, adding a `battery_capacity` attribute and a method `display_battery_info()` to display the battery details.\n",
        "\n",
        "#When you run this, you'll see the full details of the `ElectricCar` object, leveraging inheritance from all the parent classes."
      ]
    },
    {
      "cell_type": "code",
      "execution_count": null,
      "metadata": {
        "colab": {
          "base_uri": "https://localhost:8080/"
        },
        "id": "uT0LsT_0UAWa",
        "outputId": "2b0df338-c9ec-4827-f09a-f3dd60c3d8af"
      },
      "outputs": [
        {
          "name": "stdout",
          "output_type": "stream",
          "text": [
            "Current balance: $1000\n",
            "Deposited: $500. New balance: $1500\n",
            "Withdrew: $200. New balance: $1300\n",
            "Current balance: $1300\n"
          ]
        }
      ],
      "source": [
        "#Q5-Write a program to demonstrate encapsulation by creating a class BankAccount with private attributes\n",
        "#balance and methods to deposit, withdraw, and check balance\n",
        "#Here is a Python program that demonstrates encapsulation with a `BankAccount` class. The class includes private attributes (`balance`) and provides methods for depositing, withdrawing, and checking the balance:\n",
        "\n",
        "#```python\n",
        "class BankAccount:\n",
        "    def __init__(self, initial_balance=0):\n",
        "        # Private attribute for the balance\n",
        "        self.__balance = initial_balance\n",
        "\n",
        "    # Method to deposit money into the account\n",
        "    def deposit(self, amount):\n",
        "        if amount > 0:\n",
        "            self.__balance += amount\n",
        "            print(f\"Deposited: ${amount}. New balance: ${self.__balance}\")\n",
        "        else:\n",
        "            print(\"Deposit amount must be positive.\")\n",
        "\n",
        "    # Method to withdraw money from the account\n",
        "    def withdraw(self, amount):\n",
        "        if amount > 0:\n",
        "            if self.__balance >= amount:\n",
        "                self.__balance -= amount\n",
        "                print(f\"Withdrew: ${amount}. New balance: ${self.__balance}\")\n",
        "            else:\n",
        "                print(\"Insufficient funds.\")\n",
        "        else:\n",
        "            print(\"Withdrawal amount must be positive.\")\n",
        "\n",
        "    # Method to check the current balance\n",
        "    def check_balance(self):\n",
        "        print(f\"Current balance: ${self.__balance}\")\n",
        "\n",
        "# Example usage:\n",
        "account = BankAccount(1000)  # Creating an account with initial balance of $1000\n",
        "account.check_balance()  # Checking initial balance\n",
        "account.deposit(500)     # Depositing $500\n",
        "account.withdraw(200)    # Withdrawing $200\n",
        "account.check_balance()  # Checking balance after transactions\n",
        "#```\n",
        "\n",
        "### Explanation:\n",
        "#-**Private Attribute**: The `__balance` attribute is private, meaning it cannot be accessed directly from outside the class (it is encapsulated).\n",
        "#- **Methods**: The `deposit`, `withdraw`, and `check_balance` methods are used to interact with the balance in a controlled way.\n",
        " # - The `deposit` method adds to the balance.\n",
        " # - The `withdraw` method subtracts from the balance if there are sufficient funds.\n",
        " # - The `check_balance` method simply returns the current balance.\n",
        "\n",
        "### Output:\n",
        "#```\n",
        "#Current balance: $1000\n",
        "#Deposited: $500. New balance: $1500\n",
        "#Withdrew: $200. New balance: $1300\n",
        "#Current balance: $1300\n",
        "#```\n",
        "\n",
        "#This program encapsulates the `balance` attribute, ensuring that external code cannot directly modify the balance without using the provided methods."
      ]
    },
    {
      "cell_type": "code",
      "execution_count": null,
      "metadata": {
        "colab": {
          "base_uri": "https://localhost:8080/"
        },
        "id": "aeR9-7afVd1Q",
        "outputId": "83cc94d5-8cb9-42d9-adeb-fd2108e545e2"
      },
      "outputs": [
        {
          "name": "stdout",
          "output_type": "stream",
          "text": [
            "Playing Guitar\n",
            "Playing Piano\n"
          ]
        }
      ],
      "source": [
        "#Q6-Demonstrate runtime polymorphism using a method play() in a base class Instrument. Derive classes Guitar\n",
        "#and Piano that implement their own version of play().?\n",
        "#Answer-Here's an example of **runtime polymorphism** in Python using a `play()` method in a base class `Instrument`, with derived classes `Guitar` and `Piano` implementing their own versions of `play()`.\n",
        "\n",
        "#```python\n",
        "# Base class\n",
        "class Instrument:\n",
        "    def play(self):\n",
        "        print(\"Playing instrument\")\n",
        "\n",
        "# Derived class 1: Guitar\n",
        "class Guitar(Instrument):\n",
        "    def play(self):\n",
        "        print(\"Playing Guitar\")\n",
        "\n",
        "# Derived class 2: Piano\n",
        "class Piano(Instrument):\n",
        "    def play(self):\n",
        "        print(\"Playing Piano\")\n",
        "\n",
        "# Demonstrating runtime polymorphism\n",
        "if __name__ == \"__main__\":\n",
        "    # Creating objects of the derived classes\n",
        "    instrument1 = Guitar()  # Reference of base class, object of Guitar\n",
        "    instrument2 = Piano()   # Reference of base class, object of Piano\n",
        "\n",
        "    # Demonstrating runtime polymorphism\n",
        "    instrument1.play()  # This will call Guitar's play method\n",
        "    instrument2.play()  # This will call Piano's play method\n",
        "#```\n",
        "\n",
        "### Output:\n",
        "#```\n",
        "#Playing Guitar\n",
        "#Playing Piano\n",
        "#```\n",
        "\n",
        "### Explanation:\n",
        "#- `Instrument` is the base class with a method `play()`.\n",
        "#- `Guitar` and `Piano` are derived classes that override the `play()` method.\n",
        "#- In the `if __name__ == \"__main__\":` block, we create objects `instrument1` and `instrument2` that are references of type `Instrument`, but they are assigned instances of `Guitar` and `Piano` respectively.\n",
        "#- When we call the `play()` method on these objects, Python uses **runtime polymorphism** to invoke the appropriate method based on the actual object type (`Guitar` or `Piano`), not the reference type (`Instrument`).\n",
        "\n",
        "#This demonstrates **runtime polymorphism** in Python where the method to be invoked is determined at runtime based on the object's actual class."
      ]
    },
    {
      "cell_type": "code",
      "execution_count": null,
      "metadata": {
        "colab": {
          "base_uri": "https://localhost:8080/",
          "height": 159
        },
        "id": "pJ8-5J3YXv1o",
        "outputId": "72958225-3ead-45a3-f79d-442cc168bc3c"
      },
      "outputs": [
        {
          "ename": "IndentationError",
          "evalue": "unexpected indent (<ipython-input-54-bd1a59f6fce8>, line 6)",
          "output_type": "error",
          "traceback": [
            "\u001b[0;36m  File \u001b[0;32m\"<ipython-input-54-bd1a59f6fce8>\"\u001b[0;36m, line \u001b[0;32m6\u001b[0m\n\u001b[0;31m    def add_numbers(cls, num1, num2):\u001b[0m\n\u001b[0m    ^\u001b[0m\n\u001b[0;31mIndentationError\u001b[0m\u001b[0;31m:\u001b[0m unexpected indent\n"
          ]
        }
      ],
      "source": [
        "#Q7- Create a class MathOperations with a class method add_numbers() to add two numbers and a static\n",
        "#method subtract_numbers() to subtract two numbers.\n",
        "\n",
        "#Answer- Here is the Python class MathOperations with a class method add_numbers() to add two numbers and a static method subtract_numbers() to subtract two numbers:class MathOperations:\n",
        "classmethod\n",
        "    def add_numbers(cls, num1, num2):\n",
        "        return num1 + num2\n",
        "\n",
        "staticmethod\n",
        "    def subtract_numbers(num1, num2):\n",
        "        return num1 - num2\n",
        "\n",
        "#Explanation:\n",
        "\n",
        "#@classmethod: The add_numbers method is a class method that takes the class (cls) as its first argument, though it's not used in this example.\n",
        "#@staticmethod: The subtract_numbers method is a static method, which does not take self or cls as arguments, and operates independently of the class or instance.\n",
        "\n",
        "#Usage example:\n",
        "# Using class method to add numbers\n",
        "result_add = MathOperations.add_numbers(10, 5)\n",
        "print(\"Addition result:\", result_add)\n",
        "\n",
        "# Using static method to subtract numbers\n",
        "result_subtract = MathOperations.subtract_numbers(10, 5)\n",
        "print(\"Subtraction result:\", result_subtract)"
      ]
    },
    {
      "cell_type": "code",
      "execution_count": null,
      "metadata": {
        "colab": {
          "base_uri": "https://localhost:8080/",
          "height": 141
        },
        "id": "ncuEoAQmYl3z",
        "outputId": "5faf26e5-d158-4f89-98b2-41d1ac9daabb"
      },
      "outputs": [
        {
          "ename": "IndentationError",
          "evalue": "unexpected indent (<ipython-input-5-d73e8f27214d>, line 4)",
          "output_type": "error",
          "traceback": [
            "\u001b[0;36m  File \u001b[0;32m\"<ipython-input-5-d73e8f27214d>\"\u001b[0;36m, line \u001b[0;32m4\u001b[0m\n\u001b[0;31m    count = 0\u001b[0m\n\u001b[0m    ^\u001b[0m\n\u001b[0;31mIndentationError\u001b[0m\u001b[0;31m:\u001b[0m unexpected indent\n"
          ]
        }
      ],
      "source": [
        "#Q8- implement a class Person with a class method to count the total number of persons created?\n",
        "#Answer- Here's a Python implementation of the Person class with a class method that counts the total number of persons created:#class Person:\n",
        "    # Class variable to store the count of persons\n",
        " count = 0\n",
        "\n",
        "    def __init__(self, name, age):\n",
        "        self.name = name\n",
        "        self.age = age\n",
        "        # Increment the count when a new person is created\n",
        "        Person._count += 1\n",
        "\n",
        "    @classmethod\n",
        "    def get_total_persons(cls):\n",
        "        # Class method to get the total number of persons created\n",
        "        return cls._count\n",
        "\n",
        "#Example usage\n",
        "person1 = Person(\"Alice\", 30)\n",
        "person2 = Person(\"Bob\", 25)\n",
        "person3 = Person(\"Charlie\", 35)\n",
        "\n",
        "# Get the total number of persons #created\n",
        "print(Person.get_total_persons())  # Output: 3\n",
        "\n",
        "#Explanation:\n",
        "\n",
        "#The Person class has a class variable _count that tracks the number of Person objects created.\n",
        "#The constructor (__init__) increments the _count variable every time a new Person object is instantiated.\n",
        "#The get_total_persons class method returns the value of the _count variable, showing the total number of Person instances created.\n",
        "\n",
        "#Let me know if you'd like further modifications!"
      ]
    },
    {
      "cell_type": "code",
      "execution_count": null,
      "metadata": {
        "colab": {
          "base_uri": "https://localhost:8080/"
        },
        "id": "I96pIAWh8PSj",
        "outputId": "3ae0054d-4c58-4af4-cc18-64c7728384ce"
      },
      "outputs": [
        {
          "name": "stdout",
          "output_type": "stream",
          "text": [
            "3/4\n"
          ]
        }
      ],
      "source": [
        "#Q9-Write a class Fraction with attributes numerator and denominator. Override the str method to display the\n",
        "#fraction as \"numerator/denominator\".\n",
        "\n",
        "\n",
        "#Answer-  Here’s a Python class `Fraction` that includes the `__str__` method to represent the fraction in the \"numerator/denominator\" format:\n",
        "\n",
        "#```python\n",
        "class Fraction:\n",
        "    def __init__(self, numerator, denominator):\n",
        "        self.numerator = numerator\n",
        "        self.denominator = denominator\n",
        "\n",
        "    def __str__(self):\n",
        "        return f\"{self.numerator}/{self.denominator}\"\n",
        "\n",
        "# Example usage:\n",
        "fraction = Fraction(3, 4)\n",
        "print(fraction)\n",
        "\n",
        "\n",
        "#Explanation:\n",
        "#- The `__init__` method initializes the `numerator` and `denominator` attributes.\n",
        "#- The `__str__` method is overridden to return the fraction in the \"numerator/denominator\" format when the object is printed."
      ]
    },
    {
      "cell_type": "code",
      "execution_count": null,
      "metadata": {
        "colab": {
          "base_uri": "https://localhost:8080/"
        },
        "id": "OixrjFXK9QxE",
        "outputId": "5d2cf91e-d6c3-4bdf-e307-86c9e5274b8d"
      },
      "outputs": [
        {
          "name": "stdout",
          "output_type": "stream",
          "text": [
            "v1 + v2 = Vector(4, 6)\n"
          ]
        }
      ],
      "source": [
        "#Q10- Demonstrate operator overloading by creating a class Vector and overriding the add method to add two\n",
        "#vectors?\n",
        "#Answer-Sure! Here's an example of how to demonstrate operator overloading in Python by creating a `Vector` class and overriding the `+` operator to add two vectors.\n",
        "\n",
        "### Code Example:\n",
        "\n",
        "#```python\n",
        "class Vector:\n",
        "    def __init__(self, x, y):\n",
        "        self.x = x\n",
        "        self.y = y\n",
        "\n",
        "    # Overload the + operator to add two vectors\n",
        "    def __add__(self, other):\n",
        "        if isinstance(other, Vector):\n",
        "            # Add corresponding components of two vectors\n",
        "            return Vector(self.x + other.x, self.y + other.y)\n",
        "        return NotImplemented\n",
        "\n",
        "    def __repr__(self):\n",
        "        return f\"Vector({self.x}, {self.y})\"\n",
        "\n",
        "# Create two vector objects\n",
        "v1 = Vector(3, 4)\n",
        "v2 = Vector(1, 2)\n",
        "\n",
        "# Add the two vectors\n",
        "v3 = v1 + v2\n",
        "\n",
        "print(f\"v1 + v2 = {v3}\")\n",
        "#```\n",
        "\n",
        "### Explanation:\n",
        "#1. **Vector Class**: The `Vector` class represents a vector with two components, `x` and `y`.\n",
        "#2. **Overloading `+`**: The `__add__` method is overridden to define how two `Vector` objects are added. When the `+` operator is used, it adds the corresponding `x` and `y` components of the vectors.\n",
        "#3. **`__repr__` method**: This method provides a string representation of the `Vector` object for easy printing.\n",
        "\n",
        "### Output:\n",
        "\n",
        "#```\n",
        "#v1 + v2 = Vector(4, 6)\n",
        "#```\n",
        "\n",
        "#In this example, we created two `Vector` objects, `v1` and `v2`, and used the `+` operator to add them, which returns a new `Vector` with the sum of their components."
      ]
    },
    {
      "cell_type": "code",
      "execution_count": null,
      "metadata": {
        "colab": {
          "base_uri": "https://localhost:8080/"
        },
        "id": "Qn5mufI698OT",
        "outputId": "1dcb18ac-fef4-4da2-8116-29ee1b1eea7f"
      },
      "outputs": [
        {
          "name": "stdout",
          "output_type": "stream",
          "text": [
            "Hello, my name is Alice and I am 30 years old.\n"
          ]
        }
      ],
      "source": [
        "#Q11-Create a class Person with attributes name and age. Add a method greet() that prints \"Hello, my name is\n",
        "#{name} and I am {age} years old.\"\n",
        "#Answer-Here's a Python class `Person` that includes the requested attributes and method:\n",
        "\n",
        "#```python\n",
        "class Person:\n",
        "    def __init__(self, name, age):\n",
        "        self.name = name\n",
        "        self.age = age\n",
        "\n",
        "    def greet(self):\n",
        "        print(f\"Hello, my name is {self.name} and I am {self.age} years old.\")\n",
        "#```\n",
        "\n",
        "#You can create an instance of the `Person` class and call the `greet` method like this:\n",
        "\n",
        "#```python\n",
        "person1 = Person(\"Alice\", 30)\n",
        "person1.greet()\n",
        "#```\n",
        "\n",
        "#This will output:\n",
        "\n",
        "#```\n",
        "#Hello, my name is Alice and I am 30 years old.\n",
        "#```"
      ]
    },
    {
      "cell_type": "code",
      "execution_count": null,
      "metadata": {
        "colab": {
          "base_uri": "https://localhost:8080/"
        },
        "id": "u12qsJVW-fdD",
        "outputId": "071aac23-98b0-4d21-a115-3fa5b039e6dc"
      },
      "outputs": [
        {
          "name": "stdout",
          "output_type": "stream",
          "text": [
            "John Doe's average grade is: 86.25\n"
          ]
        }
      ],
      "source": [
        "#Q12- Implement a class Student with attributes name and grades. Create a method average_grade() to compute\n",
        "#the average of the grades?\n",
        "#Answer-Here is a simple Python class implementation for the `Student` class with attributes `name` and `grades`, and a method `average_grade()` to compute the average of the grades:\n",
        "\n",
        "#```python\n",
        "class Student:\n",
        "    def __init__(self, name, grades):\n",
        "        self.name = name\n",
        "        self.grades = grades\n",
        "\n",
        "    def average_grade(self):\n",
        "        if not self.grades:\n",
        "            return 0  # Return 0 if no grades are present\n",
        "        return sum(self.grades) / len(self.grades)\n",
        "\n",
        "# Example usage\n",
        "student = Student(\"John Doe\", [85, 90, 78, 92])\n",
        "print(f\"{student.name}'s average grade is: {student.average_grade()}\")\n",
        "#```\n",
        "\n",
        "### Explanation:\n",
        "#1. The `__init__` method initializes the `name` and `grades` attributes of the `Student` class.\n",
        "#2. The `average_grade` method calculates the average of the grades by summing the grades and dividing by the number of grades. If there are no grades, it returns 0."
      ]
    },
    {
      "cell_type": "code",
      "execution_count": null,
      "metadata": {
        "colab": {
          "background_save": true
        },
        "id": "WwItvG0t_K0I",
        "outputId": "fa0288d5-1ed6-4d58-c786-242c4ed4240b"
      },
      "outputs": [
        {
          "name": "stdout",
          "output_type": "stream",
          "text": [
            "Area of the rectangle: 15\n"
          ]
        }
      ],
      "source": [
        "#Q13- Create a class Rectangle with methods set_dimensions() to set the dimensions and area() to calculate the\n",
        "#area ?\n",
        "#Answer- Here is a Python class `Rectangle` that includes the methods `set_dimensions()` to set the dimensions (length and width), and `area()` to calculate the area of the rectangle:\n",
        "\n",
        "#```python\n",
        "class Rectangle:\n",
        "    def __init__(self):\n",
        "        self.length = 0\n",
        "        self.width = 0\n",
        "\n",
        "    def set_dimensions(self, length, width):\n",
        "        \"\"\"Sets the dimensions of the rectangle.\"\"\"\n",
        "        self.length = length\n",
        "        self.width = width\n",
        "\n",
        "    def area(self):\n",
        "        \"\"\"Calculates the area of the rectangle.\"\"\"\n",
        "        return self.length * self.width\n",
        "\n",
        "# Example usage:\n",
        "rect = Rectangle()\n",
        "rect.set_dimensions(5, 3)\n",
        "print(\"Area of the rectangle:\", rect.area())\n",
        "#```\n",
        "\n",
        "### Explanation:\n",
        "1. The `Rectangle` class has an `__init__` method that initializes the dimensions to zero.\n",
        "2. The `set_dimensions` method allows you to set the length and width of the rectangle.\n",
        "3. The `area` method calculates the area using the formula: `length * width`."
      ]
    },
    {
      "cell_type": "code",
      "source": [
        "\n",
        "#Q14-  Create a class Employee with a method calculate_salary() that computes the salary based on hours worked\n",
        "#and hourly rate. Create a derived class Manager that adds a bonus to the salary.\n",
        " #Answer-Here’s how you can create a base Employee class with the calculate_salary() method, and a derived Manager class that adds a bonus to the salary:\n",
        "\n",
        "class Employee:\n",
        "    def __init__(self, name, hours_worked, hourly_rate):\n",
        "        self.name = name\n",
        "        self.hours_worked = hours_worked\n",
        "        self.hourly_rate = hourly_rate\n",
        "\n",
        "    def calculate_salary(self):\n",
        "        return self.hours_worked * self.hourly_rate\n",
        "\n",
        "# Derived class Manager that adds a bonus to the salary\n",
        "class Manager(Employee):\n",
        "    def __init__(self, name, hours_worked, hourly_rate, bonus):\n",
        "        super().__init__(name, hours_worked, hourly_rate)  # Initialize the base class\n",
        "        self.bonus = bonus\n",
        "\n",
        "    def calculate_salary(self):\n",
        "        base_salary = super().calculate_salary()  # Calculate base salary using Employee's method\n",
        "        return base_salary + self.bonus  # Add bonus to the base salary\n",
        "\n",
        "# Example usage:\n",
        "employee = Employee(\"John Doe\", 40, 20)  # 40 hours, $20/hour\n",
        "manager = Manager(\"Jane Smith\", 40, 25, 500)  # 40 hours, $25/hour, $500 bonus\n",
        "\n",
        "print(f\"Employee Salary: ${employee.calculate_salary()}\")\n",
        "print(f\"Manager Salary: ${manager.calculate_salary()}\")\n",
        "\n",
        "#Explanation:\n",
        "\n",
        "\n",
        "#Employee Class:\n",
        "\n",
        "\n",
        "#Initializes with name, hours_worked, and hourly_rate.\n",
        "#The calculate_salary() method computes the salary based on the hours worked and the hourly rate.\n",
        "\n",
        "\n",
        "\n",
        "#Manager Class (Derived class):\n",
        "\n",
        "\n",
        "#Inherits from Employee.\n",
        "#The constructor (__init__) adds an additional bonus parameter.\n",
        "#Overrides the calculate_salary() method to compute the base salary using the Employee method and then adds the bonus to it.\n",
        "\n",
        "\n",
        "\n",
        "#Example Output:\n",
        "#Employee Salary: $800\n",
        "#Manager Salary: $1200"
      ],
      "metadata": {
        "id": "TjNP3-S5AXh5",
        "colab": {
          "base_uri": "https://localhost:8080/"
        },
        "outputId": "9f9d8dc5-5b13-40fc-ca50-56e556eac9a4"
      },
      "execution_count": null,
      "outputs": [
        {
          "output_type": "stream",
          "name": "stdout",
          "text": [
            "Employee Salary: $800\n",
            "Manager Salary: $1500\n"
          ]
        }
      ]
    },
    {
      "cell_type": "code",
      "source": [
        "#Q15- Create a class product with attributes name, price and quantity implement a method total _price() that calculate the total price of the product?\n",
        "#Answer-Here is a Python class for `Product` with the specified attributes and a method `total_price()` to calculate the total price based on quantity and price:\n",
        "\n",
        "#```python\n",
        "class Product:\n",
        "    def __init__(self, name, price, quantity):\n",
        "        self.name = name\n",
        "        self.price = price\n",
        "        self.quantity = quantity\n",
        "\n",
        "    def total_price(self):\n",
        "        return self.price * self.quantity\n",
        "\n",
        "# Example usage:\n",
        "product = Product(\"Laptop\", 1000, 3)\n",
        "print(f\"Total price of {product.name}: ${product.total_price()}\")\n",
        "#```\n",
        "\n",
        "### Explanation:\n",
        "#- The `Product` class has three attributes: `name`, `price`, and `quantity`.\n",
        "#- The `total_price` method multiplies the price by the quantity to return the total price."
      ],
      "metadata": {
        "id": "AUs74hgaBB7R",
        "colab": {
          "base_uri": "https://localhost:8080/"
        },
        "outputId": "db1fc910-5a4b-4db9-8c31-c438037119bc"
      },
      "execution_count": null,
      "outputs": [
        {
          "output_type": "stream",
          "name": "stdout",
          "text": [
            "Total price of Laptop: $3000\n"
          ]
        }
      ]
    },
    {
      "cell_type": "code",
      "source": [
        "#Q16- Create a class Animal with an abstract method sound (). Create two derived classes cow and  sheep that implement the sound() method?\n",
        "#Answer-Certainly! Here's a Python example with an abstract class `Animal` that has the abstract method `sound()`, and two derived classes `Cow` and `Sheep` that implement the `sound()` method:\n",
        "\n",
        "#```python\n",
        "from abc import ABC, abstractmethod\n",
        "\n",
        "# Abstract class Animal\n",
        "class Animal(ABC):\n",
        "    @abstractmethod\n",
        "    def sound(self):\n",
        "        pass\n",
        "\n",
        "# Derived class Cow\n",
        "class Cow(Animal):\n",
        "    def sound(self):\n",
        "        return \"Moo\"\n",
        "\n",
        "# Derived class Sheep\n",
        "class Sheep(Animal):\n",
        "    def sound(self):\n",
        "        return \"Baa\"\n",
        "\n",
        "# Test the classes\n",
        "cow = Cow()\n",
        "sheep = Sheep()\n",
        "\n",
        "print(f\"Cow makes sound: {cow.sound()}\")\n",
        "print(f\"Sheep makes sound: {sheep.sound()}\")\n",
        "#```\n",
        "\n",
        "### Explanation:\n",
        "#1. **Abstract Class `Animal`**: It inherits from `ABC` (Abstract Base Class) and contains the abstract method `sound()`. This method must be implemented by any derived class.\n",
        "#2. **Derived Class `Cow`**: Implements the `sound()` method to return `\"Moo\"`.\n",
        "#3. **Derived Class `Sheep`**: Implements the `sound()` method to return `\"Baa\"`.\n",
        "\n",
        "#When you run the code, it will output:\n",
        "\n",
        "#```\n",
        "#Cow makes sound: Moo\n",
        "#Sheep makes sound: Baa\n",
        "#```\n",
        "\n",
        "#This is a simple example of using abstract classes in Python to enforce that all subclasses must implement a specific method."
      ],
      "metadata": {
        "colab": {
          "base_uri": "https://localhost:8080/"
        },
        "id": "ONZbGnrgCpxH",
        "outputId": "8230cf5f-a71e-464f-d4b1-1119b902c9ae"
      },
      "execution_count": null,
      "outputs": [
        {
          "output_type": "stream",
          "name": "stdout",
          "text": [
            "Cow makes sound: Moo\n",
            "Sheep makes sound: Baa\n"
          ]
        }
      ]
    },
    {
      "cell_type": "code",
      "source": [
        "#Q17- Create a class book with attributes title, author, and year_published. And a method get_ book_ info() that returns a formatted string with the books details?\n",
        "#Answer-Here is a Python class `Book` with the required attributes and method:\n",
        "\n",
        "#```python\n",
        "class Book:\n",
        "    def __init__(self, title, author, year_published):\n",
        "        self.title = title\n",
        "        self.author = author\n",
        "        self.year_published = year_published\n",
        "\n",
        "    def get_book_info(self):\n",
        "        return f\"Title: {self.title}\\nAuthor: {self.author}\\nYear Published: {self.year_published}\"\n",
        "\n",
        "# Example usage:\n",
        "book1 = Book(\"The Great Gatsby\", \"F. Scott Fitzgerald\", 1925)\n",
        "print(book1.get_book_info())\n",
        "#```\n",
        "\n",
        "### Explanation:\n",
        "#- The class `Book` has an `__init__` method that initializes the attributes `title`, `author`, and `year_published`.\n",
        "#- The `get_book_info` method returns a formatted string with the book's details.\n",
        "\n",
        "#You can create instances of the `Book` class and call the `get_book_info()` method to display the book's information."
      ],
      "metadata": {
        "id": "37QaoZuJDoz3",
        "colab": {
          "base_uri": "https://localhost:8080/"
        },
        "outputId": "685fb53a-d24d-4d24-a159-59f64c79a730"
      },
      "execution_count": null,
      "outputs": [
        {
          "output_type": "stream",
          "name": "stdout",
          "text": [
            "Title: The Great Gatsby\n",
            "Author: F. Scott Fitzgerald\n",
            "Year Published: 1925\n"
          ]
        }
      ]
    },
    {
      "cell_type": "code",
      "source": [
        "#Q18- Create a class house with attributes address and price. Create a derived class mansion that adds an attributes number_of_rooms?\n",
        "#Answer-Here’s how you can create a House class with attributes address and price, and a derived class Mansion that adds an additional attribute number_of_rooms:# Base class House\n",
        "class House:\n",
        "    def __init__(self, address, price):\n",
        "        self.address = address\n",
        "        self.price = price\n",
        "\n",
        "    def display_info(self):\n",
        "        print(f\"Address: {self.address}\")\n",
        "        print(f\"Price: ${self.price}\")\n",
        "\n",
        "# Derived class Mansion\n",
        "class Mansion(House):\n",
        "    def __init__(self, address, price, number_of_rooms):\n",
        "        # Call the parent class constructor\n",
        "        super().__init__(address, price)\n",
        "        self.number_of_rooms = number_of_rooms\n",
        "\n",
        "    def display_info(self):\n",
        "        # Display information from both the base and derived classes\n",
        "        super().display_info()\n",
        "        print(f\"Number of rooms: {self.number_of_rooms}\")\n",
        "\n",
        "# Example usage\n",
        "house = House(\"123 Main St\", 250000)\n",
        "mansion = Mansion(\"456 Luxury Ave\", 5000000, 15)\n",
        "\n",
        "print(\"House Info:\")\n",
        "house.display_info()\n",
        "\n",
        "print(\"\\nMansion Info:\")\n",
        "mansion.display_info()\n",
        "\n",
        "\n",
        "\n",
        "\n",
        "#House Class: This class takes address and price as parameters and has a method display_info() to print them.\n",
        "#Mansion Class: This class inherits from House and adds a new attribute, number_of_rooms. The display_info() method is overridden to include the room count, but it also calls the House class's display_info() method using super().\n",
        "\n",
        "#Output:\n",
        "#House Info:\n",
        "#Address: 123 Main St\n",
        "#Price: $250000\n",
        "\n",
        "#Mansion Info:\n",
        "#Address: 456 Luxury Ave\n",
        "#Price: $5000000\n",
        "#Number of rooms: 15"
      ],
      "metadata": {
        "colab": {
          "base_uri": "https://localhost:8080/"
        },
        "id": "Wg5dcU45EnkZ",
        "outputId": "dfed9b1f-3bb0-4e4c-f60f-5cda418b1303"
      },
      "execution_count": null,
      "outputs": [
        {
          "output_type": "stream",
          "name": "stdout",
          "text": [
            "House Info:\n",
            "Address: 123 Main St\n",
            "Price: $250000\n",
            "\n",
            "Mansion Info:\n",
            "Address: 456 Luxury Ave\n",
            "Price: $5000000\n",
            "Number of rooms: 15\n"
          ]
        }
      ]
    }
  ],
  "metadata": {
    "colab": {
      "provenance": [],
      "authorship_tag": "ABX9TyOTRu0twMgfQH0tIc9WXZtj",
      "include_colab_link": true
    },
    "kernelspec": {
      "display_name": "Python 3",
      "name": "python3"
    },
    "language_info": {
      "name": "python"
    }
  },
  "nbformat": 4,
  "nbformat_minor": 0
}