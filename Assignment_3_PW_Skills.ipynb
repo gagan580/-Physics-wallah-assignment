{
  "cells": [
    {
      "cell_type": "markdown",
      "metadata": {
        "id": "view-in-github",
        "colab_type": "text"
      },
      "source": [
        "<a href=\"https://colab.research.google.com/github/gagan580/-Physics-wallah-assignment/blob/main/Assignment_3_PW_Skills.ipynb\" target=\"_parent\"><img src=\"https://colab.research.google.com/assets/colab-badge.svg\" alt=\"Open In Colab\"/></a>"
      ]
    },
    {
      "cell_type": "code",
      "execution_count": null,
      "metadata": {
        "colab": {
          "base_uri": "https://localhost:8080/"
        },
        "id": "cLv-so8oOdBJ",
        "outputId": "5edc6375-d7c6-46f8-9d5b-27cb34375619"
      },
      "outputs": [
        {
          "name": "stdout",
          "output_type": "stream",
          "text": [
            "Hello!\n"
          ]
        }
      ],
      "source": [
        "#Q1- What is the difference between function and method in python?\n",
        "#Answer- In Python, the terms function and method both refer to callable objects, but they are used in different contexts:\n",
        "\n",
        "\n",
        "\n",
        "#Function: A function is a block of code that performs a specific task and can be called independently. Functions are defined using the def keyword. They are not associated with any object or class.\n",
        "\n",
        "#Example:\n",
        "\n",
        "def add(a, b):\n",
        "    return a + b\n",
        "\n",
        "#You can call this function directly:\n",
        "\n",
        "result = add(3, 4)\n",
        "\n",
        "\n",
        "\n",
        "#Method: A method is a function that is associated with an object or a class. In object-oriented programming, methods are functions that are defined within a class and are intended to operate on instances (objects) of that class or the class itself (if it's a class method or static method). Methods are called on instances of a class using dot notation.\n",
        "\n",
        "#Example:\n",
        "\n",
        "class MyClass:\n",
        "    def greet(self):\n",
        "        print(\"Hello!\")\n",
        "\n",
        "obj = MyClass()\n",
        "obj.greet()  # This is a method call\n",
        "\n",
        "\n",
        "\n",
        "#In summary:\n",
        "\n",
        "\n",
        "#Function: Can be called independently.\n",
        "#Method: A function that belongs to an object or class, and is called on that object or class instance."
      ]
    },
    {
      "cell_type": "code",
      "execution_count": null,
      "metadata": {
        "colab": {
          "base_uri": "https://localhost:8080/"
        },
        "id": "tIE2Hh2YRWGX",
        "outputId": "24cb6b49-bbd3-44ac-c1e5-fb56bd486f93"
      },
      "outputs": [
        {
          "name": "stdout",
          "output_type": "stream",
          "text": [
            "Hello, Alice!\n",
            "8\n"
          ]
        }
      ],
      "source": [
        "#Q2- Explain the concept of function argument and parameters in python?\n",
        "#Answer- In Python, function arguments and parameters refer to the values and variables involved when defining and calling functions.\n",
        "\n",
        "#1. Parameters:\n",
        "#Parameters are variables defined in the function signature (when defining a function). They act as placeholders for the values you will pass to the function when you call it.\n",
        "\n",
        "#Example:\n",
        "\n",
        "def greet(name):\n",
        "    print(\"Hello, \" + name + \"!\")\n",
        "\n",
        "#Here, name is a parameter. It's a placeholder that expects a value when the function is called.\n",
        "\n",
        "#2. Arguments:\n",
        "#Arguments are the actual values you provide when you call the function. These values are assigned to the corresponding parameters in the function.\n",
        "\n",
        "#Example:\n",
        "\n",
        "greet(\"Alice\")#\n",
        "\n",
        "#In this case, \"Alice\" is the argument passed to the function greet(), and it gets assigned to the name parameter inside the function.\n",
        "\n",
        "#Key points:\n",
        "\n",
        "#Parameters are like variables in the function definition.\n",
        "#Arguments are the actual values you pass when calling the function.\n",
        "\n",
        "#You can have multiple parameters and pass multiple arguments, matching their positions:\n",
        "\n",
        "def add(a, b):\n",
        "    return a + b\n",
        "\n",
        "result = add(5, 3)  # Here, 5 and #3 are the arguments for #parameters a and b.\n",
        "print(result)  # Output will be 8.##\n",
        "\n",
        "#I hope that clears it up! Would you like more examples or details on this?"
      ]
    },
    {
      "cell_type": "code",
      "execution_count": null,
      "metadata": {
        "colab": {
          "base_uri": "https://localhost:8080/"
        },
        "id": "WuVFYeEhTUC_",
        "outputId": "0403dde0-78d0-419c-e7f2-3e85dcd21fe5"
      },
      "outputs": [
        {
          "name": "stdout",
          "output_type": "stream",
          "text": [
            "Hello, World!\n",
            "Hello, Alice!\n",
            "12\n"
          ]
        }
      ],
      "source": [
        "#Q3- what are different function to call and define function in python?\n",
        "#Answer- In Python, you can define and call functions in the following ways:#Defining Functions:\n",
        "\n",
        "\n",
        "#Using the def keyword: This is the most common way to define a function in Python.\n",
        "\n",
        "def my_function():\n",
        "    print(\"Hello, World!\")\n",
        "\n",
        "#You can also define functions with parameters:\n",
        "\n",
        "def greet(name):\n",
        "    print(f\"Hello, {name}!\")\n",
        "\n",
        "\n",
        "\n",
        "#Using a lambda expression (Anonymous function): A lambda function is a small, one-line function that doesn't require a formal function definition.\n",
        "\n",
        "add = lambda x, y: x + y\n",
        "\n",
        "\n",
        "\n",
        "#Calling Functions:\n",
        "\n",
        "\n",
        "#Direct Function Call: Once a function is defined, you can call it directly by its name.\n",
        "\n",
        "my_function()  # This calls the function\n",
        "\n",
        "\n",
        "\n",
        "#Calling a function with arguments: You can pass arguments when calling a function.\n",
        "\n",
        "greet(\"Alice\")  # Calls the function with the argument \"Alice\"\n",
        "\n",
        "\n",
        "\n",
        "#Calling a lambda function: You can call a lambda function similarly to regular functions.\n",
        "\n",
        "result = add(3, 4)  # Calls the lambda function and stores the result\n",
        "\n",
        "\n",
        "\n",
        "#Function Returning Values:\n",
        "#Functions can return values using the return statement, and you can call the function and use its returned value:\n",
        "\n",
        "def add(a, b):\n",
        "    return a + b\n",
        "\n",
        "sum_result = add(5, 7)  # Calling the function and using its result\n",
        "print(sum_result)  # Output: 12\n",
        "\n",
        "#These are the basic methods for defining and calling functions in Python."
      ]
    },
    {
      "cell_type": "code",
      "execution_count": null,
      "metadata": {
        "colab": {
          "base_uri": "https://localhost:8080/"
        },
        "id": "3GvlR7SRUkiY",
        "outputId": "0ac15cef-b6f0-4272-f8ed-23285b424349"
      },
      "outputs": [
        {
          "name": "stdout",
          "output_type": "stream",
          "text": [
            "8\n"
          ]
        }
      ],
      "source": [
        "#Q4-What is the purpose of 'return' statement in python??\n",
        "#Answer- The return statement in Python is used to exit a function and pass a value back to the caller. It allows a function to send a result or value back after performing its tasks. When a function encounters a return statement, it stops executing and returns the specified value to wherever the function was called.\n",
        "#Here’s a simple example:\n",
        "\n",
        "def add(a, b):\n",
        "    return a + b\n",
        "\n",
        "result = add(3, 5)\n",
        "print(result)\n",
        "\n",
        "#In this case, the return statement sends the sum of a and b back to where the function was called, and the result is stored in the result variable."
      ]
    },
    {
      "cell_type": "code",
      "execution_count": null,
      "metadata": {
        "colab": {
          "base_uri": "https://localhost:8080/",
          "height": 176
        },
        "id": "t2oPKxeOW12M",
        "outputId": "89e2d312-910a-4dd0-b144-ffbbd75197a0"
      },
      "outputs": [
        {
          "ename": "SyntaxError",
          "evalue": "invalid syntax (<ipython-input-24-b73ffcd72eb8>, line 45)",
          "output_type": "error",
          "traceback": [
            "\u001b[0;36m  File \u001b[0;32m\"<ipython-input-24-b73ffcd72eb8>\"\u001b[0;36m, line \u001b[0;32m45\u001b[0m\n\u001b[0;31m    my_iterator is an iterator created from the iterable my_list, which produces each value when next() is called.\u001b[0m\n\u001b[0m                      ^\u001b[0m\n\u001b[0;31mSyntaxError\u001b[0m\u001b[0;31m:\u001b[0m invalid syntax\n"
          ]
        }
      ],
      "source": [
        "#Q5- what are iterators in python and how  they are different from iterables?\n",
        "#Answer- In Python, iterables and iterators are related concepts, but they are not the same. Here's a breakdown of the differences:\n",
        "\n",
        "#Iterables:\n",
        "\n",
        "#An iterable is any Python object that can return an iterator. In other words, it is an object that can be looped over (iterated).\n",
        "#Examples of iterables include lists, tuples, dictionaries, sets, strings, etc.\n",
        "#To be an iterable, an object must implement the __iter__() method or the __getitem__() method.\n",
        "#You can use a for loop or the iter() function to get an iterator from an iterable.\n",
        "\n",
        "#Iterators:\n",
        "\n",
        "#An iterator is an object that represents a stream of data; it produces values one at a time when you call next() on it.\n",
        "#An iterator must implement two methods:\n",
        "\n",
        "#__iter__(): This returns the iterator object itself.\n",
        "#__next__(): This returns the next value in the sequence, or raises StopIteration when no more values are available.\n",
        "\n",
        "\n",
        "#When you loop over an iterable (such as a list) with a for loop, Python automatically creates an iterator for you behind the scenes.\n",
        "\n",
        "#Key Differences:\n",
        "\n",
        "#Iterables are objects that can be iterated over (like a list or a string), while iterators are objects that do the actual iteration (like a list iterator).\n",
        "#Iterables provide an __iter__() method, while iterators provide both __iter__() and __next__() methods.\n",
        "#Iterators keep track of the state of iteration and can only be traversed once. After an iterator is exhausted, you cannot reuse it, and you would need to create a new iterator from the iterable if needed.\n",
        "\n",
        "#Example:\n",
        "# Example of an iterable (list)\n",
        "my_list = [1, 2, 3]\n",
        "\n",
        "# Creating an iterator from the iterable\n",
        "my_iterator = iter(my_list)\n",
        "\n",
        "# Using the iterator to get values\n",
        "print(next(my_iterator))  # Output: 1\n",
        "print(next(my_iterator))  # Output: 2\n",
        "print(next(my_iterator))  # Output: 3\n",
        "print(next(my_iterator))  # This would raise StopIteration\n",
        "\n",
        "#In this example:\n",
        "\n",
        "\n",
        "#my_list is an iterable (it can be looped over).\n",
        "my_iterator is an iterator created from the iterable my_list, which produces each value when next() is called."
      ]
    },
    {
      "cell_type": "code",
      "execution_count": null,
      "metadata": {
        "colab": {
          "base_uri": "https://localhost:8080/"
        },
        "id": "sebFk0yKYTXQ",
        "outputId": "aa8a18a5-19b7-4cbf-c48a-ca05c3cac5f9"
      },
      "outputs": [
        {
          "name": "stdout",
          "output_type": "stream",
          "text": [
            "1\n",
            "2\n",
            "3\n",
            "0\n",
            "1\n",
            "4\n"
          ]
        }
      ],
      "source": [
        "#Q6- Explain the concept of generators in python and how they are defined?\n",
        "#Answer- A generator in Python is an iterator that produces items one at a time using the yield keyword, instead of generating all items at once and storing them in memory. This makes them memory efficient for handling large datasets.Brief Example:\n",
        "# Generator function\n",
        "def simple_gen():\n",
        "    yield 1\n",
        "    yield 2\n",
        "    yield 3\n",
        "\n",
        "# Using the generator\n",
        "gen = simple_gen()\n",
        "\n",
        "print(next(gen))  # Output: 1\n",
        "print(next(gen))  # Output: 2\n",
        "print(next(gen))  # Output: 3\n",
        "# print(next(gen))  # Raises StopIteration\n",
        "\n",
        "#Key Points:\n",
        "\n",
        "#yield pauses the function and returns a value.\n",
        "#The function can be resumed from where it left off.\n",
        "#Generators are memory efficient because they produce one value at a time.\n",
        "\n",
        "#Example of Generator Expression:\n",
        "gen_expr = (x * x for x in range(3))  # Generator expression\n",
        "print(next(gen_expr))  # Output: 0\n",
        "print(next(gen_expr))  # Output: 1\n",
        "print(next(gen_expr))  # Output: 4\n",
        "\n",
        "#Generators save memory by not storing all values at once."
      ]
    },
    {
      "cell_type": "code",
      "execution_count": null,
      "metadata": {
        "colab": {
          "background_save": true
        },
        "id": "qqwXHWvZZchf"
      },
      "outputs": [],
      "source": [
        "#Q7- what are the advantage of using generator over normal function?\n",
        "#Answer- Generators offer several advantages over normal functions, especially when working with large datasets or when you need to manage memory efficiently. Here are some key advantages:\n",
        "\n",
        "#Memory Efficiency: Generators yield items one at a time and only when needed, which means they don't store all items in memory. This is ideal for working with large datasets or streams of data.\n",
        "\n",
        "\n",
        "\n",
        "#Lazy Evaluation: A generator doesn’t compute all of its values at once; it computes values on demand (i.e., lazily). This can improve performance when not all data is needed at once.\n",
        "\n",
        "\n",
        "\n",
        "#State Retention: Generators maintain their state between function calls. This means they can continue where they left off without having to store or pass around the state explicitly.\n",
        "\n",
        "\n",
        "\n",
        "#Simpler Code for Iteration: Using a generator simplifies the code for iterating through a series of values. You don't need to manually manage the iteration and state (like with a loop and an external iterator).\n",
        "\n",
        "\n",
        "\n",
        "#Better Performance for I/O Bound Tasks: When you're dealing with tasks like file reading or network requests, generators can improve performance by processing data in chunks rather than waiting for everything to load into memory.\n",
        "\n",
        "\n",
        "\n",
        "#Generators can be really helpful when performance and memory efficiency are priorities."
      ]
    },
    {
      "cell_type": "code",
      "source": [
        "#Q8- what is a lambda function in python and when it is typically used?\n",
        "#Answer- A lambda function in Python is a small anonymous function defined with the lambda keyword. It can take any number of arguments, but it only has one expression.\n",
        "\n",
        "#Syntax:\n",
        "lambda arguments: expression##\n",
        "\n",
        "#Example:\n",
        "# Lambda function that adds two #numbers\n",
        "add = lambda x, y: x + y\n",
        "print(add(2, 3))  # Output: 5#\n",
        "\n",
        "#Typical use cases:\n",
        "\n",
        "\n",
        "#With map(): Apply a function to each item in a list.\n",
        "\n",
        "numbers = [1, 2, 3]\n",
        "squared = list(map(lambda x: x ** 2, numbers))\n",
        "print(squared)  # Output: [1, 4, 9]#\n",
        "\n",
        "\n",
        "\n",
        "#With filter(): Filter items based on a condition.\n",
        "\n",
        "numbers = [1, 2, 3, 4, 5]\n",
        "even = list(filter(lambda x: x % 2 == 0, numbers))\n",
        "print(even)  # Output: [2, 4]#\n",
        "\n",
        "\n",
        "\n",
        "#When to use:\n",
        "\n",
        "#For small, one-off functions that don't require a full function definition."
      ],
      "metadata": {
        "colab": {
          "base_uri": "https://localhost:8080/"
        },
        "id": "41j6dv9FbXgl",
        "outputId": "c32af182-0159-401c-c4f4-6429f8001878"
      },
      "execution_count": null,
      "outputs": [
        {
          "output_type": "stream",
          "name": "stdout",
          "text": [
            "5\n",
            "[1, 4, 9]\n",
            "[2, 4]\n"
          ]
        }
      ]
    },
    {
      "cell_type": "code",
      "source": [
        "#Q9- explain the purpose of usage of 'map()' function in python ?\n",
        "#Answer- The map() function in Python applies a given function to each item in an iterable (like a list or tuple) and returns an iterator with the results. It’s a concise way to transform data without using a loop.\n",
        "#Example:\n",
        "\n",
        "numbers = [1, 2, 3]\n",
        "doubled = map(lambda x: x * 2, numbers)\n",
        "print(list(doubled))"
      ],
      "metadata": {
        "colab": {
          "base_uri": "https://localhost:8080/"
        },
        "id": "VQfrOICvcMp-",
        "outputId": "3c05ca4b-7d33-4a0d-8180-c34d4d8e3752"
      },
      "execution_count": null,
      "outputs": [
        {
          "output_type": "stream",
          "name": "stdout",
          "text": [
            "[2, 4, 6]\n"
          ]
        }
      ]
    },
    {
      "cell_type": "code",
      "source": [
        "#Q10- What is the difference between map(), reduce (),filter() function in python?\n",
        "#Answer-In Python, map(), reduce(), and filter() are higher-order functions that allow you to perform operations on iterable data (like lists). Here's a breakdown of each:\n",
        "\n",
        "#map():\n",
        "\n",
        "\n",
        "#Purpose: Applies a function to every item in an iterable (like a list) and returns an iterator of the results.\n",
        "#Syntax: map(function, iterable)\n",
        "#Use case: When you want to transform or modify each element in an iterable.\n",
        "#Example:\n",
        "nums = [1, 2, 3, 4]\n",
        "squared = map(lambda x: x**2, nums)\n",
        "print(list(squared))  # #Output: [1, 4, 9, 16]#\n",
        "\n",
        "\n",
        "\n",
        "\n",
        "\n",
        "#filter():\n",
        "\n",
        "\n",
        "#Purpose: Filters elements from an iterable based on a function that returns either True or False. Only the elements that evaluate to True are included in the result.\n",
        "#Syntax: filter(function, iterable)\n",
        "#Use case: When you want to remove elements from an iterable based on a condition.\n",
        "#Example:\n",
        "nums = [1, 2, 3, 4, 5, 6]\n",
        "even = filter(lambda x: x % 2 == 0, nums)\n",
        "print(list(even))  # #Output: [2, 4, 6]#\n",
        "\n",
        "\n",
        "\n",
        "\n",
        "\n",
        "#reduce() (from functools module):\n",
        "\n",
        "\n",
        "#Purpose: Applies a function cumulatively to the items of an iterable, from left to right, so as to reduce the iterable to a single value.\n",
        "#Syntax: reduce(function, iterable, [initializer])\n",
        "#Use case: When you want to combine all items in an iterable into a single value (e.g., sum, product).\n",
        "#Example:\n",
        "from functools import reduce\n",
        "nums = [1, 2, 3, 4]\n",
        "product = reduce(lambda x, y: x * y, nums)\n",
        "print(product)  # #Output: 24\n",
        "\n",
        "\n",
        "\n",
        "\n",
        "\n",
        "\n",
        "\n",
        "\n",
        "#map(): Transforms each element of the iterable.\n",
        "#filter(): Filters elements based on a condition.\n",
        "#reduce(): Reduces the iterable to a single value by applying a function cumulatively.\n",
        "\n",
        "#Let me know if you'd like more examples or further clarification!"
      ],
      "metadata": {
        "id": "MujnRMZqc4mz",
        "colab": {
          "base_uri": "https://localhost:8080/"
        },
        "outputId": "89b4fd50-a77c-4952-9acd-ee80c69c2788"
      },
      "execution_count": null,
      "outputs": [
        {
          "output_type": "stream",
          "name": "stdout",
          "text": [
            "[1, 4, 9, 16]\n",
            "[2, 4, 6]\n",
            "24\n"
          ]
        }
      ]
    },
    {
      "cell_type": "code",
      "source": [
        "#Practical questions"
      ],
      "metadata": {
        "id": "VjckqOFXME4w"
      },
      "execution_count": null,
      "outputs": []
    },
    {
      "cell_type": "code",
      "source": [
        "#Q1- Write a python function that takes a list of number as input and returns the sum of all even number in list?\n",
        "#Answer- Here’s a Python function that takes a list of numbers as input and returns the sum of all the even numbers in the list:\n",
        "\n",
        "def sum_of_even_numbers(numbers):\n",
        "    even_sum = 0\n",
        "    for number in numbers:\n",
        "        if number % 2 == 0:\n",
        "            even_sum += number\n",
        "    return even_sum\n",
        "\n",
        " #You can use this function by passing a list of numbers as an argument:\n",
        "\n",
        "numbers = [1, 2, 3, 4, 5, 6]\n",
        "result = sum_of_even_numbers(numbers)\n",
        "print(result)\n",
        "\n",
        " #This function iterates over the list, checks if each number is even (using the modulo operation), and adds it to the sum if it is even."
      ],
      "metadata": {
        "colab": {
          "base_uri": "https://localhost:8080/"
        },
        "id": "xM6uGI_eMS44",
        "outputId": "7213c943-fed5-4443-af01-3318fdff2e57"
      },
      "execution_count": null,
      "outputs": [
        {
          "output_type": "stream",
          "name": "stdout",
          "text": [
            "12\n"
          ]
        }
      ]
    },
    {
      "cell_type": "code",
      "source": [
        "#Q2- Create a python function that accepts a string and returns the reverse of that string?\n",
        "#Answer-Here’s a simple Python function that accepts a string and returns its reverse:\n",
        "\n",
        "#```python\n",
        "def reverse_string(s):\n",
        "    return s[::-1]\n",
        "#```\n",
        "\n",
        "#You can use this function like so:\n",
        "\n",
        "#```python\n",
        "input_string = \"hello\"\n",
        "reversed_string = reverse_string(input_string)\n",
        "print(reversed_string)\n",
        "#```"
      ],
      "metadata": {
        "colab": {
          "base_uri": "https://localhost:8080/"
        },
        "id": "RuUEHlyVNhez",
        "outputId": "38349033-263c-4cf5-c5ae-e8056860c112"
      },
      "execution_count": null,
      "outputs": [
        {
          "output_type": "stream",
          "name": "stdout",
          "text": [
            "olleh\n"
          ]
        }
      ]
    },
    {
      "cell_type": "code",
      "source": [
        "#Q3- Implement a  python function that contains list of integers and returns a new list containing the square of each number?\n",
        "#Answer-\n",
        "def square_numbers(numbers):\n",
        "    return [x ** 2 for x in numbers]\n",
        "\n",
        "#You can use this function by passing a list of integers:\n",
        "\n",
        "numbers = [1, 2, 3, 4, 5]\n",
        "squared = square_numbers(numbers)\n",
        "print(squared)\n",
        "\n",
        "\n",
        "\n",
        "#Let me know if you need any further explanation or modifications!"
      ],
      "metadata": {
        "id": "mAYO9wc_Ojfp",
        "colab": {
          "base_uri": "https://localhost:8080/"
        },
        "outputId": "fcb08b73-5490-4167-c188-a4307463bfc6"
      },
      "execution_count": null,
      "outputs": [
        {
          "output_type": "stream",
          "name": "stdout",
          "text": [
            "[1, 4, 9, 16, 25]\n"
          ]
        }
      ]
    },
    {
      "cell_type": "code",
      "source": [
        "#Q4- write a python function that checks if a given number is prime or not 1 to 200?\n",
        "#Answer- Here is a Python function that checks if a given number between 1 and 200 is prime:\n",
        "def is_prime(n):\n",
        "    if n <= 1:\n",
        "        return False\n",
        "    for i in range(2, int(n**0.5) + 1):\n",
        "        if n % i == 0:\n",
        "            return False\n",
        "    return True\n",
        "\n",
        "# Example usage:\n",
        "for number in range(1, 201):\n",
        "    if is_prime(number):\n",
        "        print(number)\n",
        "\n",
        "#This function defines is_prime(n) which checks if a number n is prime. It then iterates over the range from 1 to 200 and prints the prime numbers. It uses the square root optimization for efficiency when checking divisibility."
      ],
      "metadata": {
        "id": "ROehnF08ZcLR",
        "colab": {
          "base_uri": "https://localhost:8080/"
        },
        "outputId": "e75a33b8-1407-4de6-e9fc-25e5ec8f578b"
      },
      "execution_count": null,
      "outputs": [
        {
          "output_type": "stream",
          "name": "stdout",
          "text": [
            "2\n",
            "3\n",
            "5\n",
            "7\n",
            "11\n",
            "13\n",
            "17\n",
            "19\n",
            "23\n",
            "29\n",
            "31\n",
            "37\n",
            "41\n",
            "43\n",
            "47\n",
            "53\n",
            "59\n",
            "61\n",
            "67\n",
            "71\n",
            "73\n",
            "79\n",
            "83\n",
            "89\n",
            "97\n",
            "101\n",
            "103\n",
            "107\n",
            "109\n",
            "113\n",
            "127\n",
            "131\n",
            "137\n",
            "139\n",
            "149\n",
            "151\n",
            "157\n",
            "163\n",
            "167\n",
            "173\n",
            "179\n",
            "181\n",
            "191\n",
            "193\n",
            "197\n",
            "199\n"
          ]
        }
      ]
    },
    {
      "cell_type": "code",
      "source": [
        "#Q5- Create an iterator class in python that generates Fibonacci sequence upto a specified number of terms?\n",
        "#Answer- Certainly! Here's an implementation of an iterator class in Python that generates the Fibonacci sequence up to a specified number of terms:\n",
        "\n",
        "class FibonacciIterator:\n",
        "    def __init__(self, num_terms):\n",
        "        self.num_terms = num_terms\n",
        "        self.current_term = 0\n",
        "        self.prev_term = 0\n",
        "        self.next_term = 1\n",
        "\n",
        "    def __iter__(self):\n",
        "        return self\n",
        "\n",
        "    def __next__(self):\n",
        "        if self.current_term >= self.num_terms:\n",
        "            raise StopIteration\n",
        "        if self.current_term == 0:\n",
        "            self.current_term += 1\n",
        "            return 0\n",
        "        elif self.current_term == 1:\n",
        "            self.current_term += 1\n",
        "            return 1\n",
        "        else:\n",
        "            fib_value = self.prev_term + self.next_term\n",
        "            self.prev_term, self.next_term = self.next_term, fib_value\n",
        "            self.current_term += 1\n",
        "            return fib_value\n",
        "\n",
        "# Usage example:\n",
        "fib_iterator = FibonacciIterator(10)\n",
        "for num in fib_iterator:\n",
        "    print(num)"
      ],
      "metadata": {
        "colab": {
          "base_uri": "https://localhost:8080/"
        },
        "id": "J6j2O8yra69Y",
        "outputId": "b24215ab-43b9-4a29-d539-19ff1772d6cf"
      },
      "execution_count": null,
      "outputs": [
        {
          "output_type": "stream",
          "name": "stdout",
          "text": [
            "0\n",
            "1\n",
            "1\n",
            "2\n",
            "3\n",
            "5\n",
            "8\n",
            "13\n",
            "21\n",
            "34\n"
          ]
        }
      ]
    },
    {
      "cell_type": "code",
      "source": [
        "#Q6- write a generator function in python that yiels the power of 2 upto a given exponent?\n",
        "#Answer- Certainly! Here's a generator function in Python that yields the powers of 2 up to a given exponent:\n",
        "\n",
        "def power_of_2(exponent):\n",
        "    for i in range(exponent + 1):\n",
        "        yield 2 ** i\n",
        "\n",
        "# Usage example:\n",
        "for power in power_of_2(5):\n",
        "    print(power)"
      ],
      "metadata": {
        "colab": {
          "base_uri": "https://localhost:8080/"
        },
        "id": "NHg5wasJcXHt",
        "outputId": "1fd8067f-7e12-4a89-ea34-0eed868bc200"
      },
      "execution_count": null,
      "outputs": [
        {
          "output_type": "stream",
          "name": "stdout",
          "text": [
            "1\n",
            "2\n",
            "4\n",
            "8\n",
            "16\n",
            "32\n"
          ]
        }
      ]
    },
    {
      "cell_type": "code",
      "source": [
        "#Q7- implement a generator function that reads file line by line and yield every line as a string?\n",
        "#Answer- Here's a Python generator function that reads a file line by line and yields each line as a string:def read_file_line_by_line(file_path):\n",
        "    with open(file_path, 'r') as file:\n",
        "        for line in file:\n",
        "            yield line.strip()  # .strip() removes the trailing #newline\n",
        "\n",
        "\n",
        "\n",
        "file_path = 'your_file.txt'\n",
        "for line in read_file_line_by_line(file_path):\n",
        "    print(line)"
      ],
      "metadata": {
        "colab": {
          "base_uri": "https://localhost:8080/",
          "height": 159
        },
        "id": "R54mFGwcdzBx",
        "outputId": "cbd0c790-c0d4-4e90-8127-15d871d6d90d"
      },
      "execution_count": null,
      "outputs": [
        {
          "output_type": "error",
          "ename": "IndentationError",
          "evalue": "unexpected indent (<ipython-input-16-f18b133026dc>, line 3)",
          "traceback": [
            "\u001b[0;36m  File \u001b[0;32m\"<ipython-input-16-f18b133026dc>\"\u001b[0;36m, line \u001b[0;32m3\u001b[0m\n\u001b[0;31m    with open(file_path, 'r') as file:\u001b[0m\n\u001b[0m    ^\u001b[0m\n\u001b[0;31mIndentationError\u001b[0m\u001b[0;31m:\u001b[0m unexpected indent\n"
          ]
        }
      ]
    },
    {
      "cell_type": "code",
      "source": [
        "#Q8- Use a lambda function in python to sort a list of tuples based on the second element of each tuple?\n",
        "#Answer- # List of tuples\n",
        "list_of_tuples = [(1, 3), (4, 1), (2, 2), (5, 4)]\n",
        "\n",
        "# Sorting the list based on the second element of each tuple\n",
        "sorted_list = sorted(list_of_tuples, key=lambda x: x[1])\n",
        "\n",
        "print(sorted_list)"
      ],
      "metadata": {
        "id": "Yvv4IcvnXmxc",
        "colab": {
          "base_uri": "https://localhost:8080/"
        },
        "outputId": "b62390d2-44fc-44b3-ce52-74472ef3436d"
      },
      "execution_count": null,
      "outputs": [
        {
          "output_type": "stream",
          "name": "stdout",
          "text": [
            "[(4, 1), (2, 2), (1, 3), (5, 4)]\n"
          ]
        }
      ]
    },
    {
      "cell_type": "code",
      "source": [
        "#Q9- Write a python program that uses'map() ' to convert a list of temperature from celsius to fahrenheit?\n",
        "# Function to convert Celsius to Fahrenheit\n",
        "def celsius_to_fahrenheit(celsius):\n",
        "    return (celsius * 9/5) + 32\n",
        "\n",
        "# List of temperatures in Celsius\n",
        "celsius_temperatures = [0, 10, 20, 30, 40, 100]\n",
        "\n",
        "# Use map() to convert Celsius to Fahrenheit\n",
        "fahrenheit_temperatures = list(map(celsius_to_fahrenheit, celsius_temperatures))\n",
        "\n",
        "# Print the results\n",
        "print(\"Celsius Temperatures:\", celsius_temperatures)\n",
        "print(\"Fahrenheit Temperatures:\", fahrenheit_temperatures)"
      ],
      "metadata": {
        "colab": {
          "base_uri": "https://localhost:8080/"
        },
        "id": "ZgkzMii_Yuyx",
        "outputId": "70e2e4f0-af2d-4852-cd54-93840b0ae983"
      },
      "execution_count": null,
      "outputs": [
        {
          "output_type": "stream",
          "name": "stdout",
          "text": [
            "Celsius Temperatures: [0, 10, 20, 30, 40, 100]\n",
            "Fahrenheit Temperatures: [32.0, 50.0, 68.0, 86.0, 104.0, 212.0]\n"
          ]
        }
      ]
    },
    {
      "cell_type": "code",
      "source": [
        "#Q10- Create a python program that uses 'filter () ' to remove all the vowels from string?\n",
        "#Answer\n",
        "def remove_vowels(input_string):\n",
        "    # Define a function to check if a character is not a vowel\n",
        "    def is_not_vowel(char):\n",
        "        vowels = \"aeiouAEIOU\"\n",
        "        return char not in vowels\n",
        "\n",
        "    # Use filter() to remove vowels from the input string\n",
        "    filtered_chars = filter(is_not_vowel, input_string)\n",
        "\n",
        "    # Join the filtered characters into a new string\n",
        "    result_string = ''.join(filtered_chars)\n",
        "\n",
        "    return result_string\n",
        "\n",
        "# Example usage\n",
        "input_string = \"Hello, World!\"\n",
        "output_string = remove_vowels(input_string)\n",
        "print(\"Original string:\", input_string)\n",
        "print(\"String without vowels:\", output_string)"
      ],
      "metadata": {
        "colab": {
          "base_uri": "https://localhost:8080/"
        },
        "id": "rzNXk9qAaJmz",
        "outputId": "7ba44212-7d57-461e-cda3-d217e8935cd8"
      },
      "execution_count": null,
      "outputs": [
        {
          "output_type": "stream",
          "name": "stdout",
          "text": [
            "Original string: Hello, World!\n",
            "String without vowels: Hll, Wrld!\n"
          ]
        }
      ]
    },
    {
      "cell_type": "code",
      "source": [
        "Q11-"
      ],
      "metadata": {
        "id": "hmC1RrdZct9f"
      },
      "execution_count": null,
      "outputs": []
    }
  ],
  "metadata": {
    "colab": {
      "provenance": [],
      "authorship_tag": "ABX9TyOtDQT/nXYl0IqiGf4FcceU",
      "include_colab_link": true
    },
    "kernelspec": {
      "display_name": "Python 3",
      "name": "python3"
    },
    "language_info": {
      "name": "python"
    }
  },
  "nbformat": 4,
  "nbformat_minor": 0
}