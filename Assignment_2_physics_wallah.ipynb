{
  "nbformat": 4,
  "nbformat_minor": 0,
  "metadata": {
    "colab": {
      "provenance": [],
      "authorship_tag": "ABX9TyOf4qtmbfhPEzQe7RFgw4/i",
      "include_colab_link": true
    },
    "kernelspec": {
      "name": "python3",
      "display_name": "Python 3"
    },
    "language_info": {
      "name": "python"
    }
  },
  "cells": [
    {
      "cell_type": "markdown",
      "metadata": {
        "id": "view-in-github",
        "colab_type": "text"
      },
      "source": [
        "<a href=\"https://colab.research.google.com/github/gagan580/-Physics-wallah-assignment/blob/main/Assignment_2_physics_wallah.ipynb\" target=\"_parent\"><img src=\"https://colab.research.google.com/assets/colab-badge.svg\" alt=\"Open In Colab\"/></a>"
      ]
    },
    {
      "cell_type": "code",
      "execution_count": null,
      "metadata": {
        "id": "513cgUIMMXvJ"
      },
      "outputs": [],
      "source": [
        "Q1- what are data structures, and why are they important?\n",
        "Answer- Data structures are specialized way of storing and organizing data in computer to efficiently perform it's operations such as inserting,searching etc\n",
        "Data structures has main 4 functions ÷\n",
        "1. Scalability\n",
        "2. Optimization\n",
        "3. Organization\n",
        "4. Efficiency"
      ]
    },
    {
      "cell_type": "code",
      "source": [
        "#Q2- Explain the difference between mutable and immutable data types with example?\n",
        "#Answer- Mutable types can be altered directly after creation, while immutable types cannot be changed and require a new object to reflect any changes.\n",
        "#Lists and sets are mutable while tuples are immutable\n",
        "#Eg- of mutable\n",
        "a=[1, 2,3,4]\n",
        "a[0]=37\n",
        "a.append(25)\n",
        "print(a)\n",
        "#Eg of immutable\n",
        "a=(1, 2,3,4)\n",
        "a==(0) =29\n",
        "a.append (87)\n",
        "print(a)\n",
        "# you can see tuple is showing an error while changing it value"
      ],
      "metadata": {
        "id": "_OBN2om7RPK3",
        "colab": {
          "base_uri": "https://localhost:8080/",
          "height": 141
        },
        "outputId": "6e9b5c50-4c3c-4988-ee1b-c53cedf17a3b"
      },
      "execution_count": null,
      "outputs": [
        {
          "output_type": "error",
          "ename": "SyntaxError",
          "evalue": "cannot assign to comparison (<ipython-input-8-4da175f696bb>, line 11)",
          "traceback": [
            "\u001b[0;36m  File \u001b[0;32m\"<ipython-input-8-4da175f696bb>\"\u001b[0;36m, line \u001b[0;32m11\u001b[0m\n\u001b[0;31m    a==(0) =29\u001b[0m\n\u001b[0m    ^\u001b[0m\n\u001b[0;31mSyntaxError\u001b[0m\u001b[0;31m:\u001b[0m cannot assign to comparison\n"
          ]
        }
      ]
    },
    {
      "cell_type": "markdown",
      "source": [
        "Q3- what are the main difference between lists and tuples?\n",
        "Answer- The main difference between lists and tuples are that lists are mutable where as tuples are immutable."
      ],
      "metadata": {
        "id": "SOjRBDgcnqGj"
      }
    },
    {
      "cell_type": "code",
      "source": [
        "#Q4- Describe how dictionary stores data?\n",
        "#Answer-A dictionary in programming, especially in languages like Python, stores data in key-value pairs. Here's how it works:\n",
        "\n",
        "1. **Keys**: Each entry in the dictionary has a unique key, which is used to identify and access the corresponding value.\n",
        "2. **Values**: The value is the data associated with the key. It can be any data type (e.g., numbers, strings, lists, etc.).\n",
        "3. **Hashing**: Internally, dictionaries typically use a hash table for efficient lookup. The key is hashed using a hash function to determine the position in memory where the value is stored.\n",
        "4. **Storage**: The hash table stores the key-value pair at the computed location, allowing for fast retrieval of values by their keys. If two keys hash to the same location, a collision occurs, and the dictionary handles it (e.g., using techniques like chaining or open addressing).\n",
        "\n",
        "The main advantage of using a dictionary is that it allows fast lookups, insertions, and deletions, typically with an average time complexity of O(1)."
      ],
      "metadata": {
        "id": "W6Rs0jTpoLEv"
      },
      "execution_count": null,
      "outputs": []
    },
    {
      "cell_type": "markdown",
      "source": [
        "Q5 Why might you use set instead of list in python?\n",
        "Answer- You'd use a set instead of a list when you need uniqueness, faster membership tests, or to perform set operations like union and intersection. A set doesn't maintain order, whereas a list does and allows duplicates."
      ],
      "metadata": {
        "id": "Ss3VdT7zo3St"
      }
    },
    {
      "cell_type": "markdown",
      "source": [
        "Q6 what is a string in python and how it is different from list?\n",
        "Answer- In Python, a string is a sequence of characters enclosed in single, double, or triple quotes, used to represent text. A string is immutable, meaning its content cannot be changed once created. A list, on the other hand, is a collection of ordered elements that can be of different types and is mutable, meaning its elements can be modified or updated."
      ],
      "metadata": {
        "id": "-hvFGpkKpr5J"
      }
    },
    {
      "cell_type": "markdown",
      "source": [
        " Q7_How do tuples insured data integrity in python?\n",
        "Answer- Tuples in Python ensure data integrity by being immutable, meaning once a tuple is created, its contents cannot be changed. This immutability prevents accidental modification or corruption of data. Any operation that attempts to modify a tuple will result in an error, thereby preserving the integrity of the data stored within. Tuples are commonly used when data should remain constant throughout the program."
      ],
      "metadata": {
        "id": "HSUclvqFqQq1"
      }
    },
    {
      "cell_type": "markdown",
      "source": [
        "Q8_ What is a hash table and how does it relate to dictionaries in python?\n",
        "Answer- A hash table is a data structure that stores key-value pairs, where keys are hashed into indices of an array, allowing for efficient retrieval, insertion, and deletion. In Python, dictionaries (dict) are implemented using hash tables, meaning they use hashing to quickly look up, add, or remove values based on their keys. The key-value pair is stored in such a way that the key's hash value determines the index where the value is stored, ensuring fast access."
      ],
      "metadata": {
        "id": "tuKgefTCq84Y"
      }
    },
    {
      "cell_type": "markdown",
      "source": [
        "Q10- Explain why strings are immutable in python?\n",
        "Answer- Strings in Python are immutable because their contents cannot be changed once they are created. This design decision enhances performance and safety by preventing accidental modification of string data. Since strings are often used in multiple places, immutability ensures that any change to one string does not affect others that reference the same string. It also allows strings to be stored more efficiently, such as through interning (reusing identical strings)."
      ],
      "metadata": {
        "id": "BIyqctKmrqJo"
      }
    },
    {
      "cell_type": "markdown",
      "source": [
        "\n",
        "Q9_can list contains different data types in python?\n",
        "Answer- Yes, a list in Python can contain elements of different data types. For example, a list can store integers, strings, floats, and even other lists or objects within a single list. This flexibility makes lists a versatile data structure in Python."
      ],
      "metadata": {
        "id": "0Jg2zlnVsGz_"
      }
    },
    {
      "cell_type": "markdown",
      "source": [
        "Q11_ what advantages do dictionaries offer over list in python?\n",
        "Answer- Dictionaries in Python offer several advantages over lists:\n",
        "\n",
        "\n",
        "Faster lookups: Dictionaries provide average O(1) time complexity for key-based lookups, while lists require O(n) for searching an item.\n",
        "Key-value pairs: Dictionaries store data in key-value pairs, making them ideal for mapping relationships, whereas lists only store ordered collections of items.\n",
        "No duplicates: Dictionary keys are unique, which prevents accidental duplication of data, unlike lists where duplicates are allowed.\n",
        "Flexible keys: Dictionaries allow any immutable type (like strings, numbers, or tuples) as keys, while lists are restricted to ordered elements.\n",
        "\n",
        "These characteristics make dictionaries more efficient for tasks requiring fast access and organization of data."
      ],
      "metadata": {
        "id": "TDmfrNcgtIdI"
      }
    },
    {
      "cell_type": "code",
      "source": [
        "Q12- Describe a situation where tuple is more preferable over list?\n",
        "Answer- A tuple is more preferable over a list in situations where the data is immutable and should not be modified after creation. For example, when you need to store a collection of coordinates, such as (latitude, longitude), and want to ensure that the data remains constant throughout the program, a tuple would be a better choice. Since tuples are immutable, they prevent accidental modifications, which helps maintain data integrity and can also improve performance due to their fixed size.\n",
        "\n",
        "Here's a scenario:\n",
        "\n",
        "You are developing a mapping application that processes location coordinates. These coordinates should not be altered after being set, as altering them could lead to errors in mapping and navigation. Using a tuple for each set of coordinates (e.g., (51.5074, -0.1278) for London) guarantees that the data stays constant and ensures that the program does not inadvertently modify the values."
      ],
      "metadata": {
        "id": "v9YhSQGNuFmp"
      },
      "execution_count": null,
      "outputs": []
    },
    {
      "cell_type": "code",
      "source": [
        "#Q13- How do sets handle duplicate values in python?\n",
        "#Answer- In Python, sets automatically handle duplicate values by removing them. A set is an unordered collection of unique elements, meaning that if you attempt to add a duplicate value, it will simply be ignored.\n",
        "\n",
        "#For example:\n",
        "\n",
        "my_set = {1, 2, 3, 2, 4}\n",
        "print(my_set)\n",
        "\n",
        "\n",
        "\n",
        "\n",
        "\n",
        "#In this example, the duplicate value 2 is only stored once in the set."
      ],
      "metadata": {
        "colab": {
          "base_uri": "https://localhost:8080/"
        },
        "id": "4J6assQZvTln",
        "outputId": "f1cb03b8-dc49-4715-db41-8c2bb00388e0"
      },
      "execution_count": null,
      "outputs": [
        {
          "output_type": "stream",
          "name": "stdout",
          "text": [
            "{1, 2, 3, 4}\n"
          ]
        }
      ]
    },
    {
      "cell_type": "code",
      "source": [
        "#Q14- How does this \"in\" Keyword work differently for lists and dictionaries?\n",
        "#Answer- In Python, the in keyword works differently for lists and dictionaries:\n",
        "\n",
        "\n",
        "\n",
        "#For lists: The in keyword checks if a specified value is present in the list. It returns True if the value exists, and False otherwise. It checks the values of the list, not the indices.\n",
        "\n",
        "#Example:\n",
        "\n",
        "my_list = [1, 2, 3]\n",
        "print(2 in my_list)  # True\n",
        "\n",
        "\n",
        "\n",
        "#For dictionaries: The in keyword checks if a specified key is present in the dictionary, not the value. It returns True if the key exists, and False otherwise.\n",
        "\n",
        "#Example:\n",
        "\n",
        "my_dict = {'a': 1, 'b': 2}\n",
        "print('a' in my_dict)  # True\n",
        "\n",
        "\n",
        "\n",
        "\n",
        "\n",
        "\n",
        "#For lists, in checks for presence of a value.\n",
        "#For dictionaries, in checks for presence of a key."
      ],
      "metadata": {
        "id": "EFnZiZu5wdSX",
        "colab": {
          "base_uri": "https://localhost:8080/"
        },
        "outputId": "d29b2db8-7fb0-43d9-aef8-beaf45418505"
      },
      "execution_count": null,
      "outputs": [
        {
          "output_type": "stream",
          "name": "stdout",
          "text": [
            "True\n",
            "True\n"
          ]
        }
      ]
    },
    {
      "cell_type": "markdown",
      "source": [
        "Q15- Can you modify the elements in tuples? Why or why not?\n",
        "Answer- No, you cannot modify the elements of a tuple in Python because tuples are immutable. Once a tuple is created, its values cannot be changed, added, or removed. This immutability ensures that the data stored in a tuple remains constant throughout the program."
      ],
      "metadata": {
        "id": "MHIwHTUSyUSq"
      }
    },
    {
      "cell_type": "code",
      "source": [
        "Q17- Describe the time complexity of accesing elements in dictionaries?\n",
        "Answer- Accessing elements in a dictionary typically has an average time complexity of O(1), meaning it is done in constant time. This is because dictionaries use hash tables, where keys are hashed to quickly find their associated values. However, in the worst case (e.g., if many keys collide), the time complexity can degrade to O(n), where n is the number of elements in the dictionary."
      ],
      "metadata": {
        "id": "Tf6TDD66y7if"
      },
      "execution_count": null,
      "outputs": []
    },
    {
      "cell_type": "markdown",
      "source": [
        "Q18_ In what situation lists are preferable over dictionaries?\n",
        "Answer- Lists are preferable over dictionaries when you need to maintain an ordered collection of items, or when you need to frequently access elements by their position (index) rather than by a unique key. Lists are also more memory-efficient when the data consists of simple sequences, such as numbers or strings, and the relationship between elements doesn't require key-value pairs."
      ],
      "metadata": {
        "id": "hCZ9BR4CMuvn"
      }
    },
    {
      "cell_type": "markdown",
      "source": [
        "Q19_why are dictionaries considered unordered and how does that effect data retrieval?\n",
        "Answer_ Dictionaries in Python are considered unordered because the key-value pairs are stored in a way that does not guarantee any specific order. This means that the order in which elements are added to the dictionary is not preserved. In Python versions before 3.7, dictionaries explicitly did not maintain order, but since Python 3.7, they do maintain insertion order, though this is not their primary characteristic.\n",
        "\n",
        "As for data retrieval, being unordered does not affect the efficiency of accessing elements. Keys can still be used to quickly retrieve their corresponding values via hashing, which allows for average time complexity of O(1) for lookups. However, since the order of elements isn't guaranteed (in versions prior to 3.7), you cannot rely on the dictionary to maintain a specific order unless you explicitly sort or use ordered data structures like OrderedDict."
      ],
      "metadata": {
        "id": "QJ-VT5G8NcPr"
      }
    },
    {
      "cell_type": "markdown",
      "source": [
        "Q20_ Explain the difference between the list and dictionaries on the bases of data retrivel?\n",
        "Answer- The main difference between lists and dictionaries in terms of data retrieval lies in how data is accessed:\n",
        "\n",
        "\n",
        "\n",
        "List: Data is retrieved using an index. Lists store elements in a sequential order, and you access an element by specifying its position (index) in the list.\n",
        "\n",
        "Example: my_list[2] retrieves the third element from the list.\n",
        "\n",
        "\n",
        "\n",
        "Dictionary: Data is retrieved using keys. Dictionaries store key-value pairs, and you access the value by specifying the key.\n",
        "\n",
        "Example: my_dict[\"key1\"] retrieves the value associated with \"key1\".\n",
        "\n",
        "\n",
        "\n",
        "In summary, lists use numerical indices for retrieval, while dictionaries use unique keys."
      ],
      "metadata": {
        "id": "PozYTRTgFuIR"
      }
    },
    {
      "cell_type": "code",
      "source": [
        "#Practical questions"
      ],
      "metadata": {
        "id": "ULM8HAoxGQuC"
      },
      "execution_count": null,
      "outputs": []
    },
    {
      "cell_type": "code",
      "source": [
        "#Q1- write a code to create a string with your name and print it?\n",
        "#Answer-\n",
        "a=\"Gagandeep Singh\"\n",
        "print(f\"My Name is {a}\")"
      ],
      "metadata": {
        "id": "sUlc_dsIGWPN",
        "colab": {
          "base_uri": "https://localhost:8080/"
        },
        "outputId": "d9cce4c3-f7f2-4a96-99f1-129c06589c8e"
      },
      "execution_count": null,
      "outputs": [
        {
          "output_type": "stream",
          "name": "stdout",
          "text": [
            "My Name is Gagandeep Singh\n"
          ]
        }
      ]
    },
    {
      "cell_type": "code",
      "source": [
        "#Q2- Write a code to find the length of the string \"Hello world\"?\n",
        "#Answer-\n",
        "a= \"Hello world\"\n",
        "print(len(a))"
      ],
      "metadata": {
        "colab": {
          "base_uri": "https://localhost:8080/"
        },
        "id": "ck7pdZ14HsBc",
        "outputId": "4dfe3d0c-6da3-4f9c-e3a1-893c1832f26c"
      },
      "execution_count": null,
      "outputs": [
        {
          "output_type": "stream",
          "name": "stdout",
          "text": [
            "11\n"
          ]
        }
      ]
    },
    {
      "cell_type": "code",
      "source": [
        "#Q3- Write a code to slice the first 3 character from the string \"python programming\"?\n",
        "#Answer-\n",
        "a=\"python programming\"\n",
        "sliced_string=a[:3]\n",
        "print(sliced_string)"
      ],
      "metadata": {
        "colab": {
          "base_uri": "https://localhost:8080/"
        },
        "id": "7C03ewDcIU58",
        "outputId": "414eef36-6b34-4242-db36-070c51a67592"
      },
      "execution_count": null,
      "outputs": [
        {
          "output_type": "stream",
          "name": "stdout",
          "text": [
            "pyt\n"
          ]
        }
      ]
    },
    {
      "cell_type": "code",
      "source": [
        "#Q4- write a code to convert the string \"hello\" to uppercase?\n",
        "#Answer-\n",
        "a=\"hello\"\n",
        "print (a.upper())"
      ],
      "metadata": {
        "colab": {
          "base_uri": "https://localhost:8080/"
        },
        "id": "2AD8nax5Kj0o",
        "outputId": "8b5bcd18-5c4c-41c0-fe79-494469efef64"
      },
      "execution_count": null,
      "outputs": [
        {
          "output_type": "stream",
          "name": "stdout",
          "text": [
            "HELLO\n"
          ]
        }
      ]
    },
    {
      "cell_type": "code",
      "source": [
        "#Q5- write a code to replace the word \"apple\"  with \"orange\" in the string \"I like apple\"?\n",
        "#Answer-\n",
        "a= \" I like apple\"\n",
        "print (a.replace(\"apple\",\"orange\"))"
      ],
      "metadata": {
        "colab": {
          "base_uri": "https://localhost:8080/"
        },
        "id": "FFpK3_2KLtqT",
        "outputId": "e6069cb7-32d2-4316-a739-349f7ee35d1a"
      },
      "execution_count": null,
      "outputs": [
        {
          "output_type": "stream",
          "name": "stdout",
          "text": [
            " I like orange\n"
          ]
        }
      ]
    },
    {
      "cell_type": "code",
      "source": [
        "#Q6- Write a code to create a list with number 1 to 5 and print it?\n",
        "#Answer-\n",
        "a=[1, 2,3,4,5]\n",
        "print(a)"
      ],
      "metadata": {
        "id": "iFIhO578Nu_P",
        "colab": {
          "base_uri": "https://localhost:8080/"
        },
        "outputId": "e0f87c02-9806-4a75-e2f0-1979dee82c59"
      },
      "execution_count": null,
      "outputs": [
        {
          "output_type": "stream",
          "name": "stdout",
          "text": [
            "[1, 2, 3, 4, 5]\n"
          ]
        }
      ]
    },
    {
      "cell_type": "code",
      "source": [
        "#Q7- Write a code to append the number 10 to the list [1, 2,3,4]?\n",
        "#Answer-\n",
        "a=[1,2,3,4]\n",
        "a.append (10)\n",
        "print(a)"
      ],
      "metadata": {
        "colab": {
          "base_uri": "https://localhost:8080/"
        },
        "id": "HA3hZxhtkyqr",
        "outputId": "506f047d-1472-4ffd-b7bf-ac54a02290d7"
      },
      "execution_count": null,
      "outputs": [
        {
          "output_type": "stream",
          "name": "stdout",
          "text": [
            "[1, 2, 3, 4, 10]\n"
          ]
        }
      ]
    },
    {
      "cell_type": "code",
      "source": [
        "#Q8- write a code to remove the number 3 from the list [1, 2,3,4,5]?\n",
        "#Answer-\n",
        "a=[1,2,3,4,5]\n",
        "a.remove (3)\n",
        "print (a)"
      ],
      "metadata": {
        "colab": {
          "base_uri": "https://localhost:8080/"
        },
        "id": "yI0XS5_El2ss",
        "outputId": "557043e7-ab43-4b20-e2d0-724eb2a4a762"
      },
      "execution_count": null,
      "outputs": [
        {
          "output_type": "stream",
          "name": "stdout",
          "text": [
            "[1, 2, 4, 5]\n"
          ]
        }
      ]
    },
    {
      "cell_type": "code",
      "source": [
        "#Q9- Write a code to acess the second element in the list['a','b','c', 'd']? ]?\n",
        "#Answer-\n",
        "a= ['a','b','c','d']\n",
        "print(a[2])"
      ],
      "metadata": {
        "colab": {
          "base_uri": "https://localhost:8080/"
        },
        "id": "GqHgL6zBmVgp",
        "outputId": "7f908945-d5a0-4e4e-e30d-1945f3d8dfe8"
      },
      "execution_count": null,
      "outputs": [
        {
          "output_type": "stream",
          "name": "stdout",
          "text": [
            "c\n"
          ]
        }
      ]
    },
    {
      "cell_type": "code",
      "source": [
        "#Q10- Write a code to reverse the list[10, 20,30,40,50]?\n",
        "#Answer-\n",
        "a=[10, 20,30,40,50]\n",
        "a. reverse()\n",
        "print(a)"
      ],
      "metadata": {
        "colab": {
          "base_uri": "https://localhost:8080/"
        },
        "id": "HQhhTg4-ng26",
        "outputId": "22a41812-b099-46d1-c6ce-ae43cd7f6501"
      },
      "execution_count": null,
      "outputs": [
        {
          "output_type": "stream",
          "name": "stdout",
          "text": [
            "[50, 40, 30, 20, 10]\n"
          ]
        }
      ]
    },
    {
      "cell_type": "code",
      "source": [
        "#Q11- Write a code to create a tuple with elements 10,20,30 and print it?\n",
        "#Answer-\n",
        "a= (10, 20,30)\n",
        "print (a)"
      ],
      "metadata": {
        "colab": {
          "base_uri": "https://localhost:8080/"
        },
        "id": "1Dg9MiHgnWMk",
        "outputId": "3dfad5d8-42f9-4df6-9c1e-706d2ab8f9df"
      },
      "execution_count": null,
      "outputs": [
        {
          "output_type": "stream",
          "name": "stdout",
          "text": [
            "(10, 20, 30)\n"
          ]
        }
      ]
    },
    {
      "cell_type": "code",
      "source": [
        "#Q12- Write a code to acess the first element of the tuple ('apple', 'bannana', 'cherry)?\n",
        "#Answer-\n",
        "a= ('apple', 'bannana', 'cherry')\n",
        "print(a[1])"
      ],
      "metadata": {
        "colab": {
          "base_uri": "https://localhost:8080/"
        },
        "id": "qtTGG6A7n5uN",
        "outputId": "b5a2a9ba-e758-4b5f-c3f9-ef633fd691ac"
      },
      "execution_count": null,
      "outputs": [
        {
          "output_type": "stream",
          "name": "stdout",
          "text": [
            "bannana\n"
          ]
        }
      ]
    },
    {
      "cell_type": "code",
      "source": [
        "#Q13- write a code to count how many times the number 2 appear in  tuple(1, 2,3,2,4,2)\n",
        "#Answer-\n",
        "a= (1,2,3,2,4,2)\n",
        "print (a.count(2))"
      ],
      "metadata": {
        "colab": {
          "base_uri": "https://localhost:8080/"
        },
        "id": "5so4qdoko5y4",
        "outputId": "b038d370-b810-4a77-fcdb-c8980c216b9f"
      },
      "execution_count": null,
      "outputs": [
        {
          "output_type": "stream",
          "name": "stdout",
          "text": [
            "3\n"
          ]
        }
      ]
    },
    {
      "cell_type": "code",
      "source": [
        "#Q14- Write a code to find the index of the element 'cat' in the tuple ('dog', 'cat', 'rabbit')\n",
        "#Answer-\n",
        "a=('dog','cat','rabbit')\n",
        "print (a.index('cat'))"
      ],
      "metadata": {
        "colab": {
          "base_uri": "https://localhost:8080/"
        },
        "id": "dVaYdfump1mS",
        "outputId": "4b528cdc-699c-4b4d-bcbf-60a4f2ea0621"
      },
      "execution_count": null,
      "outputs": [
        {
          "output_type": "stream",
          "name": "stdout",
          "text": [
            "1\n"
          ]
        }
      ]
    },
    {
      "cell_type": "code",
      "source": [
        "#Q15- write a code to check if the element 'bannana' in tuple ('apple','orange','bannana')\n",
        "#Answer-\n",
        "a= ('apple','orange','bannana')\n",
        "if 'bannana' in a:\n",
        "   print(\"Yes bannana is in tuple\")\n",
        "else:\n",
        "   print(\"bannana is not in tuple\")"
      ],
      "metadata": {
        "colab": {
          "base_uri": "https://localhost:8080/"
        },
        "id": "ApHCdnvIq9YY",
        "outputId": "5b4f07b7-fa14-44d0-f9c8-b07383dc4788"
      },
      "execution_count": null,
      "outputs": [
        {
          "output_type": "stream",
          "name": "stdout",
          "text": [
            "Yes bannana is in tuple\n"
          ]
        }
      ]
    },
    {
      "cell_type": "code",
      "source": [
        "#Q16- Write a code to create a set with elements1,2,3,4,5 and print it?\n",
        "#Answer-\n",
        "a={1,2, 3,4,5}\n",
        "print (a)"
      ],
      "metadata": {
        "id": "3iaaM8wAtqRz",
        "colab": {
          "base_uri": "https://localhost:8080/"
        },
        "outputId": "b5fd2a67-f6b8-4319-90ff-431632bd200b"
      },
      "execution_count": null,
      "outputs": [
        {
          "output_type": "stream",
          "name": "stdout",
          "text": [
            "Object `it` not found.\n",
            "{1, 2, 3, 4, 5}\n"
          ]
        }
      ]
    },
    {
      "cell_type": "code",
      "source": [
        "#Q17 - Write a code to add the element 6 to the set{1, 2,3,4}?\n",
        "#Answer-\n",
        "a= {1,2,3,4}\n",
        "a.add(6)\n",
        "print (a)"
      ],
      "metadata": {
        "colab": {
          "base_uri": "https://localhost:8080/"
        },
        "id": "9IOGV2QkupMs",
        "outputId": "c9bd2165-7f9d-4c79-91ab-5376cf1ff036"
      },
      "execution_count": null,
      "outputs": [
        {
          "output_type": "stream",
          "name": "stdout",
          "text": [
            "{1, 2, 3, 4, 6}\n"
          ]
        }
      ]
    },
    {
      "cell_type": "code",
      "source": [
        "#Q18- Write a code to create the tuple with element10, 20,30 and print it?\n",
        "#Answer-\n",
        "a=(10, 20,30)\n",
        "print(a)"
      ],
      "metadata": {
        "id": "OXp787OOvpOu",
        "colab": {
          "base_uri": "https://localhost:8080/"
        },
        "outputId": "aa3d1126-2122-46b7-b776-da25fbe3b615"
      },
      "execution_count": null,
      "outputs": [
        {
          "output_type": "stream",
          "name": "stdout",
          "text": [
            "(10, 20, 30)\n"
          ]
        }
      ]
    },
    {
      "cell_type": "code",
      "source": [
        "#Q19-Write a code to acess the first element of the tuple ('apple', 'bannana', 'cherry')\n",
        "#Answer-\n",
        "a= ('apple', 'bannana', 'cherry')\n",
        "print(a[1])"
      ],
      "metadata": {
        "colab": {
          "base_uri": "https://localhost:8080/"
        },
        "id": "ueHz3aMDwhMW",
        "outputId": "7579b3f0-ab88-4495-d566-7c0827682246"
      },
      "execution_count": null,
      "outputs": [
        {
          "output_type": "stream",
          "name": "stdout",
          "text": [
            "bannana\n"
          ]
        }
      ]
    },
    {
      "cell_type": "code",
      "source": [
        "#Q20write a code to count how many times the number 2 appear in  tuple(1, 2,3,2,4,2)#Answer-\n",
        "a= (1,2,3,2,4,2)\n",
        "print (a.count(2))"
      ],
      "metadata": {
        "colab": {
          "base_uri": "https://localhost:8080/"
        },
        "id": "P-cE_Xq0xClT",
        "outputId": "56cbe5bd-f47b-4f3f-bb42-c28ceb9df00c"
      },
      "execution_count": null,
      "outputs": [
        {
          "output_type": "stream",
          "name": "stdout",
          "text": [
            "3\n"
          ]
        }
      ]
    },
    {
      "cell_type": "code",
      "source": [
        "#Q21- Write a code to find the index of the element 'cat' in the tuple ('dog', 'cat', 'rabbit')#Answer-\n",
        "a=('dog','cat','rabbit')\n",
        "print (a.index('cat'))"
      ],
      "metadata": {
        "colab": {
          "base_uri": "https://localhost:8080/"
        },
        "id": "hWzadVe9xQM_",
        "outputId": "59d3dcaa-0ace-4e49-8c15-c1c270aa531c"
      },
      "execution_count": null,
      "outputs": [
        {
          "output_type": "stream",
          "name": "stdout",
          "text": [
            "1\n"
          ]
        }
      ]
    },
    {
      "cell_type": "code",
      "source": [
        "#Q22- write a code to check if the element 'bannana' in tuple ('apple','orange','bannana')#Answer-\n",
        "a= ('apple','orange','bannana')\n",
        "if 'bannana' in a:\n",
        "   print(\"Yes bannana is in tuple\")\n",
        "else:\n",
        "   print(\"bannana is not in tuple\")"
      ],
      "metadata": {
        "colab": {
          "base_uri": "https://localhost:8080/"
        },
        "id": "JoiylcEBxg3s",
        "outputId": "059eeb83-165e-49cc-f916-edb0737e745c"
      },
      "execution_count": null,
      "outputs": [
        {
          "output_type": "stream",
          "name": "stdout",
          "text": [
            "Yes bannana is in tuple\n"
          ]
        }
      ]
    },
    {
      "cell_type": "code",
      "source": [
        "#Q23-Write a code to create a set with elements1,2,3,4,5 and print it?#Answer-\n",
        "a={1,2, 3,4,5}\n",
        "print (a)"
      ],
      "metadata": {
        "colab": {
          "base_uri": "https://localhost:8080/"
        },
        "id": "ac7VaDFwxyGB",
        "outputId": "d94c487f-e7f6-4c1b-94d8-93d29a28e4aa"
      },
      "execution_count": null,
      "outputs": [
        {
          "output_type": "stream",
          "name": "stdout",
          "text": [
            "{1, 2, 3, 4, 5}\n"
          ]
        }
      ]
    },
    {
      "cell_type": "code",
      "source": [
        "#Q24-Write a code to add the element 6 to the set{1, 2,3,4}?#Answer-\n",
        "a= {1,2,3,4}\n",
        "a.add(6)\n",
        "print (a)"
      ],
      "metadata": {
        "colab": {
          "base_uri": "https://localhost:8080/"
        },
        "id": "YluNx_H2yDNd",
        "outputId": "8054c702-f9fd-493d-998c-c3e93e7149dd"
      },
      "execution_count": null,
      "outputs": [
        {
          "output_type": "stream",
          "name": "stdout",
          "text": [
            "{1, 2, 3, 4, 6}\n"
          ]
        }
      ]
    }
  ]
}